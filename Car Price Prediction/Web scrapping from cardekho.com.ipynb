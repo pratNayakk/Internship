{
 "cells": [
  {
   "cell_type": "markdown",
   "id": "ec61b263",
   "metadata": {},
   "source": [
    "######  Web scrapping from cardekho.com"
   ]
  },
  {
   "cell_type": "code",
   "execution_count": 120,
   "id": "b0040f6e",
   "metadata": {},
   "outputs": [],
   "source": [
    "import pandas as pd\n",
    "import numpy as pd\n",
    "import time\n",
    "import selenium\n",
    "from selenium import webdriver\n",
    "from selenium.webdriver.common.by import By\n",
    "from selenium.common.exceptions import StaleElementReferenceException, NoSuchElementException"
   ]
  },
  {
   "cell_type": "code",
   "execution_count": 121,
   "id": "5ab2707c",
   "metadata": {},
   "outputs": [
    {
     "name": "stderr",
     "output_type": "stream",
     "text": [
      "C:\\Users\\prath\\AppData\\Local\\Temp\\ipykernel_1392\\437299702.py:1: DeprecationWarning: executable_path has been deprecated, please pass in a Service object\n",
      "  driver = webdriver.Chrome(r'C:\\Users\\prath\\Downloads\\Compressed\\chromedriver_win32\\chromedriver.exe')\n"
     ]
    }
   ],
   "source": [
    "driver = webdriver.Chrome(r'C:\\Users\\prath\\Downloads\\Compressed\\chromedriver_win32\\chromedriver.exe')"
   ]
  },
  {
   "cell_type": "code",
   "execution_count": 122,
   "id": "fe0b3848",
   "metadata": {},
   "outputs": [],
   "source": [
    "url = \"https://www.cardekho.com/\"\n",
    "driver.get(url)\n",
    "time.sleep(2)"
   ]
  },
  {
   "cell_type": "code",
   "execution_count": 123,
   "id": "efa278d2",
   "metadata": {},
   "outputs": [],
   "source": [
    "Used_cars=driver.find_element(By.XPATH,'//li[@data-slug=\"/usedCars\"]/a').get_attribute('href')\n",
    "driver.get(Used_cars)\n",
    "time.sleep(2)"
   ]
  },
  {
   "cell_type": "markdown",
   "id": "3a39b368",
   "metadata": {},
   "source": [
    "###### Data from Bangalore city"
   ]
  },
  {
   "cell_type": "code",
   "execution_count": 124,
   "id": "adf4641f",
   "metadata": {},
   "outputs": [],
   "source": [
    "url = \"https://www.cardekho.com/used-cars+in+bangalore\"\n",
    "driver.get(url)\n",
    "time.sleep(2)"
   ]
  },
  {
   "cell_type": "code",
   "execution_count": 125,
   "id": "c0f0dc9a",
   "metadata": {},
   "outputs": [
    {
     "name": "stderr",
     "output_type": "stream",
     "text": [
      "100%|████████████████████████████████████████████████████████████████████████████████| 300/300 [12:30<00:00,  2.50s/it]\n"
     ]
    }
   ],
   "source": [
    "from tqdm import tqdm\n",
    "for _ in tqdm(range(0,300)):\n",
    "    time.sleep(0.75)\n",
    "    driver.execute_script(\"window.scrollBy(0,1000)\",\"\")\n",
    "    time.sleep(1)\n",
    "    driver.execute_script(\"window.scrollBy(0,-350)\")"
   ]
  },
  {
   "cell_type": "code",
   "execution_count": 126,
   "id": "25ba2982",
   "metadata": {},
   "outputs": [
    {
     "name": "stderr",
     "output_type": "stream",
     "text": [
      "100%|██████████████████████████████████████████████████████████████████████████████| 1677/1677 [01:00<00:00, 27.93it/s]\n"
     ]
    }
   ],
   "source": [
    "Car_url_bangalore = []\n",
    "car_url_bangalore = driver.find_elements(By.XPATH,'//div[@class=\"gsc_col-xs-7  carsName\"]/a')   \n",
    "for j in tqdm(range(len(car_url_bangalore))):\n",
    "    Car_url_bangalore.append(car_url_bangalore[j].get_attribute('href'))\n",
    "time.sleep(2)"
   ]
  },
  {
   "cell_type": "code",
   "execution_count": 127,
   "id": "d14c48da",
   "metadata": {},
   "outputs": [
    {
     "data": {
      "text/plain": [
       "1677"
      ]
     },
     "execution_count": 127,
     "metadata": {},
     "output_type": "execute_result"
    }
   ],
   "source": [
    "len(Car_url_bangalore)"
   ]
  },
  {
   "cell_type": "markdown",
   "id": "306bc3df",
   "metadata": {},
   "source": [
    "######  Data from Ahmedabad city"
   ]
  },
  {
   "cell_type": "code",
   "execution_count": 128,
   "id": "1fdc2cac",
   "metadata": {},
   "outputs": [],
   "source": [
    "url = \"https://www.cardekho.com/used-cars+in+ahmedabad\"\n",
    "driver.get(url)\n",
    "time.sleep(2)"
   ]
  },
  {
   "cell_type": "code",
   "execution_count": 129,
   "id": "c5618a1e",
   "metadata": {},
   "outputs": [
    {
     "name": "stderr",
     "output_type": "stream",
     "text": [
      "100%|████████████████████████████████████████████████████████████████████████████████| 200/200 [05:07<00:00,  1.54s/it]\n"
     ]
    }
   ],
   "source": [
    "from tqdm import tqdm\n",
    "for _ in tqdm(range(0,200)):\n",
    "    time.sleep(0.5)\n",
    "    driver.execute_script(\"window.scrollBy(0,1000)\",\"\")\n",
    "    time.sleep(1)\n",
    "    driver.execute_script(\"window.scrollBy(0,-350)\")"
   ]
  },
  {
   "cell_type": "code",
   "execution_count": 130,
   "id": "f3166b29",
   "metadata": {},
   "outputs": [
    {
     "name": "stderr",
     "output_type": "stream",
     "text": [
      "100%|██████████████████████████████████████████████████████████████████████████████████| 20/20 [00:00<00:00, 82.46it/s]\n"
     ]
    }
   ],
   "source": [
    "Car_url_ahmedabad = []\n",
    "car_url_ahmedabad = driver.find_elements(By.XPATH,'//div[@class=\"gsc_col-xs-7  carsName\"]/a')   \n",
    "for j in tqdm(range(len(car_url_ahmedabad))):\n",
    "    Car_url_ahmedabad.append(car_url_ahmedabad[j].get_attribute('href'))\n",
    "time.sleep(2)"
   ]
  },
  {
   "cell_type": "code",
   "execution_count": 131,
   "id": "7a3fc996",
   "metadata": {},
   "outputs": [
    {
     "data": {
      "text/plain": [
       "20"
      ]
     },
     "execution_count": 131,
     "metadata": {},
     "output_type": "execute_result"
    }
   ],
   "source": [
    "len(Car_url_ahmedabad)"
   ]
  },
  {
   "cell_type": "markdown",
   "id": "64bb10be",
   "metadata": {},
   "source": [
    "###### Data from Dehli-NCR"
   ]
  },
  {
   "cell_type": "code",
   "execution_count": 132,
   "id": "76faa5c1",
   "metadata": {},
   "outputs": [],
   "source": [
    "url = \"https://www.cardekho.com/used-cars+in+delhi-ncr\"\n",
    "driver.get(url)\n",
    "time.sleep(2)"
   ]
  },
  {
   "cell_type": "code",
   "execution_count": 133,
   "id": "73284708",
   "metadata": {},
   "outputs": [
    {
     "name": "stderr",
     "output_type": "stream",
     "text": [
      "100%|████████████████████████████████████████████████████████████████████████████| 1100/1100 [1:35:52<00:00,  5.23s/it]\n"
     ]
    }
   ],
   "source": [
    "from tqdm import tqdm\n",
    "for _ in tqdm(range(0,1100)):\n",
    "    time.sleep(0.5)\n",
    "    driver.execute_script(\"window.scrollBy(0,1500)\",\"\")\n",
    "    time.sleep(1)\n",
    "    driver.execute_script(\"window.scrollBy(0,-500)\")"
   ]
  },
  {
   "cell_type": "code",
   "execution_count": 134,
   "id": "33775dd4",
   "metadata": {},
   "outputs": [
    {
     "name": "stderr",
     "output_type": "stream",
     "text": [
      "100%|████████████████████████████████████████████████████████████████████████████| 3853/3853 [1:42:42<00:00,  1.60s/it]\n"
     ]
    }
   ],
   "source": [
    "Car_url_delhi_ncr = []\n",
    "car_url_delhi_ncr = driver.find_elements(By.XPATH,'//div[@class=\"gsc_col-xs-7  carsName\"]/a')   \n",
    "for j in tqdm(range(len(car_url_delhi_ncr))):\n",
    "    Car_url_delhi_ncr.append(car_url_delhi_ncr[j].get_attribute('href'))\n",
    "time.sleep(2)"
   ]
  },
  {
   "cell_type": "code",
   "execution_count": 135,
   "id": "1970d4f9",
   "metadata": {},
   "outputs": [
    {
     "data": {
      "text/plain": [
       "3853"
      ]
     },
     "execution_count": 135,
     "metadata": {},
     "output_type": "execute_result"
    }
   ],
   "source": [
    "len(Car_url_delhi_ncr)"
   ]
  },
  {
   "cell_type": "markdown",
   "id": "c72e2666",
   "metadata": {},
   "source": [
    "###### Data  from Chennai"
   ]
  },
  {
   "cell_type": "code",
   "execution_count": 136,
   "id": "481cb47e",
   "metadata": {},
   "outputs": [],
   "source": [
    "url = \"https://www.cardekho.com/used-cars+in+chennai\"\n",
    "driver.get(url)\n",
    "time.sleep(2)"
   ]
  },
  {
   "cell_type": "code",
   "execution_count": 137,
   "id": "954515c8",
   "metadata": {},
   "outputs": [
    {
     "name": "stderr",
     "output_type": "stream",
     "text": [
      "100%|████████████████████████████████████████████████████████████████████████████████| 250/250 [06:59<00:00,  1.68s/it]\n"
     ]
    }
   ],
   "source": [
    "from tqdm import tqdm\n",
    "for _ in tqdm(range(0,250)):\n",
    "    time.sleep(0.5)\n",
    "    driver.execute_script(\"window.scrollBy(0,1000)\",\"\")\n",
    "    time.sleep(1)\n",
    "    driver.execute_script(\"window.scrollBy(0,-350)\")"
   ]
  },
  {
   "cell_type": "code",
   "execution_count": 138,
   "id": "565510c3",
   "metadata": {},
   "outputs": [
    {
     "name": "stderr",
     "output_type": "stream",
     "text": [
      "100%|████████████████████████████████████████████████████████████████████████████████| 994/994 [00:15<00:00, 65.73it/s]\n"
     ]
    }
   ],
   "source": [
    "Car_url_chennai = []\n",
    "car_url_chennai = driver.find_elements(By.XPATH,'//div[@class=\"gsc_col-xs-7  carsName\"]/a')   \n",
    "for j in tqdm(range(len(car_url_chennai))):\n",
    "    Car_url_chennai.append(car_url_chennai[j].get_attribute('href'))\n",
    "time.sleep(2)"
   ]
  },
  {
   "cell_type": "code",
   "execution_count": 139,
   "id": "4a28ec9a",
   "metadata": {},
   "outputs": [
    {
     "data": {
      "text/plain": [
       "994"
      ]
     },
     "execution_count": 139,
     "metadata": {},
     "output_type": "execute_result"
    }
   ],
   "source": [
    "len(Car_url_chennai)"
   ]
  },
  {
   "cell_type": "markdown",
   "id": "31070e50",
   "metadata": {},
   "source": [
    "###### Data from Gurgaon city"
   ]
  },
  {
   "cell_type": "code",
   "execution_count": 140,
   "id": "3f93245a",
   "metadata": {},
   "outputs": [],
   "source": [
    "url = \"https://www.cardekho.com/used-cars+in+gurgaon\"\n",
    "driver.get(url)\n",
    "time.sleep(2)"
   ]
  },
  {
   "cell_type": "code",
   "execution_count": 141,
   "id": "f80dfff2",
   "metadata": {},
   "outputs": [
    {
     "name": "stderr",
     "output_type": "stream",
     "text": [
      "100%|████████████████████████████████████████████████████████████████████████████████| 600/600 [18:33<00:00,  1.86s/it]\n"
     ]
    }
   ],
   "source": [
    "from tqdm import tqdm\n",
    "for _ in tqdm(range(0,600)):\n",
    "    time.sleep(0.5)\n",
    "    driver.execute_script(\"window.scrollBy(0,1500)\",\"\")\n",
    "    time.sleep(1)\n",
    "    driver.execute_script(\"window.scrollBy(0,-500)\")"
   ]
  },
  {
   "cell_type": "code",
   "execution_count": 142,
   "id": "57e0cdac",
   "metadata": {},
   "outputs": [
    {
     "name": "stderr",
     "output_type": "stream",
     "text": [
      "100%|██████████████████████████████████████████████████████████████████████████████| 1389/1389 [00:39<00:00, 35.59it/s]\n"
     ]
    }
   ],
   "source": [
    "Car_url_gurgaon = []\n",
    "car_url_gurgaon = driver.find_elements(By.XPATH,'//div[@class=\"gsc_col-xs-7  carsName\"]/a')   \n",
    "for j in tqdm(range(len(car_url_gurgaon))):\n",
    "    Car_url_gurgaon.append(car_url_gurgaon[j].get_attribute('href'))\n",
    "time.sleep(2)"
   ]
  },
  {
   "cell_type": "code",
   "execution_count": 143,
   "id": "98ea41fc",
   "metadata": {},
   "outputs": [
    {
     "data": {
      "text/plain": [
       "1389"
      ]
     },
     "execution_count": 143,
     "metadata": {},
     "output_type": "execute_result"
    }
   ],
   "source": [
    "len(Car_url_gurgaon)"
   ]
  },
  {
   "cell_type": "markdown",
   "id": "c505892e",
   "metadata": {},
   "source": [
    "###### Data from Telangana"
   ]
  },
  {
   "cell_type": "code",
   "execution_count": 144,
   "id": "d001a64d",
   "metadata": {},
   "outputs": [],
   "source": [
    "url = \"https://www.cardekho.com/used-cars+in+telangana\"\n",
    "driver.get(url)\n",
    "time.sleep(2)"
   ]
  },
  {
   "cell_type": "code",
   "execution_count": 145,
   "id": "92fe66f6",
   "metadata": {},
   "outputs": [
    {
     "name": "stderr",
     "output_type": "stream",
     "text": [
      "100%|████████████████████████████████████████████████████████████████████████████████| 400/400 [12:09<00:00,  1.82s/it]\n"
     ]
    }
   ],
   "source": [
    "from tqdm import tqdm\n",
    "for _ in tqdm(range(0,400)):\n",
    "    time.sleep(0.5)\n",
    "    driver.execute_script(\"window.scrollBy(0,1500)\",\"\")\n",
    "    time.sleep(1)\n",
    "    driver.execute_script(\"window.scrollBy(0,-500)\")"
   ]
  },
  {
   "cell_type": "code",
   "execution_count": 146,
   "id": "aff86cd4",
   "metadata": {},
   "outputs": [
    {
     "name": "stderr",
     "output_type": "stream",
     "text": [
      "100%|██████████████████████████████████████████████████████████████████████████████| 1108/1108 [00:22<00:00, 49.34it/s]\n"
     ]
    }
   ],
   "source": [
    "Car_url_telangana = []\n",
    "car_url_telangana = driver.find_elements(By.XPATH,'//div[@class=\"gsc_col-xs-7  carsName\"]/a')   \n",
    "for j in tqdm(range(len(car_url_telangana))):\n",
    "    Car_url_telangana.append(car_url_telangana[j].get_attribute('href'))\n",
    "time.sleep(2)"
   ]
  },
  {
   "cell_type": "code",
   "execution_count": 147,
   "id": "bcff9f88",
   "metadata": {},
   "outputs": [
    {
     "data": {
      "text/plain": [
       "1108"
      ]
     },
     "execution_count": 147,
     "metadata": {},
     "output_type": "execute_result"
    }
   ],
   "source": [
    "len(Car_url_telangana)"
   ]
  },
  {
   "cell_type": "markdown",
   "id": "3f59a9f1",
   "metadata": {},
   "source": [
    "###### Data from Maharashtra"
   ]
  },
  {
   "cell_type": "code",
   "execution_count": 175,
   "id": "fcac3001",
   "metadata": {},
   "outputs": [],
   "source": [
    "url = \"https://www.cardekho.com/used-cars+in+maharashtra\"\n",
    "driver.get(url)\n",
    "time.sleep(2)"
   ]
  },
  {
   "cell_type": "code",
   "execution_count": 176,
   "id": "9bf0a8cf",
   "metadata": {},
   "outputs": [
    {
     "name": "stderr",
     "output_type": "stream",
     "text": [
      "100%|████████████████████████████████████████████████████████████████████████████| 1000/1000 [1:32:03<00:00,  5.52s/it]\n"
     ]
    }
   ],
   "source": [
    "from tqdm import tqdm\n",
    "for _ in tqdm(range(0,1000)):\n",
    "    driver.execute_script(\"window.scrollBy(0,1500)\",\"\")\n",
    "    time.sleep(0.5)\n",
    "    driver.execute_script(\"window.scrollBy(0,-500)\")"
   ]
  },
  {
   "cell_type": "code",
   "execution_count": 177,
   "id": "515c6984",
   "metadata": {},
   "outputs": [
    {
     "name": "stderr",
     "output_type": "stream",
     "text": [
      "100%|██████████████████████████████████████████████████████████████████████████████| 4713/4713 [11:28<00:00,  6.84it/s]\n"
     ]
    }
   ],
   "source": [
    "Car_url_Maharashtra = []\n",
    "car_url_Maharashtra = driver.find_elements(By.XPATH,'//div[@class=\"gsc_col-xs-7  carsName\"]/a')   \n",
    "for j in tqdm(range(len(car_url_Maharashtra))):\n",
    "    Car_url_Maharashtra.append(car_url_Maharashtra[j].get_attribute('href'))\n",
    "time.sleep(2)"
   ]
  },
  {
   "cell_type": "code",
   "execution_count": 178,
   "id": "44f9de98",
   "metadata": {},
   "outputs": [
    {
     "data": {
      "text/plain": [
       "4713"
      ]
     },
     "execution_count": 178,
     "metadata": {},
     "output_type": "execute_result"
    }
   ],
   "source": [
    "len(Car_url_Maharashtra)"
   ]
  },
  {
   "cell_type": "markdown",
   "id": "96e048f7",
   "metadata": {},
   "source": [
    "###### Data from Karnataka"
   ]
  },
  {
   "cell_type": "code",
   "execution_count": 151,
   "id": "aa95fce3",
   "metadata": {},
   "outputs": [],
   "source": [
    "url = \"https://www.cardekho.com/used-cars+in+karnataka\"\n",
    "driver.get(url)\n",
    "time.sleep(2)"
   ]
  },
  {
   "cell_type": "code",
   "execution_count": 152,
   "id": "015b5845",
   "metadata": {},
   "outputs": [
    {
     "name": "stderr",
     "output_type": "stream",
     "text": [
      "100%|████████████████████████████████████████████████████████████████████████████████| 750/750 [18:22<00:00,  1.47s/it]\n"
     ]
    }
   ],
   "source": [
    "from tqdm import tqdm\n",
    "for _ in tqdm(range(0,750)):\n",
    "   \n",
    "    driver.execute_script(\"window.scrollBy(0,1500)\",\"\")\n",
    "    time.sleep(0.4)\n",
    "    driver.execute_script(\"window.scrollBy(0,-500)\")"
   ]
  },
  {
   "cell_type": "code",
   "execution_count": 153,
   "id": "a904796b",
   "metadata": {},
   "outputs": [
    {
     "name": "stderr",
     "output_type": "stream",
     "text": [
      "100%|██████████████████████████████████████████████████████████████████████████████| 1929/1929 [01:07<00:00, 28.73it/s]\n"
     ]
    }
   ],
   "source": [
    "Car_url_Karnataka = []\n",
    "car_url_Karnataka = driver.find_elements(By.XPATH,'//div[@class=\"gsc_col-xs-7  carsName\"]/a')   \n",
    "for j in tqdm(range(len(car_url_Karnataka))):\n",
    "    Car_url_Karnataka.append(car_url_Karnataka[j].get_attribute('href'))\n",
    "time.sleep(2)"
   ]
  },
  {
   "cell_type": "code",
   "execution_count": 154,
   "id": "c3f7d210",
   "metadata": {},
   "outputs": [
    {
     "data": {
      "text/plain": [
       "1929"
      ]
     },
     "execution_count": 154,
     "metadata": {},
     "output_type": "execute_result"
    }
   ],
   "source": [
    "len(Car_url_Karnataka)"
   ]
  },
  {
   "cell_type": "markdown",
   "id": "7a5b5cf3",
   "metadata": {},
   "source": [
    "###### Data from Uttar Pradesh"
   ]
  },
  {
   "cell_type": "code",
   "execution_count": 155,
   "id": "dc3baa4a",
   "metadata": {},
   "outputs": [],
   "source": [
    "url = \"https://www.cardekho.com/used-cars+in+uttar-pradesh\"\n",
    "driver.get(url)\n",
    "time.sleep(2)"
   ]
  },
  {
   "cell_type": "code",
   "execution_count": 156,
   "id": "ee079cb9",
   "metadata": {},
   "outputs": [
    {
     "name": "stderr",
     "output_type": "stream",
     "text": [
      "100%|██████████████████████████████████████████████████████████████████████████████| 700/700 [1:00:12<00:00,  5.16s/it]\n"
     ]
    }
   ],
   "source": [
    "from tqdm import tqdm\n",
    "for _ in tqdm(range(0,700)):\n",
    "    driver.execute_script(\"window.scrollBy(0,1500)\",\"\")\n",
    "    time.sleep(0.25)\n",
    "    driver.execute_script(\"window.scrollBy(0,-500)\")"
   ]
  },
  {
   "cell_type": "code",
   "execution_count": 157,
   "id": "4dc3f41d",
   "metadata": {},
   "outputs": [
    {
     "name": "stderr",
     "output_type": "stream",
     "text": [
      "100%|██████████████████████████████████████████████████████████████████████████████| 2765/2765 [37:53<00:00,  1.22it/s]\n"
     ]
    }
   ],
   "source": [
    "Car_url_UttarPradesh = []\n",
    "car_url_UttarPradesh = driver.find_elements(By.XPATH,'//div[@class=\"gsc_col-xs-7  carsName\"]/a')   \n",
    "for j in tqdm(range(len(car_url_UttarPradesh))):\n",
    "    Car_url_UttarPradesh.append(car_url_UttarPradesh[j].get_attribute('href'))\n",
    "time.sleep(2)"
   ]
  },
  {
   "cell_type": "code",
   "execution_count": 158,
   "id": "55bcf0c2",
   "metadata": {},
   "outputs": [
    {
     "data": {
      "text/plain": [
       "2765"
      ]
     },
     "execution_count": 158,
     "metadata": {},
     "output_type": "execute_result"
    }
   ],
   "source": [
    "len(Car_url_UttarPradesh)"
   ]
  },
  {
   "cell_type": "markdown",
   "id": "669d4dd5",
   "metadata": {},
   "source": [
    "###### Data from Tamil Nadu"
   ]
  },
  {
   "cell_type": "code",
   "execution_count": 159,
   "id": "8b76db54",
   "metadata": {},
   "outputs": [],
   "source": [
    "url = \"https://www.cardekho.com/used-cars+in+tamil-nadu\"\n",
    "driver.get(url)\n",
    "time.sleep(2)"
   ]
  },
  {
   "cell_type": "code",
   "execution_count": 160,
   "id": "e33696b5",
   "metadata": {},
   "outputs": [
    {
     "name": "stderr",
     "output_type": "stream",
     "text": [
      "100%|████████████████████████████████████████████████████████████████████████████████| 600/600 [10:42<00:00,  1.07s/it]\n"
     ]
    }
   ],
   "source": [
    "from tqdm import tqdm\n",
    "for _ in tqdm(range(0,600)):\n",
    "    driver.execute_script(\"window.scrollBy(0,1500)\",\"\")\n",
    "    time.sleep(0.25)\n",
    "    driver.execute_script(\"window.scrollBy(0,-500)\")"
   ]
  },
  {
   "cell_type": "code",
   "execution_count": 161,
   "id": "8af12c3d",
   "metadata": {},
   "outputs": [
    {
     "name": "stderr",
     "output_type": "stream",
     "text": [
      "100%|██████████████████████████████████████████████████████████████████████████████| 1524/1524 [00:39<00:00, 38.83it/s]\n"
     ]
    }
   ],
   "source": [
    "Car_url_TamilNadu = []\n",
    "car_url_TamilNadu = driver.find_elements(By.XPATH,'//div[@class=\"gsc_col-xs-7  carsName\"]/a')   \n",
    "for j in tqdm(range(len(car_url_TamilNadu))):\n",
    "    Car_url_TamilNadu.append(car_url_TamilNadu[j].get_attribute('href'))\n",
    "time.sleep(2)"
   ]
  },
  {
   "cell_type": "code",
   "execution_count": 162,
   "id": "71d4065a",
   "metadata": {},
   "outputs": [
    {
     "data": {
      "text/plain": [
       "1524"
      ]
     },
     "execution_count": 162,
     "metadata": {},
     "output_type": "execute_result"
    }
   ],
   "source": [
    "len(Car_url_TamilNadu)"
   ]
  },
  {
   "cell_type": "markdown",
   "id": "d180f64c",
   "metadata": {},
   "source": [
    "###### Data from Haryana"
   ]
  },
  {
   "cell_type": "code",
   "execution_count": 163,
   "id": "62e8db45",
   "metadata": {},
   "outputs": [],
   "source": [
    "url = \"https://www.cardekho.com/used-cars+in+haryana\"\n",
    "driver.get(url)\n",
    "time.sleep(2)"
   ]
  },
  {
   "cell_type": "code",
   "execution_count": 164,
   "id": "1bbb6993",
   "metadata": {},
   "outputs": [
    {
     "name": "stderr",
     "output_type": "stream",
     "text": [
      "100%|████████████████████████████████████████████████████████████████████████████████| 600/600 [12:33<00:00,  1.26s/it]\n"
     ]
    }
   ],
   "source": [
    "from tqdm import tqdm\n",
    "for _ in tqdm(range(0,600)):\n",
    "    \n",
    "    driver.execute_script(\"window.scrollBy(0,1500)\",\"\")\n",
    "    time.sleep(0.25)\n",
    "    driver.execute_script(\"window.scrollBy(0,-500)\")"
   ]
  },
  {
   "cell_type": "code",
   "execution_count": 165,
   "id": "010513ab",
   "metadata": {},
   "outputs": [
    {
     "name": "stderr",
     "output_type": "stream",
     "text": [
      "100%|██████████████████████████████████████████████████████████████████████████████| 1219/1219 [00:24<00:00, 49.23it/s]\n"
     ]
    }
   ],
   "source": [
    "Car_url_Haryana = []\n",
    "car_url_Haryana = driver.find_elements(By.XPATH,'//div[@class=\"gsc_col-xs-7  carsName\"]/a')   \n",
    "for j in tqdm(range(len(car_url_Haryana))):\n",
    "    Car_url_Haryana.append(car_url_Haryana[j].get_attribute('href'))\n",
    "time.sleep(2)"
   ]
  },
  {
   "cell_type": "code",
   "execution_count": 166,
   "id": "1aae0bdb",
   "metadata": {},
   "outputs": [
    {
     "data": {
      "text/plain": [
       "1219"
      ]
     },
     "execution_count": 166,
     "metadata": {},
     "output_type": "execute_result"
    }
   ],
   "source": [
    "len(Car_url_Haryana)"
   ]
  },
  {
   "cell_type": "markdown",
   "id": "0427a559",
   "metadata": {},
   "source": [
    "###### Data from Rajasthan"
   ]
  },
  {
   "cell_type": "code",
   "execution_count": 167,
   "id": "43c75a42",
   "metadata": {},
   "outputs": [],
   "source": [
    "url = \"https://www.cardekho.com/used-cars+in+rajasthan\"\n",
    "driver.get(url)\n",
    "time.sleep(2)"
   ]
  },
  {
   "cell_type": "code",
   "execution_count": 168,
   "id": "d57407bf",
   "metadata": {},
   "outputs": [
    {
     "name": "stderr",
     "output_type": "stream",
     "text": [
      "100%|████████████████████████████████████████████████████████████████████████████████| 500/500 [15:59<00:00,  1.92s/it]\n"
     ]
    }
   ],
   "source": [
    "from tqdm import tqdm\n",
    "for _ in tqdm(range(0,500)):\n",
    "  \n",
    "    driver.execute_script(\"window.scrollBy(0,1500)\",\"\")\n",
    "    time.sleep(0.25)\n",
    "    driver.execute_script(\"window.scrollBy(0,-500)\")"
   ]
  },
  {
   "cell_type": "code",
   "execution_count": 169,
   "id": "e0b9bcd0",
   "metadata": {},
   "outputs": [
    {
     "name": "stderr",
     "output_type": "stream",
     "text": [
      "100%|██████████████████████████████████████████████████████████████████████████████| 1499/1499 [01:32<00:00, 16.14it/s]\n"
     ]
    }
   ],
   "source": [
    "Car_url_Rajasthan = []\n",
    "car_url_Rajasthan = driver.find_elements(By.XPATH,'//div[@class=\"gsc_col-xs-7  carsName\"]/a')   \n",
    "for j in tqdm(range(len(car_url_Rajasthan))):\n",
    "    Car_url_Rajasthan.append(car_url_Rajasthan[j].get_attribute('href'))\n",
    "time.sleep(2)\n"
   ]
  },
  {
   "cell_type": "code",
   "execution_count": 170,
   "id": "31a8c2b5",
   "metadata": {},
   "outputs": [
    {
     "data": {
      "text/plain": [
       "1499"
      ]
     },
     "execution_count": 170,
     "metadata": {},
     "output_type": "execute_result"
    }
   ],
   "source": [
    "len(Car_url_Rajasthan)"
   ]
  },
  {
   "cell_type": "markdown",
   "id": "d8298b6b",
   "metadata": {},
   "source": [
    "###### Data from Kerala"
   ]
  },
  {
   "cell_type": "code",
   "execution_count": 171,
   "id": "4c5f2fd7",
   "metadata": {},
   "outputs": [],
   "source": [
    "url = \"https://www.cardekho.com/used-cars+in+kerala\"\n",
    "driver.get(url)\n",
    "time.sleep(2)"
   ]
  },
  {
   "cell_type": "code",
   "execution_count": 172,
   "id": "015bd153",
   "metadata": {},
   "outputs": [
    {
     "name": "stderr",
     "output_type": "stream",
     "text": [
      "100%|████████████████████████████████████████████████████████████████████████████████| 400/400 [10:29<00:00,  1.57s/it]\n"
     ]
    }
   ],
   "source": [
    "from tqdm import tqdm\n",
    "for _ in tqdm(range(0,400)):\n",
    "    time.sleep(0.5)\n",
    "    driver.execute_script(\"window.scrollBy(0,1500)\",\"\")\n",
    "    time.sleep(1)\n",
    "    driver.execute_script(\"window.scrollBy(0,-500)\")"
   ]
  },
  {
   "cell_type": "code",
   "execution_count": 173,
   "id": "0cb29d93",
   "metadata": {},
   "outputs": [
    {
     "name": "stderr",
     "output_type": "stream",
     "text": [
      "100%|████████████████████████████████████████████████████████████████████████████████| 298/298 [00:03<00:00, 89.03it/s]\n"
     ]
    }
   ],
   "source": [
    "Car_url_Kerala = []\n",
    "car_url_Kerala = driver.find_elements(By.XPATH,'//div[@class=\"gsc_col-xs-7  carsName\"]/a')   \n",
    "for j in tqdm(range(len(car_url_Kerala))):\n",
    "    Car_url_Kerala.append(car_url_Kerala[j].get_attribute('href'))\n",
    "time.sleep(2)"
   ]
  },
  {
   "cell_type": "code",
   "execution_count": 174,
   "id": "bcbba7c0",
   "metadata": {},
   "outputs": [
    {
     "data": {
      "text/plain": [
       "298"
      ]
     },
     "execution_count": 174,
     "metadata": {},
     "output_type": "execute_result"
    }
   ],
   "source": [
    "len(Car_url_Kerala)"
   ]
  },
  {
   "cell_type": "markdown",
   "id": "8f023116",
   "metadata": {},
   "source": [
    "### Creating Excel file"
   ]
  },
  {
   "cell_type": "code",
   "execution_count": 179,
   "id": "cecce7f4",
   "metadata": {},
   "outputs": [],
   "source": [
    "import pandas as pd"
   ]
  },
  {
   "cell_type": "code",
   "execution_count": 180,
   "id": "cfe33047",
   "metadata": {},
   "outputs": [],
   "source": [
    "Car_url = []"
   ]
  },
  {
   "cell_type": "code",
   "execution_count": 181,
   "id": "0abbe16a",
   "metadata": {},
   "outputs": [],
   "source": [
    "Car_url = Car_url_Kerala + Car_url_Rajasthan + Car_url_Haryana + Car_url_TamilNadu + Car_url_UttarPradesh + Car_url_Karnataka  + Car_url_telangana + Car_url_bangalore + Car_url_chennai + Car_url_delhi_ncr + Car_url_gurgaon + Car_url_ahmedabad "
   ]
  },
  {
   "cell_type": "code",
   "execution_count": 182,
   "id": "ee6a2bfb",
   "metadata": {},
   "outputs": [
    {
     "data": {
      "text/plain": [
       "18275"
      ]
     },
     "execution_count": 182,
     "metadata": {},
     "output_type": "execute_result"
    }
   ],
   "source": [
    "len(Car_url)"
   ]
  },
  {
   "cell_type": "code",
   "execution_count": 183,
   "id": "f112176b",
   "metadata": {},
   "outputs": [],
   "source": [
    "Car_URL = pd.DataFrame({})\n",
    "Car_URL['Urls'] = Car_url"
   ]
  },
  {
   "cell_type": "code",
   "execution_count": 184,
   "id": "5ad0b2f2",
   "metadata": {},
   "outputs": [],
   "source": [
    "Car_URL.to_excel('Car_url.xlsx', index = False)"
   ]
  },
  {
   "cell_type": "code",
   "execution_count": 185,
   "id": "b1f70175",
   "metadata": {},
   "outputs": [],
   "source": [
    "df = pd.read_excel('Car_url.xlsx')"
   ]
  },
  {
   "cell_type": "code",
   "execution_count": null,
   "id": "b2a11b69",
   "metadata": {},
   "outputs": [],
   "source": []
  },
  {
   "cell_type": "markdown",
   "id": "3d0ba7e5",
   "metadata": {},
   "source": [
    "### scraping  used car details"
   ]
  },
  {
   "cell_type": "code",
   "execution_count": 186,
   "id": "bff0bf69",
   "metadata": {},
   "outputs": [],
   "source": [
    "# Making Empty lists\n",
    "Location = []\n",
    "Model = []\n",
    "Variant = []\n",
    "Price = []\n",
    "Make_year =[]\n",
    "Fuel_Type = []\n",
    "KMs_driven = []\n",
    "Engine_displacement = []\n",
    "Transmission = []\n",
    "Milage = []\n",
    "Max_power = []\n",
    "Torque = []\n",
    "Seats = []\n",
    "Color = []\n",
    "Gear_Box =[]\n",
    "Steering_Type =[]\n",
    "Front_Brake_Type = []\n",
    "Rear_Brake_Type = []\n",
    "Tyre_Volume = []\n",
    "Cargo_volume = []\n",
    "Engine_Type = []\n",
    "No_of_cylinder = []\n",
    "Value_Configuration = []\n",
    "Fuel_Suppy_System = []\n",
    "Turbo_charger = []\n",
    "Super_charger = []\n",
    "Length = []\n",
    "Width =[]\n",
    "Height = []\n",
    "Gross_weight = []"
   ]
  },
  {
   "cell_type": "code",
   "execution_count": 222,
   "id": "86408c87",
   "metadata": {},
   "outputs": [
    {
     "name": "stderr",
     "output_type": "stream",
     "text": [
      "100%|█████████████████████████████████████████████████████████████████████████| 17999/17999 [12:41:44<00:00,  2.54s/it]\n"
     ]
    }
   ],
   "source": [
    "from tqdm import tqdm\n",
    "for i in tqdm(df['Urls'][1:18000]):\n",
    "    driver.get(i)\n",
    "    time.sleep(0.5)\n",
    "    \n",
    "    # Extracting Car Model via xpath\n",
    "    try :\n",
    "        model = driver.find_element(By.XPATH,'//div[@class=\"gsc_col-xs-12\"]/h1')\n",
    "        Model.append(model.text[5:])\n",
    "    except NoSuchElementException:\n",
    "        try :\n",
    "            model = driver.find_element(By.XPATH,'//div[@class=\"gsc_container_hold\"]/div/h1[2]')\n",
    "            Model.append(model.text)  \n",
    "        except NoSuchElementException:\n",
    "            pass\n",
    "        \n",
    "    #clicking to view all specifications\n",
    "    try:\n",
    "        view_more = driver.find_element(By.XPATH,\"//*[text() = 'View All Specifications' or text() = 'View More']\")\n",
    "        driver.execute_script(\"arguments[0].scrollIntoView();\", view_more)\n",
    "        driver.execute_script(\"arguments[0].click();\", view_more)\n",
    "        \n",
    "    except NoSuchElementException:\n",
    "        try:\n",
    "            Button= driver.find_element(By.XPATH,'//*[@id=\"topspec\"]/div[2]/a')\n",
    "            Button.click()\n",
    "            time.sleep(1)\n",
    "        except NoSuchElementException:\n",
    "            pass\n",
    "    \n",
    "    time.sleep(0.75)\n",
    "    # Extracting Car Price via xpath\n",
    "    try :\n",
    "        price = driver.find_element(By.XPATH,'//div[@class=\"priceSection\"]/span[2]')\n",
    "        Price.append(price.text)\n",
    "    except NoSuchElementException:\n",
    "        try :\n",
    "            price = driver.find_element(By.XPATH,'//div[@class=\"gsc_container_hold\"]/span[1]/span')\n",
    "            Price.append(price.text)\n",
    "        except NoSuchElementException:\n",
    "            pass\n",
    "        \n",
    "    # Extracting Car Make Year via xpath\n",
    "    try :\n",
    "        year = driver.find_element(By.XPATH,'//*[text()=\"Make Year\"]/following-sibling::div')\n",
    "        Make_year.append(year.text)      \n",
    "    except NoSuchElementException:\n",
    "        try :\n",
    "            year = driver.find_element(By.XPATH,'//div[@class=\"GenDetailBox\"]/ul/li[1]/div/div')\n",
    "            Make_year.append(year.text)\n",
    "        except NoSuchElementException:\n",
    "            pass\n",
    "    \n",
    "    # Extracting Car Fuel Type via xpath\n",
    "    try :\n",
    "        fuel = driver.find_element(By.XPATH,'//*[text()=\"Fuel\"]/following-sibling::div')\n",
    "        Fuel_Type.append(fuel.text)\n",
    "    except NoSuchElementException:\n",
    "        try :\n",
    "            fuel = driver.find_element(By.XPATH,'//div[@class=\"GenDetailBox\"]/ul/li[5]/div/div')\n",
    "            Fuel_Type.append(fuel.text)\n",
    "        except NoSuchElementException:\n",
    "            Fuel_Type.append('-')\n",
    "    \n",
    "    # Extracting KMS driven via xpath\n",
    "    try :\n",
    "        kms = driver.find_element(By.XPATH,'//*[text()=\"KMs Driven\"]/following-sibling::div')\n",
    "        KMs_driven.append(kms.text.replace('Kms',''))\n",
    "    except NoSuchElementException:\n",
    "        try :\n",
    "            kms = driver.find_element(By.XPATH,'//div[@class=\"GenDetailBox\"]/ul/li[3]/div/div')\n",
    "            KMs_driven.append(kms.text.replace('Kms',''))\n",
    "        except NoSuchElementException:\n",
    "            pass\n",
    "    \n",
    "    # Extracting Engine_displacemet via xpath\n",
    "    try :\n",
    "        engine_disp = driver.find_element(By.XPATH,'//*[text()=\"Engine Displacement\"]/following-sibling::div')\n",
    "        Engine_displacement.append(engine_disp.text.replace('CC',''))   \n",
    "    except NoSuchElementException:\n",
    "        try :\n",
    "            engine_disp = driver.find_element(By.XPATH,'//*[text()=\"Engine\"]/following-sibling::div')\n",
    "            Engine_displacement.append(engine_disp.text.replace('CC',''))\n",
    "        except NoSuchElementException:\n",
    "            pass\n",
    "    \n",
    "    # Extracting Transmission via xpath\n",
    "    try :\n",
    "        transmission = driver.find_element(By.XPATH,'//*[text()=\"Transmission\"]/following-sibling::div')\n",
    "        Transmission.append(transmission.text)\n",
    "    except NoSuchElementException:\n",
    "        try :\n",
    "            transmission = driver.find_element(By.XPATH,'//div[@class=\"GenDetailBox\"]/ul/li[6]/div/div')\n",
    "            Transmission.append(transmission.text)\n",
    "        except NoSuchElementException:\n",
    "            pass\n",
    "    time.sleep(0.25)\n",
    "    # Extracting Milage via xpath\n",
    "    try :\n",
    "        milage = driver.find_element(By.XPATH,'//*[text()=\"Mileage\"]/following-sibling::div')\n",
    "        Milage.append(milage.text.replace('kmpl',''))\n",
    "        \n",
    "    except NoSuchElementException:\n",
    "        Milage.append('-')\n",
    "    \n",
    "    # Extracting Max_power via xpath\n",
    "    try :\n",
    "        maxbhp = driver.find_element(By.XPATH,'//*[text()=\"Max Power\"]/following-sibling::div')\n",
    "        Max_power.append(maxbhp.text.replace('bhp',''))\n",
    "        \n",
    "    except NoSuchElementException:\n",
    "        Max_power.append('-')\n",
    "    \n",
    "   # Extracting Torque via xpath\n",
    "    try :\n",
    "        torque = driver.find_element(By.XPATH,'//*[text()=\"Torque\"]/following-sibling::div')\n",
    "        Torque.append(torque.text.replace('Nm',''))\n",
    "        \n",
    "    except NoSuchElementException:\n",
    "        Torque.append('-') \n",
    "    \n",
    "    # Extracting Seating capacity via xpath\n",
    "    try :\n",
    "        seats = driver.find_element(By.XPATH,'//*[text()=\"Seating Capacity\"]/following-sibling::div')\n",
    "        Seats.append(seats.text)\n",
    "        \n",
    "    except NoSuchElementException:\n",
    "        Seats.append('-') \n",
    "        \n",
    "    # Extracting color via xpath\n",
    "    try :\n",
    "        color = driver.find_element(By.XPATH,'//*[text()=\"Color\"]/following-sibling::div')\n",
    "        Color.append(color.text)    \n",
    "    except NoSuchElementException:\n",
    "        Color.append('-')\n",
    "    \n",
    "    # Extracting Gear_Box via xpath\n",
    "    try :\n",
    "        gear_Box = driver.find_element(By.XPATH,'//*[text()=\"Gear Box\"]/following-sibling::div')\n",
    "        Gear_Box.append(gear_Box.text)\n",
    "        \n",
    "    except NoSuchElementException:\n",
    "        Gear_Box.append('-')\n",
    "    \n",
    "    # Extracting Steering_Type via xpath\n",
    "    try :\n",
    "        steering_Type = driver.find_element(By.XPATH,'//*[text()=\"Steering Type\"]/following-sibling::div')\n",
    "        Steering_Type.append(steering_Type.text)\n",
    "        \n",
    "    except NoSuchElementException:\n",
    "        Steering_Type.append('-')\n",
    "    \n",
    "    # Extracting Front_Brake_Type via xpath\n",
    "    try :\n",
    "        front_Brake_Type = driver.find_element(By.XPATH,'//*[text()=\"Front Brake Type\"]/following-sibling::div')\n",
    "        Front_Brake_Type.append(front_Brake_Type.text)\n",
    "        \n",
    "    except NoSuchElementException:\n",
    "        Front_Brake_Type.append('-')\n",
    "    \n",
    "    # Extracting Rear_Brake_Type via xpath\n",
    "    try :\n",
    "        rear_Brake_Type = driver.find_element(By.XPATH,'//*[text()=\"Rear Brake Type\"]/following-sibling::div')\n",
    "        Rear_Brake_Type.append(rear_Brake_Type.text)\n",
    "        \n",
    "    except NoSuchElementException:\n",
    "        Rear_Brake_Type.append('-')\n",
    "    \n",
    "   # Extracting Tyre_Volume via xpath\n",
    "    try :\n",
    "        tyre_Volume = driver.find_element(By.XPATH,'//*[text()=\"Tyre Type\"]/following-sibling::div')\n",
    "        Tyre_Volume.append(tyre_Volume.text)\n",
    "        \n",
    "    except NoSuchElementException:\n",
    "        Tyre_Volume.append('-')\n",
    "    \n",
    "    # Extracting Engine_Type via xpath\n",
    "    try :\n",
    "        engine_Type = driver.find_element(By.XPATH,'//*[text()=\"Engine Type\"]/following-sibling::div')\n",
    "        Engine_Type.append(engine_Type.text)\n",
    "        \n",
    "    except NoSuchElementException:\n",
    "        Engine_Type.append('-')\n",
    "    \n",
    "    # Extracting No_of_cylinder via xpath\n",
    "    try :\n",
    "        no_of_cylinder = driver.find_element(By.XPATH,'//*[text()=\"No of Cylinder\"]/following-sibling::div')\n",
    "        No_of_cylinder.append(no_of_cylinder.text) \n",
    "    except NoSuchElementException:\n",
    "        try :\n",
    "            no_of_cylinder = driver.find_element(By.XPATH,'//*[text()=\"No Of Cylinder\"]/following-sibling::div')\n",
    "            No_of_cylinder.append(no_of_cylinder.text)\n",
    "        except NoSuchElementException:\n",
    "            pass\n",
    "    \n",
    "    # Extracting Value_Configuration via xpath\n",
    "    try :\n",
    "        value_Configuration = driver.find_element(By.XPATH,'//*[text()=\"Value Configuration\"]/following-sibling::div')\n",
    "        Value_Configuration.append(value_Configuration.text)    \n",
    "    except NoSuchElementException:\n",
    "        try :\n",
    "            value_Configuration = driver.find_element(By.XPATH,'//*[text()=\"Valve Configuration\"]/following-sibling::div')\n",
    "            Value_Configuration.append(value_Configuration.text)  \n",
    "        except NoSuchElementException:\n",
    "            pass\n",
    "        \n",
    "    # Extracting Turbo_charger via xpath\n",
    "    try :\n",
    "        turbo_charger = driver.find_element(By.XPATH,'//*[text()=\"Turbo Charger\"]/following-sibling::div')\n",
    "        Turbo_charger.append(turbo_charger.text)\n",
    "        \n",
    "    except NoSuchElementException:\n",
    "        Turbo_charger.append('-')\n",
    "    \n",
    "    # Extracting Super_charger via xpath\n",
    "    try :\n",
    "        super_charger = driver.find_element(By.XPATH,'//*[text()=\"Super Charger\"]/following-sibling::div')\n",
    "        Super_charger.append(super_charger.text)    \n",
    "    except NoSuchElementException:\n",
    "        try :\n",
    "            super_charger = driver.find_element(By.XPATH,'//*[text()=\"superCharger\"]/following-sibling::div')\n",
    "            Super_charger.append(super_charger.text)   \n",
    "        except NoSuchElementException:\n",
    "            Super_charger.append('-')\n",
    "    \n",
    "    # Extracting Length via xpath\n",
    "    try :\n",
    "        length = driver.find_element(By.XPATH,'//*[text()=\"Length\"]/following-sibling::div')\n",
    "        Length.append(length.text.replace('mm',''))\n",
    "        \n",
    "    except NoSuchElementException:\n",
    "        Length.append('-')\n",
    "    \n",
    "    # Extracting Width via xpath\n",
    "    try :\n",
    "        width = driver.find_element(By.XPATH,'//*[text()=\"Width\"]/following-sibling::div')\n",
    "        Width.append(width.text.replace('mm',''))\n",
    "        \n",
    "    except NoSuchElementException:\n",
    "        Width.append('-')\n",
    "    \n",
    "    # Extracting Height via xpath\n",
    "    try :\n",
    "        height = driver.find_element(By.XPATH,'//*[text()=\"Height\"]/following-sibling::div')\n",
    "        Height.append(height.text.replace('mm',''))\n",
    "        \n",
    "    except NoSuchElementException:\n",
    "        Height.append('-')"
   ]
  },
  {
   "cell_type": "code",
   "execution_count": 223,
   "id": "8e41c738",
   "metadata": {},
   "outputs": [
    {
     "data": {
      "text/html": [
       "<div>\n",
       "<style scoped>\n",
       "    .dataframe tbody tr th:only-of-type {\n",
       "        vertical-align: middle;\n",
       "    }\n",
       "\n",
       "    .dataframe tbody tr th {\n",
       "        vertical-align: top;\n",
       "    }\n",
       "\n",
       "    .dataframe thead th {\n",
       "        text-align: right;\n",
       "    }\n",
       "</style>\n",
       "<table border=\"1\" class=\"dataframe\">\n",
       "  <thead>\n",
       "    <tr style=\"text-align: right;\">\n",
       "      <th></th>\n",
       "      <th>Car Model</th>\n",
       "      <th>Make Year</th>\n",
       "      <th>Fuel Type</th>\n",
       "      <th>KMs driven</th>\n",
       "      <th>Engine Displacement(CC)</th>\n",
       "      <th>Transmission</th>\n",
       "      <th>Milage(kmpl)</th>\n",
       "      <th>Max Power(bhp)</th>\n",
       "      <th>Torque(Nm)</th>\n",
       "      <th>Seating Capacity</th>\n",
       "      <th>Color</th>\n",
       "      <th>Gear Box</th>\n",
       "      <th>Steering Type</th>\n",
       "      <th>Front Brake Type</th>\n",
       "      <th>Rear Brake Type</th>\n",
       "      <th>Tyre Volume</th>\n",
       "      <th>Engine Type</th>\n",
       "      <th>No of Cylinder</th>\n",
       "      <th>Turbo Charger</th>\n",
       "      <th>Super Charger</th>\n",
       "      <th>Length(mm)</th>\n",
       "      <th>Width(mm)</th>\n",
       "      <th>Height(mm)</th>\n",
       "      <th>Price(Rs)</th>\n",
       "    </tr>\n",
       "  </thead>\n",
       "  <tbody>\n",
       "    <tr>\n",
       "      <th>0</th>\n",
       "      <td>Volkswagen Jetta 1.6 Tdi</td>\n",
       "      <td>2010</td>\n",
       "      <td>Diesel</td>\n",
       "      <td>90,000 Kms</td>\n",
       "      <td>1596</td>\n",
       "      <td>Manual</td>\n",
       "      <td>15.5</td>\n",
       "      <td>105</td>\n",
       "      <td>25.5</td>\n",
       "      <td></td>\n",
       "      <td>Blue</td>\n",
       "      <td>6 Speed</td>\n",
       "      <td>Power</td>\n",
       "      <td>-</td>\n",
       "      <td>-</td>\n",
       "      <td></td>\n",
       "      <td>In-Line Engine</td>\n",
       "      <td>4</td>\n",
       "      <td>Yes</td>\n",
       "      <td></td>\n",
       "      <td>4,554</td>\n",
       "      <td></td>\n",
       "      <td></td>\n",
       "      <td>4.90 Lakh*</td>\n",
       "    </tr>\n",
       "    <tr>\n",
       "      <th>1</th>\n",
       "      <td>Honda City Vtec</td>\n",
       "      <td>2007</td>\n",
       "      <td>Petrol</td>\n",
       "      <td>57,000 Kms</td>\n",
       "      <td>1493</td>\n",
       "      <td>Manual</td>\n",
       "      <td>16</td>\n",
       "      <td>106</td>\n",
       "      <td>13.5 kgm</td>\n",
       "      <td></td>\n",
       "      <td>Golden</td>\n",
       "      <td>5 Speed</td>\n",
       "      <td>Power</td>\n",
       "      <td></td>\n",
       "      <td></td>\n",
       "      <td></td>\n",
       "      <td>In-Line Engine</td>\n",
       "      <td>4</td>\n",
       "      <td>No</td>\n",
       "      <td>No</td>\n",
       "      <td>4270</td>\n",
       "      <td></td>\n",
       "      <td>1395</td>\n",
       "      <td>3.10 Lakh*</td>\n",
       "    </tr>\n",
       "    <tr>\n",
       "      <th>2</th>\n",
       "      <td>Audi A4 2.0 Tdi</td>\n",
       "      <td>2013</td>\n",
       "      <td>Diesel</td>\n",
       "      <td>66,000 Kms</td>\n",
       "      <td>1968</td>\n",
       "      <td>Automatic</td>\n",
       "      <td>16.55</td>\n",
       "      <td>147.51</td>\n",
       "      <td>320</td>\n",
       "      <td></td>\n",
       "      <td>White</td>\n",
       "      <td>7 Speed</td>\n",
       "      <td>Power</td>\n",
       "      <td>Ventilated Disc</td>\n",
       "      <td></td>\n",
       "      <td></td>\n",
       "      <td>TDI Diesel Engine</td>\n",
       "      <td>4</td>\n",
       "      <td>Yes</td>\n",
       "      <td>No</td>\n",
       "      <td>4701</td>\n",
       "      <td>2040</td>\n",
       "      <td>1427</td>\n",
       "      <td>15.75 Lakh*</td>\n",
       "    </tr>\n",
       "    <tr>\n",
       "      <th>3</th>\n",
       "      <td>Tata Harrier Xz Dual Tone</td>\n",
       "      <td>2021</td>\n",
       "      <td>Diesel</td>\n",
       "      <td>16,000 Kms</td>\n",
       "      <td>1956</td>\n",
       "      <td>Manual</td>\n",
       "      <td>16.35</td>\n",
       "      <td>167.67</td>\n",
       "      <td>350nm</td>\n",
       "      <td></td>\n",
       "      <td>Red</td>\n",
       "      <td>6-Speed</td>\n",
       "      <td></td>\n",
       "      <td>Disc</td>\n",
       "      <td>Drum</td>\n",
       "      <td>Tubeless, Radial</td>\n",
       "      <td></td>\n",
       "      <td></td>\n",
       "      <td></td>\n",
       "      <td>-</td>\n",
       "      <td></td>\n",
       "      <td>1894</td>\n",
       "      <td>1706</td>\n",
       "      <td>21.50 Lakh*</td>\n",
       "    </tr>\n",
       "    <tr>\n",
       "      <th>4</th>\n",
       "      <td>Skoda Octavia Classic 1.9 Tdi Mt</td>\n",
       "      <td>2007</td>\n",
       "      <td>Diesel</td>\n",
       "      <td>1,10,000 Kms</td>\n",
       "      <td>1896</td>\n",
       "      <td>Manual</td>\n",
       "      <td>18.7</td>\n",
       "      <td>66(90) / 4000</td>\n",
       "      <td>210 / 1900</td>\n",
       "      <td>5</td>\n",
       "      <td>Grey</td>\n",
       "      <td>5 Speed</td>\n",
       "      <td></td>\n",
       "      <td>Disc</td>\n",
       "      <td>Drum</td>\n",
       "      <td>Tubeless,Radial</td>\n",
       "      <td></td>\n",
       "      <td></td>\n",
       "      <td></td>\n",
       "      <td>No</td>\n",
       "      <td></td>\n",
       "      <td>1731</td>\n",
       "      <td>1455</td>\n",
       "      <td>2.49 Lakh*</td>\n",
       "    </tr>\n",
       "  </tbody>\n",
       "</table>\n",
       "</div>"
      ],
      "text/plain": [
       "                          Car Model Make Year Fuel Type    KMs driven  \\\n",
       "0          Volkswagen Jetta 1.6 Tdi      2010    Diesel    90,000 Kms   \n",
       "1                   Honda City Vtec      2007    Petrol    57,000 Kms   \n",
       "2                   Audi A4 2.0 Tdi      2013    Diesel    66,000 Kms   \n",
       "3         Tata Harrier Xz Dual Tone      2021    Diesel    16,000 Kms   \n",
       "4  Skoda Octavia Classic 1.9 Tdi Mt      2007    Diesel  1,10,000 Kms   \n",
       "\n",
       "  Engine Displacement(CC) Transmission Milage(kmpl) Max Power(bhp)  \\\n",
       "0                   1596        Manual        15.5             105   \n",
       "1                   1493        Manual          16            106    \n",
       "2                   1968     Automatic       16.55          147.51   \n",
       "3                   1956        Manual       16.35          167.67   \n",
       "4                   1896        Manual        18.7   66(90) / 4000   \n",
       "\n",
       "   Torque(Nm) Seating Capacity   Color Gear Box Steering Type  \\\n",
       "0        25.5                     Blue  6 Speed         Power   \n",
       "1    13.5 kgm                   Golden  5 Speed         Power   \n",
       "2         320                    White  7 Speed         Power   \n",
       "3       350nm                      Red  6-Speed                 \n",
       "4  210 / 1900                5    Grey  5 Speed                 \n",
       "\n",
       "  Front Brake Type Rear Brake Type       Tyre Volume        Engine Type  \\\n",
       "0                -               -                       In-Line Engine   \n",
       "1                                                        In-Line Engine   \n",
       "2  Ventilated Disc                                    TDI Diesel Engine   \n",
       "3             Disc            Drum  Tubeless, Radial                      \n",
       "4             Disc            Drum   Tubeless,Radial                      \n",
       "\n",
       "  No of Cylinder Turbo Charger Super Charger Length(mm) Width(mm) Height(mm)  \\\n",
       "0              4           Yes                   4,554                         \n",
       "1              4            No            No       4270                 1395   \n",
       "2              4           Yes            No       4701      2040       1427   \n",
       "3                                          -                 1894       1706   \n",
       "4                                         No                1731       1455    \n",
       "\n",
       "     Price(Rs)  \n",
       "0   4.90 Lakh*  \n",
       "1   3.10 Lakh*  \n",
       "2  15.75 Lakh*  \n",
       "3  21.50 Lakh*  \n",
       "4   2.49 Lakh*  "
      ]
     },
     "execution_count": 223,
     "metadata": {},
     "output_type": "execute_result"
    }
   ],
   "source": [
    "data = list(zip(Model, Make_year, Fuel_Type, KMs_driven, Engine_displacement, Transmission, Milage,\n",
    "              Max_power, Torque, Seats, Color, Gear_Box, Steering_Type, Front_Brake_Type, Rear_Brake_Type,\n",
    "              Tyre_Volume, Engine_Type, No_of_cylinder,\n",
    "              Turbo_charger, Super_charger, Length, Width, Height, Price))\n",
    "Batch = pd.DataFrame(data, columns=['Car Model', 'Make Year', 'Fuel Type', 'KMs driven', 'Engine Displacement(CC)',\n",
    "                                   'Transmission', 'Milage(kmpl)', 'Max Power(bhp)', 'Torque(Nm)', 'Seating Capacity',\n",
    "                                   'Color', 'Gear Box', 'Steering Type', 'Front Brake Type', 'Rear Brake Type',\n",
    "                                    'Tyre Volume', 'Engine Type', 'No of Cylinder', \n",
    "                                    'Turbo Charger', 'Super Charger', 'Length(mm)', 'Width(mm)',\n",
    "                                   'Height(mm)', 'Price(Rs)'])\n",
    "\n",
    "pd.set_option('display.max_columns', None)\n",
    "Batch.head(5)"
   ]
  },
  {
   "cell_type": "code",
   "execution_count": 225,
   "id": "2738ac60",
   "metadata": {},
   "outputs": [
    {
     "data": {
      "text/plain": [
       "(21011, 24)"
      ]
     },
     "execution_count": 225,
     "metadata": {},
     "output_type": "execute_result"
    }
   ],
   "source": [
    "Batch.shape"
   ]
  },
  {
   "cell_type": "code",
   "execution_count": null,
   "id": "1fd13691",
   "metadata": {},
   "outputs": [],
   "source": []
  },
  {
   "cell_type": "code",
   "execution_count": 226,
   "id": "cc53724f",
   "metadata": {},
   "outputs": [],
   "source": [
    "# Saving Batch1 data in excel file\n",
    "Batch.to_excel('Batch of all cars.xlsx', index = False)"
   ]
  },
  {
   "cell_type": "code",
   "execution_count": 227,
   "id": "2acbd3ab",
   "metadata": {},
   "outputs": [
    {
     "data": {
      "text/html": [
       "<div>\n",
       "<style scoped>\n",
       "    .dataframe tbody tr th:only-of-type {\n",
       "        vertical-align: middle;\n",
       "    }\n",
       "\n",
       "    .dataframe tbody tr th {\n",
       "        vertical-align: top;\n",
       "    }\n",
       "\n",
       "    .dataframe thead th {\n",
       "        text-align: right;\n",
       "    }\n",
       "</style>\n",
       "<table border=\"1\" class=\"dataframe\">\n",
       "  <thead>\n",
       "    <tr style=\"text-align: right;\">\n",
       "      <th></th>\n",
       "      <th>Car Model</th>\n",
       "      <th>Make Year</th>\n",
       "      <th>Fuel Type</th>\n",
       "      <th>KMs driven</th>\n",
       "      <th>Engine Displacement(CC)</th>\n",
       "      <th>Transmission</th>\n",
       "      <th>Milage(kmpl)</th>\n",
       "      <th>Max Power(bhp)</th>\n",
       "      <th>Torque(Nm)</th>\n",
       "      <th>Seating Capacity</th>\n",
       "      <th>Color</th>\n",
       "      <th>Gear Box</th>\n",
       "      <th>Steering Type</th>\n",
       "      <th>Front Brake Type</th>\n",
       "      <th>Rear Brake Type</th>\n",
       "      <th>Tyre Volume</th>\n",
       "      <th>Engine Type</th>\n",
       "      <th>No of Cylinder</th>\n",
       "      <th>Turbo Charger</th>\n",
       "      <th>Super Charger</th>\n",
       "      <th>Length(mm)</th>\n",
       "      <th>Width(mm)</th>\n",
       "      <th>Height(mm)</th>\n",
       "      <th>Price(Rs)</th>\n",
       "    </tr>\n",
       "  </thead>\n",
       "  <tbody>\n",
       "    <tr>\n",
       "      <th>0</th>\n",
       "      <td>Volkswagen Jetta 1.6 Tdi</td>\n",
       "      <td>2010</td>\n",
       "      <td>Diesel</td>\n",
       "      <td>90,000 Kms</td>\n",
       "      <td>1596</td>\n",
       "      <td>Manual</td>\n",
       "      <td>15.5</td>\n",
       "      <td>105</td>\n",
       "      <td>25.5</td>\n",
       "      <td></td>\n",
       "      <td>Blue</td>\n",
       "      <td>6 Speed</td>\n",
       "      <td>Power</td>\n",
       "      <td>-</td>\n",
       "      <td>-</td>\n",
       "      <td></td>\n",
       "      <td>In-Line Engine</td>\n",
       "      <td>4</td>\n",
       "      <td>Yes</td>\n",
       "      <td></td>\n",
       "      <td>4,554</td>\n",
       "      <td></td>\n",
       "      <td></td>\n",
       "      <td>4.90 Lakh*</td>\n",
       "    </tr>\n",
       "    <tr>\n",
       "      <th>1</th>\n",
       "      <td>Honda City Vtec</td>\n",
       "      <td>2007</td>\n",
       "      <td>Petrol</td>\n",
       "      <td>57,000 Kms</td>\n",
       "      <td>1493</td>\n",
       "      <td>Manual</td>\n",
       "      <td>16</td>\n",
       "      <td>106</td>\n",
       "      <td>13.5 kgm</td>\n",
       "      <td></td>\n",
       "      <td>Golden</td>\n",
       "      <td>5 Speed</td>\n",
       "      <td>Power</td>\n",
       "      <td></td>\n",
       "      <td></td>\n",
       "      <td></td>\n",
       "      <td>In-Line Engine</td>\n",
       "      <td>4</td>\n",
       "      <td>No</td>\n",
       "      <td>No</td>\n",
       "      <td>4270</td>\n",
       "      <td></td>\n",
       "      <td>1395</td>\n",
       "      <td>3.10 Lakh*</td>\n",
       "    </tr>\n",
       "    <tr>\n",
       "      <th>2</th>\n",
       "      <td>Audi A4 2.0 Tdi</td>\n",
       "      <td>2013</td>\n",
       "      <td>Diesel</td>\n",
       "      <td>66,000 Kms</td>\n",
       "      <td>1968</td>\n",
       "      <td>Automatic</td>\n",
       "      <td>16.55</td>\n",
       "      <td>147.51</td>\n",
       "      <td>320</td>\n",
       "      <td></td>\n",
       "      <td>White</td>\n",
       "      <td>7 Speed</td>\n",
       "      <td>Power</td>\n",
       "      <td>Ventilated Disc</td>\n",
       "      <td></td>\n",
       "      <td></td>\n",
       "      <td>TDI Diesel Engine</td>\n",
       "      <td>4</td>\n",
       "      <td>Yes</td>\n",
       "      <td>No</td>\n",
       "      <td>4701</td>\n",
       "      <td>2040</td>\n",
       "      <td>1427</td>\n",
       "      <td>15.75 Lakh*</td>\n",
       "    </tr>\n",
       "    <tr>\n",
       "      <th>3</th>\n",
       "      <td>Tata Harrier Xz Dual Tone</td>\n",
       "      <td>2021</td>\n",
       "      <td>Diesel</td>\n",
       "      <td>16,000 Kms</td>\n",
       "      <td>1956</td>\n",
       "      <td>Manual</td>\n",
       "      <td>16.35</td>\n",
       "      <td>167.67</td>\n",
       "      <td>350nm</td>\n",
       "      <td></td>\n",
       "      <td>Red</td>\n",
       "      <td>6-Speed</td>\n",
       "      <td></td>\n",
       "      <td>Disc</td>\n",
       "      <td>Drum</td>\n",
       "      <td>Tubeless, Radial</td>\n",
       "      <td></td>\n",
       "      <td></td>\n",
       "      <td></td>\n",
       "      <td>-</td>\n",
       "      <td></td>\n",
       "      <td>1894</td>\n",
       "      <td>1706</td>\n",
       "      <td>21.50 Lakh*</td>\n",
       "    </tr>\n",
       "    <tr>\n",
       "      <th>4</th>\n",
       "      <td>Skoda Octavia Classic 1.9 Tdi Mt</td>\n",
       "      <td>2007</td>\n",
       "      <td>Diesel</td>\n",
       "      <td>1,10,000 Kms</td>\n",
       "      <td>1896</td>\n",
       "      <td>Manual</td>\n",
       "      <td>18.7</td>\n",
       "      <td>66(90) / 4000</td>\n",
       "      <td>210 / 1900</td>\n",
       "      <td>5</td>\n",
       "      <td>Grey</td>\n",
       "      <td>5 Speed</td>\n",
       "      <td></td>\n",
       "      <td>Disc</td>\n",
       "      <td>Drum</td>\n",
       "      <td>Tubeless,Radial</td>\n",
       "      <td></td>\n",
       "      <td></td>\n",
       "      <td></td>\n",
       "      <td>No</td>\n",
       "      <td></td>\n",
       "      <td>1731</td>\n",
       "      <td>1455</td>\n",
       "      <td>2.49 Lakh*</td>\n",
       "    </tr>\n",
       "    <tr>\n",
       "      <th>...</th>\n",
       "      <td>...</td>\n",
       "      <td>...</td>\n",
       "      <td>...</td>\n",
       "      <td>...</td>\n",
       "      <td>...</td>\n",
       "      <td>...</td>\n",
       "      <td>...</td>\n",
       "      <td>...</td>\n",
       "      <td>...</td>\n",
       "      <td>...</td>\n",
       "      <td>...</td>\n",
       "      <td>...</td>\n",
       "      <td>...</td>\n",
       "      <td>...</td>\n",
       "      <td>...</td>\n",
       "      <td>...</td>\n",
       "      <td>...</td>\n",
       "      <td>...</td>\n",
       "      <td>...</td>\n",
       "      <td>...</td>\n",
       "      <td>...</td>\n",
       "      <td>...</td>\n",
       "      <td>...</td>\n",
       "      <td>...</td>\n",
       "    </tr>\n",
       "    <tr>\n",
       "      <th>21006</th>\n",
       "      <td>Maruti Ertiga Shvs Zdi Plus</td>\n",
       "      <td>2021</td>\n",
       "      <td>Diesel</td>\n",
       "      <td>8,000 Kms</td>\n",
       "      <td>1991</td>\n",
       "      <td>Automatic</td>\n",
       "      <td>17.09</td>\n",
       "      <td>261.4</td>\n",
       "      <td>620</td>\n",
       "      <td></td>\n",
       "      <td>White</td>\n",
       "      <td>8 Speed</td>\n",
       "      <td></td>\n",
       "      <td></td>\n",
       "      <td></td>\n",
       "      <td></td>\n",
       "      <td></td>\n",
       "      <td></td>\n",
       "      <td></td>\n",
       "      <td></td>\n",
       "      <td></td>\n",
       "      <td></td>\n",
       "      <td></td>\n",
       "      <td>59 Lakh*</td>\n",
       "    </tr>\n",
       "    <tr>\n",
       "      <th>21007</th>\n",
       "      <td>Tata Tigor Xz Plus</td>\n",
       "      <td>2018</td>\n",
       "      <td>Petrol</td>\n",
       "      <td>85,474 Kms</td>\n",
       "      <td>1451</td>\n",
       "      <td>Manual</td>\n",
       "      <td>16.8</td>\n",
       "      <td>116.3</td>\n",
       "      <td>146</td>\n",
       "      <td></td>\n",
       "      <td>Black</td>\n",
       "      <td>5 Speed</td>\n",
       "      <td></td>\n",
       "      <td></td>\n",
       "      <td></td>\n",
       "      <td></td>\n",
       "      <td></td>\n",
       "      <td></td>\n",
       "      <td></td>\n",
       "      <td></td>\n",
       "      <td></td>\n",
       "      <td></td>\n",
       "      <td></td>\n",
       "      <td>4.83 Lakh*</td>\n",
       "    </tr>\n",
       "    <tr>\n",
       "      <th>21008</th>\n",
       "      <td>Maruti Swift Amt Zdi</td>\n",
       "      <td>2018</td>\n",
       "      <td>Petrol</td>\n",
       "      <td>35,000 Kms</td>\n",
       "      <td>2199</td>\n",
       "      <td>Automatic</td>\n",
       "      <td>15</td>\n",
       "      <td>194.44</td>\n",
       "      <td>320</td>\n",
       "      <td></td>\n",
       "      <td>White</td>\n",
       "      <td>9 Speed</td>\n",
       "      <td></td>\n",
       "      <td></td>\n",
       "      <td></td>\n",
       "      <td></td>\n",
       "      <td></td>\n",
       "      <td></td>\n",
       "      <td>-</td>\n",
       "      <td>-</td>\n",
       "      <td></td>\n",
       "      <td></td>\n",
       "      <td></td>\n",
       "      <td>83 Lakh*</td>\n",
       "    </tr>\n",
       "    <tr>\n",
       "      <th>21009</th>\n",
       "      <td>Maruti Swift Dzire Lxi</td>\n",
       "      <td>2020</td>\n",
       "      <td>Petrol</td>\n",
       "      <td>15,000 Kms</td>\n",
       "      <td>1582</td>\n",
       "      <td>Manual</td>\n",
       "      <td>21.4</td>\n",
       "      <td>83.1</td>\n",
       "      <td>115</td>\n",
       "      <td></td>\n",
       "      <td>Blue</td>\n",
       "      <td>5 Speed</td>\n",
       "      <td></td>\n",
       "      <td></td>\n",
       "      <td></td>\n",
       "      <td></td>\n",
       "      <td></td>\n",
       "      <td></td>\n",
       "      <td></td>\n",
       "      <td></td>\n",
       "      <td></td>\n",
       "      <td></td>\n",
       "      <td></td>\n",
       "      <td>13.10 Lakh*</td>\n",
       "    </tr>\n",
       "    <tr>\n",
       "      <th>21010</th>\n",
       "      <td>Hyundai Santro Xing Xo</td>\n",
       "      <td>2019</td>\n",
       "      <td>Diesel</td>\n",
       "      <td>59,000 Kms</td>\n",
       "      <td>1462</td>\n",
       "      <td>Automatic</td>\n",
       "      <td>11</td>\n",
       "      <td>258</td>\n",
       "      <td>620</td>\n",
       "      <td></td>\n",
       "      <td>White</td>\n",
       "      <td>9 Speed</td>\n",
       "      <td></td>\n",
       "      <td></td>\n",
       "      <td></td>\n",
       "      <td></td>\n",
       "      <td></td>\n",
       "      <td></td>\n",
       "      <td></td>\n",
       "      <td></td>\n",
       "      <td></td>\n",
       "      <td></td>\n",
       "      <td></td>\n",
       "      <td>26.95 Lakh*</td>\n",
       "    </tr>\n",
       "  </tbody>\n",
       "</table>\n",
       "<p>21011 rows × 24 columns</p>\n",
       "</div>"
      ],
      "text/plain": [
       "                              Car Model Make Year Fuel Type    KMs driven  \\\n",
       "0              Volkswagen Jetta 1.6 Tdi      2010    Diesel    90,000 Kms   \n",
       "1                       Honda City Vtec      2007    Petrol    57,000 Kms   \n",
       "2                       Audi A4 2.0 Tdi      2013    Diesel    66,000 Kms   \n",
       "3             Tata Harrier Xz Dual Tone      2021    Diesel    16,000 Kms   \n",
       "4      Skoda Octavia Classic 1.9 Tdi Mt      2007    Diesel  1,10,000 Kms   \n",
       "...                                 ...       ...       ...           ...   \n",
       "21006       Maruti Ertiga Shvs Zdi Plus      2021    Diesel     8,000 Kms   \n",
       "21007                Tata Tigor Xz Plus      2018    Petrol    85,474 Kms   \n",
       "21008              Maruti Swift Amt Zdi      2018    Petrol    35,000 Kms   \n",
       "21009            Maruti Swift Dzire Lxi      2020    Petrol    15,000 Kms   \n",
       "21010            Hyundai Santro Xing Xo      2019    Diesel    59,000 Kms   \n",
       "\n",
       "      Engine Displacement(CC) Transmission Milage(kmpl) Max Power(bhp)  \\\n",
       "0                       1596        Manual        15.5             105   \n",
       "1                       1493        Manual          16            106    \n",
       "2                       1968     Automatic       16.55          147.51   \n",
       "3                       1956        Manual       16.35          167.67   \n",
       "4                       1896        Manual        18.7   66(90) / 4000   \n",
       "...                       ...          ...          ...            ...   \n",
       "21006                   1991     Automatic       17.09           261.4   \n",
       "21007                   1451        Manual        16.8           116.3   \n",
       "21008                   2199     Automatic          15          194.44   \n",
       "21009                   1582        Manual        21.4            83.1   \n",
       "21010                   1462     Automatic          11             258   \n",
       "\n",
       "       Torque(Nm) Seating Capacity   Color Gear Box Steering Type  \\\n",
       "0            25.5                     Blue  6 Speed         Power   \n",
       "1        13.5 kgm                   Golden  5 Speed         Power   \n",
       "2             320                    White  7 Speed         Power   \n",
       "3           350nm                      Red  6-Speed                 \n",
       "4      210 / 1900                5    Grey  5 Speed                 \n",
       "...           ...              ...     ...      ...           ...   \n",
       "21006         620                    White  8 Speed                 \n",
       "21007         146                    Black  5 Speed                 \n",
       "21008         320                    White  9 Speed                 \n",
       "21009         115                     Blue  5 Speed                 \n",
       "21010         620                    White  9 Speed                 \n",
       "\n",
       "      Front Brake Type Rear Brake Type       Tyre Volume        Engine Type  \\\n",
       "0                    -               -                       In-Line Engine   \n",
       "1                                                            In-Line Engine   \n",
       "2      Ventilated Disc                                    TDI Diesel Engine   \n",
       "3                 Disc            Drum  Tubeless, Radial                      \n",
       "4                 Disc            Drum   Tubeless,Radial                      \n",
       "...                ...             ...               ...                ...   \n",
       "21006                                                                         \n",
       "21007                                                                         \n",
       "21008                                                                         \n",
       "21009                                                                         \n",
       "21010                                                                         \n",
       "\n",
       "      No of Cylinder Turbo Charger Super Charger Length(mm) Width(mm)  \\\n",
       "0                  4           Yes                   4,554              \n",
       "1                  4            No            No       4270             \n",
       "2                  4           Yes            No       4701      2040   \n",
       "3                                              -                 1894   \n",
       "4                                             No                1731    \n",
       "...              ...           ...           ...        ...       ...   \n",
       "21006                                                                   \n",
       "21007                                                                   \n",
       "21008                            -             -                        \n",
       "21009                                                                   \n",
       "21010                                                                   \n",
       "\n",
       "      Height(mm)    Price(Rs)  \n",
       "0                  4.90 Lakh*  \n",
       "1           1395   3.10 Lakh*  \n",
       "2           1427  15.75 Lakh*  \n",
       "3           1706  21.50 Lakh*  \n",
       "4          1455    2.49 Lakh*  \n",
       "...          ...          ...  \n",
       "21006                59 Lakh*  \n",
       "21007              4.83 Lakh*  \n",
       "21008                83 Lakh*  \n",
       "21009             13.10 Lakh*  \n",
       "21010             26.95 Lakh*  \n",
       "\n",
       "[21011 rows x 24 columns]"
      ]
     },
     "execution_count": 227,
     "metadata": {},
     "output_type": "execute_result"
    }
   ],
   "source": [
    "Batch"
   ]
  },
  {
   "cell_type": "code",
   "execution_count": 231,
   "id": "706f2ac1",
   "metadata": {},
   "outputs": [],
   "source": [
    "Batch1 = Batch[0:10000]"
   ]
  },
  {
   "cell_type": "code",
   "execution_count": 232,
   "id": "f5e4f4f2",
   "metadata": {},
   "outputs": [
    {
     "data": {
      "text/html": [
       "<div>\n",
       "<style scoped>\n",
       "    .dataframe tbody tr th:only-of-type {\n",
       "        vertical-align: middle;\n",
       "    }\n",
       "\n",
       "    .dataframe tbody tr th {\n",
       "        vertical-align: top;\n",
       "    }\n",
       "\n",
       "    .dataframe thead th {\n",
       "        text-align: right;\n",
       "    }\n",
       "</style>\n",
       "<table border=\"1\" class=\"dataframe\">\n",
       "  <thead>\n",
       "    <tr style=\"text-align: right;\">\n",
       "      <th></th>\n",
       "      <th>Car Model</th>\n",
       "      <th>Make Year</th>\n",
       "      <th>Fuel Type</th>\n",
       "      <th>KMs driven</th>\n",
       "      <th>Engine Displacement(CC)</th>\n",
       "      <th>Transmission</th>\n",
       "      <th>Milage(kmpl)</th>\n",
       "      <th>Max Power(bhp)</th>\n",
       "      <th>Torque(Nm)</th>\n",
       "      <th>Seating Capacity</th>\n",
       "      <th>Color</th>\n",
       "      <th>Gear Box</th>\n",
       "      <th>Steering Type</th>\n",
       "      <th>Front Brake Type</th>\n",
       "      <th>Rear Brake Type</th>\n",
       "      <th>Tyre Volume</th>\n",
       "      <th>Engine Type</th>\n",
       "      <th>No of Cylinder</th>\n",
       "      <th>Turbo Charger</th>\n",
       "      <th>Super Charger</th>\n",
       "      <th>Length(mm)</th>\n",
       "      <th>Width(mm)</th>\n",
       "      <th>Height(mm)</th>\n",
       "      <th>Price(Rs)</th>\n",
       "    </tr>\n",
       "  </thead>\n",
       "  <tbody>\n",
       "    <tr>\n",
       "      <th>0</th>\n",
       "      <td>Volkswagen Jetta 1.6 Tdi</td>\n",
       "      <td>2010</td>\n",
       "      <td>Diesel</td>\n",
       "      <td>90,000 Kms</td>\n",
       "      <td>1596</td>\n",
       "      <td>Manual</td>\n",
       "      <td>15.5</td>\n",
       "      <td>105</td>\n",
       "      <td>25.5</td>\n",
       "      <td></td>\n",
       "      <td>Blue</td>\n",
       "      <td>6 Speed</td>\n",
       "      <td>Power</td>\n",
       "      <td>-</td>\n",
       "      <td>-</td>\n",
       "      <td></td>\n",
       "      <td>In-Line Engine</td>\n",
       "      <td>4</td>\n",
       "      <td>Yes</td>\n",
       "      <td></td>\n",
       "      <td>4,554</td>\n",
       "      <td></td>\n",
       "      <td></td>\n",
       "      <td>4.90 Lakh*</td>\n",
       "    </tr>\n",
       "    <tr>\n",
       "      <th>1</th>\n",
       "      <td>Honda City Vtec</td>\n",
       "      <td>2007</td>\n",
       "      <td>Petrol</td>\n",
       "      <td>57,000 Kms</td>\n",
       "      <td>1493</td>\n",
       "      <td>Manual</td>\n",
       "      <td>16</td>\n",
       "      <td>106</td>\n",
       "      <td>13.5 kgm</td>\n",
       "      <td></td>\n",
       "      <td>Golden</td>\n",
       "      <td>5 Speed</td>\n",
       "      <td>Power</td>\n",
       "      <td></td>\n",
       "      <td></td>\n",
       "      <td></td>\n",
       "      <td>In-Line Engine</td>\n",
       "      <td>4</td>\n",
       "      <td>No</td>\n",
       "      <td>No</td>\n",
       "      <td>4270</td>\n",
       "      <td></td>\n",
       "      <td>1395</td>\n",
       "      <td>3.10 Lakh*</td>\n",
       "    </tr>\n",
       "    <tr>\n",
       "      <th>2</th>\n",
       "      <td>Audi A4 2.0 Tdi</td>\n",
       "      <td>2013</td>\n",
       "      <td>Diesel</td>\n",
       "      <td>66,000 Kms</td>\n",
       "      <td>1968</td>\n",
       "      <td>Automatic</td>\n",
       "      <td>16.55</td>\n",
       "      <td>147.51</td>\n",
       "      <td>320</td>\n",
       "      <td></td>\n",
       "      <td>White</td>\n",
       "      <td>7 Speed</td>\n",
       "      <td>Power</td>\n",
       "      <td>Ventilated Disc</td>\n",
       "      <td></td>\n",
       "      <td></td>\n",
       "      <td>TDI Diesel Engine</td>\n",
       "      <td>4</td>\n",
       "      <td>Yes</td>\n",
       "      <td>No</td>\n",
       "      <td>4701</td>\n",
       "      <td>2040</td>\n",
       "      <td>1427</td>\n",
       "      <td>15.75 Lakh*</td>\n",
       "    </tr>\n",
       "    <tr>\n",
       "      <th>3</th>\n",
       "      <td>Tata Harrier Xz Dual Tone</td>\n",
       "      <td>2021</td>\n",
       "      <td>Diesel</td>\n",
       "      <td>16,000 Kms</td>\n",
       "      <td>1956</td>\n",
       "      <td>Manual</td>\n",
       "      <td>16.35</td>\n",
       "      <td>167.67</td>\n",
       "      <td>350nm</td>\n",
       "      <td></td>\n",
       "      <td>Red</td>\n",
       "      <td>6-Speed</td>\n",
       "      <td></td>\n",
       "      <td>Disc</td>\n",
       "      <td>Drum</td>\n",
       "      <td>Tubeless, Radial</td>\n",
       "      <td></td>\n",
       "      <td></td>\n",
       "      <td></td>\n",
       "      <td>-</td>\n",
       "      <td></td>\n",
       "      <td>1894</td>\n",
       "      <td>1706</td>\n",
       "      <td>21.50 Lakh*</td>\n",
       "    </tr>\n",
       "    <tr>\n",
       "      <th>4</th>\n",
       "      <td>Skoda Octavia Classic 1.9 Tdi Mt</td>\n",
       "      <td>2007</td>\n",
       "      <td>Diesel</td>\n",
       "      <td>1,10,000 Kms</td>\n",
       "      <td>1896</td>\n",
       "      <td>Manual</td>\n",
       "      <td>18.7</td>\n",
       "      <td>66(90) / 4000</td>\n",
       "      <td>210 / 1900</td>\n",
       "      <td>5</td>\n",
       "      <td>Grey</td>\n",
       "      <td>5 Speed</td>\n",
       "      <td></td>\n",
       "      <td>Disc</td>\n",
       "      <td>Drum</td>\n",
       "      <td>Tubeless,Radial</td>\n",
       "      <td></td>\n",
       "      <td></td>\n",
       "      <td></td>\n",
       "      <td>No</td>\n",
       "      <td></td>\n",
       "      <td>1731</td>\n",
       "      <td>1455</td>\n",
       "      <td>2.49 Lakh*</td>\n",
       "    </tr>\n",
       "    <tr>\n",
       "      <th>...</th>\n",
       "      <td>...</td>\n",
       "      <td>...</td>\n",
       "      <td>...</td>\n",
       "      <td>...</td>\n",
       "      <td>...</td>\n",
       "      <td>...</td>\n",
       "      <td>...</td>\n",
       "      <td>...</td>\n",
       "      <td>...</td>\n",
       "      <td>...</td>\n",
       "      <td>...</td>\n",
       "      <td>...</td>\n",
       "      <td>...</td>\n",
       "      <td>...</td>\n",
       "      <td>...</td>\n",
       "      <td>...</td>\n",
       "      <td>...</td>\n",
       "      <td>...</td>\n",
       "      <td>...</td>\n",
       "      <td>...</td>\n",
       "      <td>...</td>\n",
       "      <td>...</td>\n",
       "      <td>...</td>\n",
       "      <td>...</td>\n",
       "    </tr>\n",
       "    <tr>\n",
       "      <th>9995</th>\n",
       "      <td>Maruti Celerio</td>\n",
       "      <td>N/A</td>\n",
       "      <td>Diesel</td>\n",
       "      <td>80,000 Kms</td>\n",
       "      <td>2523</td>\n",
       "      <td>Manual</td>\n",
       "      <td>22.32</td>\n",
       "      <td>126.32</td>\n",
       "      <td>259.8</td>\n",
       "      <td></td>\n",
       "      <td>Sleek Silver</td>\n",
       "      <td>4 Speed</td>\n",
       "      <td></td>\n",
       "      <td></td>\n",
       "      <td></td>\n",
       "      <td></td>\n",
       "      <td></td>\n",
       "      <td></td>\n",
       "      <td></td>\n",
       "      <td></td>\n",
       "      <td></td>\n",
       "      <td></td>\n",
       "      <td></td>\n",
       "      <td>5 Lakh*</td>\n",
       "    </tr>\n",
       "    <tr>\n",
       "      <th>9996</th>\n",
       "      <td>Hyundai Grand i10</td>\n",
       "      <td>N/A</td>\n",
       "      <td>Petrol</td>\n",
       "      <td>90,000 Kms</td>\n",
       "      <td>998</td>\n",
       "      <td>Manual</td>\n",
       "      <td>23.01</td>\n",
       "      <td>67</td>\n",
       "      <td>91</td>\n",
       "      <td></td>\n",
       "      <td>White</td>\n",
       "      <td>5 Speed</td>\n",
       "      <td></td>\n",
       "      <td></td>\n",
       "      <td></td>\n",
       "      <td></td>\n",
       "      <td></td>\n",
       "      <td></td>\n",
       "      <td></td>\n",
       "      <td></td>\n",
       "      <td></td>\n",
       "      <td></td>\n",
       "      <td></td>\n",
       "      <td>7.50 Lakh*</td>\n",
       "    </tr>\n",
       "    <tr>\n",
       "      <th>9997</th>\n",
       "      <td>Toyota Etios Cross</td>\n",
       "      <td>N/A</td>\n",
       "      <td>Petrol</td>\n",
       "      <td>80,000 Kms</td>\n",
       "      <td>2184</td>\n",
       "      <td>Manual</td>\n",
       "      <td>21</td>\n",
       "      <td>81.86</td>\n",
       "      <td>114.74nm</td>\n",
       "      <td>5</td>\n",
       "      <td>Grey</td>\n",
       "      <td>5 Speed</td>\n",
       "      <td></td>\n",
       "      <td></td>\n",
       "      <td></td>\n",
       "      <td></td>\n",
       "      <td></td>\n",
       "      <td></td>\n",
       "      <td></td>\n",
       "      <td>-</td>\n",
       "      <td></td>\n",
       "      <td></td>\n",
       "      <td></td>\n",
       "      <td>2.90 Lakh*</td>\n",
       "    </tr>\n",
       "    <tr>\n",
       "      <th>9998</th>\n",
       "      <td>Maruti Swift</td>\n",
       "      <td>N/A</td>\n",
       "      <td>Petrol</td>\n",
       "      <td>40,000 Kms</td>\n",
       "      <td>1248</td>\n",
       "      <td>Manual</td>\n",
       "      <td>20.36</td>\n",
       "      <td>78.9</td>\n",
       "      <td>111.8</td>\n",
       "      <td></td>\n",
       "      <td>Grey</td>\n",
       "      <td>5 Speed</td>\n",
       "      <td></td>\n",
       "      <td></td>\n",
       "      <td></td>\n",
       "      <td></td>\n",
       "      <td></td>\n",
       "      <td></td>\n",
       "      <td></td>\n",
       "      <td></td>\n",
       "      <td></td>\n",
       "      <td></td>\n",
       "      <td></td>\n",
       "      <td>2.80 Lakh*</td>\n",
       "    </tr>\n",
       "    <tr>\n",
       "      <th>9999</th>\n",
       "      <td>Maruti Swift</td>\n",
       "      <td>N/A</td>\n",
       "      <td>Diesel</td>\n",
       "      <td>10,000 Kms</td>\n",
       "      <td>1396</td>\n",
       "      <td>Manual</td>\n",
       "      <td>23</td>\n",
       "      <td>98.96</td>\n",
       "      <td>205</td>\n",
       "      <td></td>\n",
       "      <td>White</td>\n",
       "      <td>5 Speed</td>\n",
       "      <td></td>\n",
       "      <td></td>\n",
       "      <td></td>\n",
       "      <td></td>\n",
       "      <td></td>\n",
       "      <td></td>\n",
       "      <td></td>\n",
       "      <td></td>\n",
       "      <td></td>\n",
       "      <td></td>\n",
       "      <td></td>\n",
       "      <td>4.65 Lakh*</td>\n",
       "    </tr>\n",
       "  </tbody>\n",
       "</table>\n",
       "<p>10000 rows × 24 columns</p>\n",
       "</div>"
      ],
      "text/plain": [
       "                             Car Model Make Year Fuel Type    KMs driven  \\\n",
       "0             Volkswagen Jetta 1.6 Tdi      2010    Diesel    90,000 Kms   \n",
       "1                      Honda City Vtec      2007    Petrol    57,000 Kms   \n",
       "2                      Audi A4 2.0 Tdi      2013    Diesel    66,000 Kms   \n",
       "3            Tata Harrier Xz Dual Tone      2021    Diesel    16,000 Kms   \n",
       "4     Skoda Octavia Classic 1.9 Tdi Mt      2007    Diesel  1,10,000 Kms   \n",
       "...                                ...       ...       ...           ...   \n",
       "9995                    Maruti Celerio       N/A    Diesel    80,000 Kms   \n",
       "9996                 Hyundai Grand i10       N/A    Petrol    90,000 Kms   \n",
       "9997                Toyota Etios Cross       N/A    Petrol    80,000 Kms   \n",
       "9998                      Maruti Swift       N/A    Petrol    40,000 Kms   \n",
       "9999                      Maruti Swift       N/A    Diesel    10,000 Kms   \n",
       "\n",
       "     Engine Displacement(CC) Transmission Milage(kmpl) Max Power(bhp)  \\\n",
       "0                      1596        Manual        15.5             105   \n",
       "1                      1493        Manual          16            106    \n",
       "2                      1968     Automatic       16.55          147.51   \n",
       "3                      1956        Manual       16.35          167.67   \n",
       "4                      1896        Manual        18.7   66(90) / 4000   \n",
       "...                      ...          ...          ...            ...   \n",
       "9995                   2523        Manual       22.32          126.32   \n",
       "9996                    998        Manual       23.01              67   \n",
       "9997                   2184        Manual          21           81.86   \n",
       "9998                   1248        Manual       20.36            78.9   \n",
       "9999                   1396        Manual          23           98.96   \n",
       "\n",
       "      Torque(Nm) Seating Capacity         Color Gear Box Steering Type  \\\n",
       "0           25.5                           Blue  6 Speed         Power   \n",
       "1       13.5 kgm                         Golden  5 Speed         Power   \n",
       "2            320                          White  7 Speed         Power   \n",
       "3          350nm                            Red  6-Speed                 \n",
       "4     210 / 1900                5          Grey  5 Speed                 \n",
       "...          ...              ...           ...      ...           ...   \n",
       "9995       259.8                   Sleek Silver  4 Speed                 \n",
       "9996          91                          White  5 Speed                 \n",
       "9997    114.74nm                5          Grey  5 Speed                 \n",
       "9998       111.8                           Grey  5 Speed                 \n",
       "9999         205                          White  5 Speed                 \n",
       "\n",
       "     Front Brake Type Rear Brake Type       Tyre Volume        Engine Type  \\\n",
       "0                   -               -                       In-Line Engine   \n",
       "1                                                           In-Line Engine   \n",
       "2     Ventilated Disc                                    TDI Diesel Engine   \n",
       "3                Disc            Drum  Tubeless, Radial                      \n",
       "4                Disc            Drum   Tubeless,Radial                      \n",
       "...               ...             ...               ...                ...   \n",
       "9995                                                                         \n",
       "9996                                                                         \n",
       "9997                                                                         \n",
       "9998                                                                         \n",
       "9999                                                                         \n",
       "\n",
       "     No of Cylinder Turbo Charger Super Charger Length(mm) Width(mm)  \\\n",
       "0                 4           Yes                   4,554              \n",
       "1                 4            No            No       4270             \n",
       "2                 4           Yes            No       4701      2040   \n",
       "3                                             -                 1894   \n",
       "4                                            No                1731    \n",
       "...             ...           ...           ...        ...       ...   \n",
       "9995                                                                   \n",
       "9996                                                                   \n",
       "9997                                          -                        \n",
       "9998                                                                   \n",
       "9999                                                                   \n",
       "\n",
       "     Height(mm)    Price(Rs)  \n",
       "0                 4.90 Lakh*  \n",
       "1          1395   3.10 Lakh*  \n",
       "2          1427  15.75 Lakh*  \n",
       "3          1706  21.50 Lakh*  \n",
       "4         1455    2.49 Lakh*  \n",
       "...         ...          ...  \n",
       "9995                 5 Lakh*  \n",
       "9996              7.50 Lakh*  \n",
       "9997              2.90 Lakh*  \n",
       "9998              2.80 Lakh*  \n",
       "9999              4.65 Lakh*  \n",
       "\n",
       "[10000 rows x 24 columns]"
      ]
     },
     "execution_count": 232,
     "metadata": {},
     "output_type": "execute_result"
    }
   ],
   "source": [
    "Batch1"
   ]
  },
  {
   "cell_type": "code",
   "execution_count": 233,
   "id": "37685440",
   "metadata": {},
   "outputs": [],
   "source": [
    "# Saving Batch1 data in excel file\n",
    "Batch1.to_excel('Oldcars.xlsx', index = False)"
   ]
  },
  {
   "cell_type": "code",
   "execution_count": null,
   "id": "d29a1efd",
   "metadata": {},
   "outputs": [],
   "source": []
  }
 ],
 "metadata": {
  "kernelspec": {
   "display_name": "Python 3 (ipykernel)",
   "language": "python",
   "name": "python3"
  },
  "language_info": {
   "codemirror_mode": {
    "name": "ipython",
    "version": 3
   },
   "file_extension": ".py",
   "mimetype": "text/x-python",
   "name": "python",
   "nbconvert_exporter": "python",
   "pygments_lexer": "ipython3",
   "version": "3.9.7"
  }
 },
 "nbformat": 4,
 "nbformat_minor": 5
}
