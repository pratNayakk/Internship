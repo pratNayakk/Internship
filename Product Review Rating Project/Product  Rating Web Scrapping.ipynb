{
 "cells": [
  {
   "cell_type": "code",
   "execution_count": null,
   "id": "0d0eb8a4",
   "metadata": {},
   "outputs": [],
   "source": []
  },
  {
   "cell_type": "code",
   "execution_count": 11,
   "id": "b3d29d0d",
   "metadata": {},
   "outputs": [],
   "source": [
    "#Importing required libraries\n",
    "import pandas as pd\n",
    "import selenium\n",
    "from selenium import webdriver\n",
    "from selenium.common.exceptions import NoSuchElementException , StaleElementReferenceException\n",
    "import time\n",
    "from selenium.webdriver.common.by import By\n",
    "import warnings\n",
    "warnings.filterwarnings('ignore')"
   ]
  },
  {
   "cell_type": "markdown",
   "id": "67590fd8",
   "metadata": {},
   "source": [
    "### Scrapping data from Amazon"
   ]
  },
  {
   "cell_type": "markdown",
   "id": "f09d2cbc",
   "metadata": {},
   "source": [
    "#### Headphones"
   ]
  },
  {
   "cell_type": "code",
   "execution_count": 4,
   "id": "8fa0c86b",
   "metadata": {},
   "outputs": [],
   "source": [
    "#Connect to web driver\n",
    "driver = webdriver.Chrome(r\"C:\\Users\\prath\\Downloads\\Compressed\\chromedriver_win32\\chromedriver.exe\")"
   ]
  },
  {
   "cell_type": "code",
   "execution_count": 81,
   "id": "1cadc6bf",
   "metadata": {},
   "outputs": [],
   "source": [
    "# Opening the Amazon.in\n",
    "driver.get('https://www.amazon.in/')"
   ]
  },
  {
   "cell_type": "code",
   "execution_count": 82,
   "id": "82b0a567",
   "metadata": {},
   "outputs": [],
   "source": [
    "# Searching headphones in the search bar and clicking the search button\n",
    "search_bar=driver.find_element(By.ID,'twotabsearchtextbox')\n",
    "search_bar.send_keys(\"headphones\")\n",
    "driver.find_element(By.ID,'nav-search-submit-button').click()"
   ]
  },
  {
   "cell_type": "code",
   "execution_count": 83,
   "id": "441fe23d",
   "metadata": {},
   "outputs": [],
   "source": [
    "Product_URL=[]\n",
    "Ratings=[]\n",
    "Review=[]\n",
    "\n",
    "#Getting URLs of the product\n",
    "for i in range(1,4):\n",
    "    URL = driver.find_elements(By.XPATH,\"//a[@class='a-link-normal s-underline-text s-underline-link-text s-link-style a-text-normal']\")\n",
    "    for i in URL:\n",
    "        Product_URL.append(i.get_attribute('href'))\n",
    "      \n",
    "    try:\n",
    "        next_btn=driver.find_element(By.XPATH,\"//li[@class='a-last']/a\").click()\n",
    "    except NoSuchElementException:\n",
    "        pass"
   ]
  },
  {
   "cell_type": "code",
   "execution_count": 84,
   "id": "45ec5dd5",
   "metadata": {},
   "outputs": [
    {
     "data": {
      "text/plain": [
       "25"
      ]
     },
     "execution_count": 84,
     "metadata": {},
     "output_type": "execute_result"
    }
   ],
   "source": [
    "len(URL)"
   ]
  },
  {
   "cell_type": "code",
   "execution_count": 85,
   "id": "5b64e286",
   "metadata": {},
   "outputs": [
    {
     "name": "stdout",
     "output_type": "stream",
     "text": [
      "No rating\n",
      "No rating\n",
      "No rating\n",
      "No rating\n",
      "No rating\n",
      "No rating\n",
      "No rating\n",
      "No rating\n",
      "No rating\n",
      "No rating\n",
      "No rating\n",
      "No rating\n",
      "No rating\n",
      "No rating\n",
      "No rating\n",
      "No rating\n",
      "No rating\n",
      "No rating\n",
      "No rating\n",
      "No rating\n",
      "No rating\n",
      "No rating\n",
      "No rating\n",
      "No rating\n",
      "No rating\n",
      "No rating\n",
      "No rating\n",
      "No rating\n",
      "No rating\n",
      "No rating\n",
      "No rating\n",
      "No rating\n",
      "No rating\n",
      "No rating\n",
      "No rating\n",
      "No rating\n",
      "No rating\n",
      "No rating\n",
      "No rating\n",
      "No rating\n",
      "No rating\n",
      "No rating\n",
      "No rating\n",
      "No rating\n",
      "No rating\n",
      "No rating\n",
      "No rating\n",
      "No rating\n",
      "No rating\n",
      "No rating\n",
      "No rating\n",
      "No rating\n",
      "No rating\n",
      "No rating\n",
      "No rating\n",
      "No rating\n",
      "No rating\n",
      "No rating\n",
      "No rating\n",
      "No rating\n",
      "No rating\n",
      "No rating\n",
      "No rating\n",
      "No rating\n",
      "No rating\n",
      "No rating\n",
      "No rating\n",
      "No rating\n",
      "No rating\n",
      "No rating\n",
      "No rating\n",
      "No rating\n",
      "No rating\n",
      "No rating\n",
      "No rating\n"
     ]
    }
   ],
   "source": [
    "for i in Product_URL:\n",
    "    driver.get(i)\n",
    "    \n",
    "    # Clicking the rating\n",
    "    try:\n",
    "        driver.find_element(By.XPATH,\"//a[1][@id='acrCustomerReviewLink']\").click()\n",
    "    except NoSuchElementException:\n",
    "        print(\"No rating\")\n",
    "        pass\n",
    "    \n",
    "    #Clicking to see all reviews\n",
    "    try:\n",
    "        driver.find_element(By.XPATH,\"//a[@class='a-link-emphasis a-text-bold']\").click()\n",
    "    except NoSuchElementException:\n",
    "        pass\n",
    "    \n",
    "    #Scrapping the details\n",
    "    Start_page=1\n",
    "    End_page=50\n",
    "    for page in range(Start_page,End_page+1):\n",
    "        try:\n",
    "            Reviews=driver.find_elements(By.XPATH,\"//div[@class='a-row a-spacing-small review-data']/span/span\")\n",
    "            for r in Reviews:\n",
    "                Review.append(r.text.replace('\\n',''))\n",
    "        except NoSuchElementException:\n",
    "            Review.append(\"Not Available\")\n",
    "        try:\n",
    "            Rating=driver.find_elements(By.XPATH,\"//div[@class='a-section celwidget']/div[2]/a[1]\")\n",
    "            for i in Rating:\n",
    "                rating=i.get_attribute('title')\n",
    "                Ratings.append(rating[:3])\n",
    "        except NoSuchElementException:\n",
    "            Ratings.append(\"Not available\")      \n",
    "        \n",
    "        #Looping for going to next page automatically\n",
    "        try:\n",
    "            next_page=driver.find_element(By.XPATH,\"//div[@id='cm_cr-pagination_bar']/ul/li[2]/a\")\n",
    "            if next_page.text=='Next Page':\n",
    "                next_page.click()\n",
    "                time.sleep(2)\n",
    "        except NoSuchElementException:\n",
    "            pass"
   ]
  },
  {
   "cell_type": "code",
   "execution_count": 86,
   "id": "d3373bfd",
   "metadata": {},
   "outputs": [
    {
     "name": "stdout",
     "output_type": "stream",
     "text": [
      "37350 33150\n"
     ]
    }
   ],
   "source": [
    "#Checking the length of data extracted\n",
    "print(len(Review),len(Ratings))"
   ]
  },
  {
   "cell_type": "code",
   "execution_count": 87,
   "id": "900e07b7",
   "metadata": {},
   "outputs": [],
   "source": [
    "#Saving in dataframe\n",
    "headphones=pd.DataFrame({'Product_Review':Review[:33150],'Ratings':Ratings[:33150]})"
   ]
  },
  {
   "cell_type": "markdown",
   "id": "a6486216",
   "metadata": {},
   "source": [
    "#### Laptops"
   ]
  },
  {
   "cell_type": "code",
   "execution_count": 34,
   "id": "fa9c7dd5",
   "metadata": {},
   "outputs": [],
   "source": [
    "# Getting the website to driver\n",
    "driver.get('https://www.amazon.in/')"
   ]
  },
  {
   "cell_type": "code",
   "execution_count": 35,
   "id": "41ebf098",
   "metadata": {},
   "outputs": [],
   "source": [
    "# Searching laptops in the search bar and clicking the search button\n",
    "search_bar=driver.find_element(By.ID,'twotabsearchtextbox')\n",
    "search_bar.send_keys(\"laptops\")\n",
    "driver.find_element(By.ID,'nav-search-submit-button').click()"
   ]
  },
  {
   "cell_type": "code",
   "execution_count": 36,
   "id": "8c2e3590",
   "metadata": {},
   "outputs": [],
   "source": [
    "Product_URL=[]\n",
    "Ratings=[]\n",
    "Review=[]\n",
    "\n",
    "#Getting URLs of the product\n",
    "for i in range(1,4):\n",
    "    URL = driver.find_elements(By.XPATH,\"//a[@class='a-link-normal s-underline-text s-underline-link-text s-link-style a-text-normal']\")\n",
    "    for i in URL:\n",
    "        Product_URL.append(i.get_attribute('href'))\n",
    "      \n",
    "    try:\n",
    "        next_btn=driver.find_element(By.XPATH,\"//li[@class='a-last']/a\").click()\n",
    "    except NoSuchElementException:\n",
    "        pass"
   ]
  },
  {
   "cell_type": "code",
   "execution_count": 37,
   "id": "81ceb7ad",
   "metadata": {},
   "outputs": [
    {
     "data": {
      "text/plain": [
       "25"
      ]
     },
     "execution_count": 37,
     "metadata": {},
     "output_type": "execute_result"
    }
   ],
   "source": [
    "len(URL)"
   ]
  },
  {
   "cell_type": "code",
   "execution_count": 38,
   "id": "4e541284",
   "metadata": {},
   "outputs": [
    {
     "name": "stdout",
     "output_type": "stream",
     "text": [
      "No rating\n",
      "No rating\n",
      "No rating\n"
     ]
    }
   ],
   "source": [
    "for i in Product_URL:\n",
    "    driver.get(i)\n",
    "    \n",
    "    # Clicking the rating\n",
    "    try:\n",
    "        driver.find_element(By.XPATH,\"//a[1][@id='acrCustomerReviewLink']\").click()\n",
    "    except NoSuchElementException:\n",
    "        print(\"No rating\")\n",
    "        pass\n",
    "    \n",
    "    #Clicking to see all reviews\n",
    "    try:\n",
    "        driver.find_element(By.XPATH,\"//a[@class='a-link-emphasis a-text-bold']\").click()\n",
    "    except NoSuchElementException:\n",
    "        pass\n",
    "    \n",
    "    #Scrapping the details\n",
    "    Start_page=1\n",
    "    End_page=50\n",
    "    for page in range(Start_page,End_page+1):\n",
    "        try:\n",
    "            Reviews=driver.find_elements(By.XPATH,\"//div[@class='a-row a-spacing-small review-data']/span/span\")\n",
    "            for r in Reviews:\n",
    "                Review.append(r.text.replace('\\n',''))\n",
    "        except NoSuchElementException:\n",
    "            Review.append(\"Not Available\")\n",
    "        try:\n",
    "            Rating=driver.find_elements(By.XPATH,\"//div[@class='a-section celwidget']/div[2]/a[1]\")\n",
    "            for i in Rating:\n",
    "                rating=i.get_attribute('title')\n",
    "                Ratings.append(rating[:3])\n",
    "        except NoSuchElementException:\n",
    "            Ratings.append(\"Not available\")      \n",
    "        \n",
    "        #Looping for going to next page automatically\n",
    "        try:\n",
    "            next_page=driver.find_element(By.XPATH,\"//div[@id='cm_cr-pagination_bar']/ul/li[2]/a\")\n",
    "            if next_page.text=='Next Page':\n",
    "                next_page.click()\n",
    "                time.sleep(2)\n",
    "        except NoSuchElementException:\n",
    "            pass"
   ]
  },
  {
   "cell_type": "code",
   "execution_count": 39,
   "id": "399e4830",
   "metadata": {},
   "outputs": [
    {
     "name": "stdout",
     "output_type": "stream",
     "text": [
      "31900 33850\n"
     ]
    }
   ],
   "source": [
    "#Checking the length of data extracted\n",
    "print(len(Review),len(Ratings))"
   ]
  },
  {
   "cell_type": "code",
   "execution_count": 40,
   "id": "50fcb27a",
   "metadata": {},
   "outputs": [],
   "source": [
    "#Saving in dataframe\n",
    "laptops=pd.DataFrame({'Product_Review':Review[:31900],'Ratings':Ratings[:31900]})"
   ]
  },
  {
   "cell_type": "markdown",
   "id": "fadcdde0",
   "metadata": {},
   "source": [
    "#### Camera"
   ]
  },
  {
   "cell_type": "code",
   "execution_count": 41,
   "id": "9bc96b18",
   "metadata": {},
   "outputs": [],
   "source": [
    "# Getting the website to driver\n",
    "driver.get('https://www.amazon.in/')"
   ]
  },
  {
   "cell_type": "code",
   "execution_count": 42,
   "id": "b90b94c3",
   "metadata": {},
   "outputs": [],
   "source": [
    "# Searching laptops in the search bar and clicking the search button\n",
    "search_bar=driver.find_element(By.ID,'twotabsearchtextbox')\n",
    "search_bar.send_keys(\"dslr\")\n",
    "driver.find_element(By.ID,'nav-search-submit-button').click()"
   ]
  },
  {
   "cell_type": "code",
   "execution_count": 46,
   "id": "508de726",
   "metadata": {},
   "outputs": [],
   "source": [
    "Product_URL=[]\n",
    "Ratings=[]\n",
    "Review=[]\n",
    "\n",
    "#Getting URLs of the product\n",
    "for i in range(1,4):\n",
    "    URL = driver.find_elements(By.XPATH,\"//a[@class='a-link-normal s-underline-text s-underline-link-text s-link-style a-text-normal']\")\n",
    "    for i in URL:\n",
    "        Product_URL.append(i.get_attribute('href'))\n",
    "      \n",
    "    try:\n",
    "        next_btn=driver.find_element(By.XPATH,\"//li[@class='a-last']/a\").click()\n",
    "    except NoSuchElementException:\n",
    "        pass\n",
    "    \n",
    "    "
   ]
  },
  {
   "cell_type": "code",
   "execution_count": 47,
   "id": "56b8b688",
   "metadata": {},
   "outputs": [
    {
     "data": {
      "text/plain": [
       "20"
      ]
     },
     "execution_count": 47,
     "metadata": {},
     "output_type": "execute_result"
    }
   ],
   "source": [
    "len(URL)"
   ]
  },
  {
   "cell_type": "code",
   "execution_count": 48,
   "id": "1c2bc814",
   "metadata": {},
   "outputs": [
    {
     "name": "stdout",
     "output_type": "stream",
     "text": [
      "No rating\n",
      "No rating\n",
      "No rating\n",
      "No rating\n",
      "No rating\n",
      "No rating\n",
      "No rating\n",
      "No rating\n",
      "No rating\n",
      "No rating\n",
      "No rating\n",
      "No rating\n",
      "No rating\n",
      "No rating\n",
      "No rating\n",
      "No rating\n",
      "No rating\n",
      "No rating\n",
      "No rating\n",
      "No rating\n",
      "No rating\n",
      "No rating\n",
      "No rating\n",
      "No rating\n",
      "No rating\n",
      "No rating\n",
      "No rating\n",
      "No rating\n",
      "No rating\n",
      "No rating\n",
      "No rating\n",
      "No rating\n",
      "No rating\n",
      "No rating\n",
      "No rating\n",
      "No rating\n",
      "No rating\n",
      "No rating\n",
      "No rating\n",
      "No rating\n",
      "No rating\n",
      "No rating\n",
      "No rating\n",
      "No rating\n",
      "No rating\n",
      "No rating\n",
      "No rating\n",
      "No rating\n",
      "No rating\n"
     ]
    }
   ],
   "source": [
    "for i in Product_URL:\n",
    "    driver.get(i)\n",
    "    \n",
    "    # Clicking the rating\n",
    "    try:\n",
    "        driver.find_element(By.XPATH,\"//a[1][@id='acrCustomerReviewLink']\").click()\n",
    "    except NoSuchElementException:\n",
    "        print(\"No rating\")\n",
    "        pass\n",
    "    \n",
    "    #Clicking to see all reviews\n",
    "    try:\n",
    "        driver.find_element(By.XPATH,\"//a[@class='a-link-emphasis a-text-bold']\").click()\n",
    "    except NoSuchElementException:\n",
    "        pass\n",
    "    \n",
    "    #Scrapping the details\n",
    "    Start_page=1\n",
    "    End_page=50\n",
    "    for page in range(Start_page,End_page+1):\n",
    "        try:\n",
    "            Reviews=driver.find_elements(By.XPATH,\"//div[@class='a-row a-spacing-small review-data']/span/span\")\n",
    "            for r in Reviews:\n",
    "                Review.append(r.text.replace('\\n',''))\n",
    "        except NoSuchElementException:\n",
    "            Review.append(\"Not Available\")\n",
    "        try:\n",
    "            Rating=driver.find_elements(By.XPATH,\"//div[@class='a-section celwidget']/div[2]/a[1]\")\n",
    "            for i in Rating:\n",
    "                rating=i.get_attribute('title')\n",
    "                Ratings.append(rating[:3])\n",
    "        except NoSuchElementException:\n",
    "            Ratings.append(\"Not available\")      \n",
    "        \n",
    "        #Looping for going to next page automatically\n",
    "        try:\n",
    "            next_page=driver.find_element(By.XPATH,\"//div[@id='cm_cr-pagination_bar']/ul/li[2]/a\")\n",
    "            if next_page.text=='Next Page':\n",
    "                next_page.click()\n",
    "                time.sleep(2)\n",
    "        except NoSuchElementException:\n",
    "            pass"
   ]
  },
  {
   "cell_type": "code",
   "execution_count": 49,
   "id": "c3f2fced",
   "metadata": {},
   "outputs": [
    {
     "name": "stdout",
     "output_type": "stream",
     "text": [
      "29750 22850\n"
     ]
    }
   ],
   "source": [
    "#Checking the length of data extracted\n",
    "print(len(Review),len(Ratings))"
   ]
  },
  {
   "cell_type": "code",
   "execution_count": 50,
   "id": "781da91e",
   "metadata": {},
   "outputs": [],
   "source": [
    "#Saving in dataframe\n",
    "camera=pd.DataFrame({'Product_Review':Review[:22850],'Ratings':Ratings[:22850]})"
   ]
  },
  {
   "cell_type": "markdown",
   "id": "9340f087",
   "metadata": {},
   "source": [
    "### Scrapping data from Flipkart"
   ]
  },
  {
   "cell_type": "markdown",
   "id": "452339c0",
   "metadata": {},
   "source": [
    "#### Phone"
   ]
  },
  {
   "cell_type": "code",
   "execution_count": 52,
   "id": "1f97e5dd",
   "metadata": {},
   "outputs": [],
   "source": [
    " #Getting the website to driver\n",
    "driver.get('https://www.flipkart.com/apple-iphone-13-green-128-gb/product-reviews/itm18a55937b2607?pid=MOBGC9VGSU9DWGJZ&lid=LSTMOBGC9VGSU9DWGJZTOZYKQ&marketplace=FLIPKART')"
   ]
  },
  {
   "cell_type": "code",
   "execution_count": 53,
   "id": "eb2b881e",
   "metadata": {},
   "outputs": [],
   "source": [
    "#Taking the empty lists\n",
    "Ratings=[]\n",
    "Review=[]\n",
    "\n",
    "#As there are nearly 10 reviews per page, we will check for 400+ pages and scrap the required data\n",
    "#Now we will take a for loop and scrap\n",
    "for i in range(0,410):\n",
    "    for j in driver.find_elements(By.XPATH,\"//div[@class='_3LWZlK _1BLPMq']\"):\n",
    "        Ratings.append(j.text)\n",
    "    for j in driver.find_elements(By.XPATH,\"//div[@class='t-ZTKy']\"):\n",
    "        Review.append(j.text)\n",
    "        \n",
    "    #Path for next page as it changes for every page. We are appending numbers as pages change  \n",
    "    k=i+1\n",
    "    next_page=\"https://www.flipkart.com/apple-iphone-13-pink-128-gb/product-reviews/itm6e30c6ee045d2?pid=MOBG6VF5GXVFTQ5Y&lid=LSTMOBG6VF5GXVFTQ5YEMAFNU&marketplace=FLIPKART&page=\"+str(k) \n",
    "    driver.get(next_page)"
   ]
  },
  {
   "cell_type": "code",
   "execution_count": 54,
   "id": "8e8a534d",
   "metadata": {},
   "outputs": [
    {
     "name": "stdout",
     "output_type": "stream",
     "text": [
      "3872 4046\n"
     ]
    }
   ],
   "source": [
    "#Checking the length of the data scraped\n",
    "print(len(Ratings),len(Review))"
   ]
  },
  {
   "cell_type": "code",
   "execution_count": 55,
   "id": "e2050879",
   "metadata": {},
   "outputs": [],
   "source": [
    "#Saving in dataframe\n",
    "f_phones=pd.DataFrame({'Product_Review':Review[:3872],'Ratings':Ratings[:3872]})"
   ]
  },
  {
   "cell_type": "code",
   "execution_count": 56,
   "id": "77024e47",
   "metadata": {},
   "outputs": [
    {
     "data": {
      "text/html": [
       "<div>\n",
       "<style scoped>\n",
       "    .dataframe tbody tr th:only-of-type {\n",
       "        vertical-align: middle;\n",
       "    }\n",
       "\n",
       "    .dataframe tbody tr th {\n",
       "        vertical-align: top;\n",
       "    }\n",
       "\n",
       "    .dataframe thead th {\n",
       "        text-align: right;\n",
       "    }\n",
       "</style>\n",
       "<table border=\"1\" class=\"dataframe\">\n",
       "  <thead>\n",
       "    <tr style=\"text-align: right;\">\n",
       "      <th></th>\n",
       "      <th>Product_Review</th>\n",
       "      <th>Ratings</th>\n",
       "    </tr>\n",
       "  </thead>\n",
       "  <tbody>\n",
       "    <tr>\n",
       "      <th>0</th>\n",
       "      <td>I switch to ios from android after 10 years so...</td>\n",
       "      <td>5</td>\n",
       "    </tr>\n",
       "    <tr>\n",
       "      <th>1</th>\n",
       "      <td>Amazing beast....\\nAs expected , didn't disapp...</td>\n",
       "      <td>5</td>\n",
       "    </tr>\n",
       "    <tr>\n",
       "      <th>2</th>\n",
       "      <td>Day 2 Review: Display shows great color. Perfo...</td>\n",
       "      <td>5</td>\n",
       "    </tr>\n",
       "    <tr>\n",
       "      <th>3</th>\n",
       "      <td>Awesome camera\\nAmazing battery life\\nSuper xd...</td>\n",
       "      <td>5</td>\n",
       "    </tr>\n",
       "    <tr>\n",
       "      <th>4</th>\n",
       "      <td>Just upgraded from 11 to iPhone 13 ..cinematic...</td>\n",
       "      <td>5</td>\n",
       "    </tr>\n",
       "  </tbody>\n",
       "</table>\n",
       "</div>"
      ],
      "text/plain": [
       "                                      Product_Review Ratings\n",
       "0  I switch to ios from android after 10 years so...       5\n",
       "1  Amazing beast....\\nAs expected , didn't disapp...       5\n",
       "2  Day 2 Review: Display shows great color. Perfo...       5\n",
       "3  Awesome camera\\nAmazing battery life\\nSuper xd...       5\n",
       "4  Just upgraded from 11 to iPhone 13 ..cinematic...       5"
      ]
     },
     "execution_count": 56,
     "metadata": {},
     "output_type": "execute_result"
    }
   ],
   "source": [
    "#Checking first 5 data of the dataframe\n",
    "f_phones.head()"
   ]
  },
  {
   "cell_type": "markdown",
   "id": "edf04a90",
   "metadata": {},
   "source": [
    "#### Moto Mobiles"
   ]
  },
  {
   "cell_type": "code",
   "execution_count": 58,
   "id": "e7ec23b9",
   "metadata": {},
   "outputs": [],
   "source": [
    "#Getting the website to driver\n",
    "driver.get('https://www.flipkart.com/motorola-g60-dynamic-gray-128-gb/product-reviews/itmf1d5d2978289e?pid=MOBFWSF8U37QFQGK&lid=LSTMOBFWSF8U37QFQGKG9BJEQ&marketplace=FLIPKART')"
   ]
  },
  {
   "cell_type": "code",
   "execution_count": 59,
   "id": "7fd0a33f",
   "metadata": {},
   "outputs": [],
   "source": [
    "#Taking the empty lists\n",
    "Ratings=[]\n",
    "Review=[]\n",
    "\n",
    "#As there are nearly 10 reviews per page, we will check for 400+ pages and scrap the required data\n",
    "#Now we will take a for loop and scrap\n",
    "for i in range(0,410):\n",
    "    for j in driver.find_elements(By.XPATH,\"//div[@class='_3LWZlK _1BLPMq']\"):\n",
    "        Ratings.append(j.text)\n",
    "    for j in driver.find_elements(By.XPATH,\"//div[@class='t-ZTKy']\"):\n",
    "        Review.append(j.text)\n",
    "        \n",
    "    #Path for next page as it changes for every page. We are appending numbers as pages change  \n",
    "    k=i+1\n",
    "    next_page=\"https://www.flipkart.com/motorola-g60-dynamic-gray-128-gb/product-reviews/itmf1d5d2978289e?pid=MOBFWSF8U37QFQGK&lid=LSTMOBFWSF8U37QFQGKG9BJEQ&marketplace=FLIPKART&page=\"+str(k) \n",
    "    driver.get(next_page)"
   ]
  },
  {
   "cell_type": "code",
   "execution_count": 60,
   "id": "8ff12274",
   "metadata": {},
   "outputs": [
    {
     "name": "stdout",
     "output_type": "stream",
     "text": [
      "4100 3119\n"
     ]
    }
   ],
   "source": [
    "#Checking the length of the data scraped\n",
    "print(len(Review),len(Ratings))"
   ]
  },
  {
   "cell_type": "code",
   "execution_count": 61,
   "id": "dc390913",
   "metadata": {},
   "outputs": [],
   "source": [
    "#Saving in dataframe\n",
    "f_Moto=pd.DataFrame({'Product_Review':Review[:3119],'Ratings':Ratings[:3119]})"
   ]
  },
  {
   "cell_type": "code",
   "execution_count": 62,
   "id": "b4a5583f",
   "metadata": {},
   "outputs": [
    {
     "data": {
      "text/html": [
       "<div>\n",
       "<style scoped>\n",
       "    .dataframe tbody tr th:only-of-type {\n",
       "        vertical-align: middle;\n",
       "    }\n",
       "\n",
       "    .dataframe tbody tr th {\n",
       "        vertical-align: top;\n",
       "    }\n",
       "\n",
       "    .dataframe thead th {\n",
       "        text-align: right;\n",
       "    }\n",
       "</style>\n",
       "<table border=\"1\" class=\"dataframe\">\n",
       "  <thead>\n",
       "    <tr style=\"text-align: right;\">\n",
       "      <th></th>\n",
       "      <th>Product_Review</th>\n",
       "      <th>Ratings</th>\n",
       "    </tr>\n",
       "  </thead>\n",
       "  <tbody>\n",
       "    <tr>\n",
       "      <th>0</th>\n",
       "      <td>Best performance ... Best phone moto is very g...</td>\n",
       "      <td>5</td>\n",
       "    </tr>\n",
       "    <tr>\n",
       "      <th>1</th>\n",
       "      <td>This phone is just wow, absolutely a best phon...</td>\n",
       "      <td>5</td>\n",
       "    </tr>\n",
       "    <tr>\n",
       "      <th>2</th>\n",
       "      <td>Camera is not that expected , 108 mp not getti...</td>\n",
       "      <td>4</td>\n",
       "    </tr>\n",
       "    <tr>\n",
       "      <th>3</th>\n",
       "      <td>Battery back up is awesome, lasts for more tha...</td>\n",
       "      <td>3</td>\n",
       "    </tr>\n",
       "    <tr>\n",
       "      <th>4</th>\n",
       "      <td>Value of money awesome battery backup awesome ...</td>\n",
       "      <td>5</td>\n",
       "    </tr>\n",
       "  </tbody>\n",
       "</table>\n",
       "</div>"
      ],
      "text/plain": [
       "                                      Product_Review Ratings\n",
       "0  Best performance ... Best phone moto is very g...       5\n",
       "1  This phone is just wow, absolutely a best phon...       5\n",
       "2  Camera is not that expected , 108 mp not getti...       4\n",
       "3  Battery back up is awesome, lasts for more tha...       3\n",
       "4  Value of money awesome battery backup awesome ...       5"
      ]
     },
     "execution_count": 62,
     "metadata": {},
     "output_type": "execute_result"
    }
   ],
   "source": [
    "#Checking first 5 data of the dataframe\n",
    "f_Moto.head()"
   ]
  },
  {
   "cell_type": "markdown",
   "id": "3cb84b64",
   "metadata": {},
   "source": [
    "#### Router"
   ]
  },
  {
   "cell_type": "code",
   "execution_count": 72,
   "id": "80d1a01b",
   "metadata": {},
   "outputs": [],
   "source": [
    "#Getting the website to driver\n",
    "driver.get('https://www.flipkart.com/tp-link-tl-wr841n-300mbps-wireless-n-router/product-reviews/itmf48vgyfyx8m4f?pid=RTRD7HN3JJYF6WN2&lid=LSTRTRD7HN3JJYF6WN2K7AOMM&marketplace=FLIPKART')"
   ]
  },
  {
   "cell_type": "code",
   "execution_count": 73,
   "id": "c4f43fc4",
   "metadata": {},
   "outputs": [],
   "source": [
    "#Taking the empty lists\n",
    "Ratings=[]\n",
    "Review=[]\n",
    "\n",
    "#As there are nearly 10 reviews per page, we will check for 400+ pages and scrap the required data\n",
    "#Now we will take a for loop and scrap\n",
    "for i in range(0,150):\n",
    "    for j in driver.find_elements(By.XPATH,\"//div[@class='_3LWZlK _1BLPMq']\"):\n",
    "        Ratings.append(j.text)\n",
    "    for j in driver.find_elements(By.XPATH,\"//div[@class='t-ZTKy']\"):\n",
    "        Review.append(j.text)\n",
    "        \n",
    "    #Path for next page as it changes for every page. We are appending numbers as pages change  \n",
    "    k=i+1\n",
    "    next_page=\"https://www.flipkart.com/tp-link-tl-wr841n-300mbps-wireless-n-router/product-reviews/itmf48vgyfyx8m4f?pid=RTRD7HN3JJYF6WN2&lid=LSTRTRD7HN3JJYF6WN2K7AOMM&marketplace=FLIPKART&page=\"+str(k) \n",
    "    driver.get(next_page)"
   ]
  },
  {
   "cell_type": "code",
   "execution_count": 74,
   "id": "7156b195",
   "metadata": {},
   "outputs": [
    {
     "name": "stdout",
     "output_type": "stream",
     "text": [
      "310 297\n"
     ]
    }
   ],
   "source": [
    "#Checking the length of the data scraped\n",
    "print(len(Review),len(Ratings))"
   ]
  },
  {
   "cell_type": "code",
   "execution_count": 75,
   "id": "74ea6a7f",
   "metadata": {},
   "outputs": [],
   "source": [
    "# Saving in dataframe\n",
    "router=pd.DataFrame({'Product_Review':Review[:297],'Ratings':Ratings[:297]})"
   ]
  },
  {
   "cell_type": "code",
   "execution_count": 76,
   "id": "c24a5842",
   "metadata": {},
   "outputs": [
    {
     "data": {
      "text/html": [
       "<div>\n",
       "<style scoped>\n",
       "    .dataframe tbody tr th:only-of-type {\n",
       "        vertical-align: middle;\n",
       "    }\n",
       "\n",
       "    .dataframe tbody tr th {\n",
       "        vertical-align: top;\n",
       "    }\n",
       "\n",
       "    .dataframe thead th {\n",
       "        text-align: right;\n",
       "    }\n",
       "</style>\n",
       "<table border=\"1\" class=\"dataframe\">\n",
       "  <thead>\n",
       "    <tr style=\"text-align: right;\">\n",
       "      <th></th>\n",
       "      <th>Product_Review</th>\n",
       "      <th>Ratings</th>\n",
       "    </tr>\n",
       "  </thead>\n",
       "  <tbody>\n",
       "    <tr>\n",
       "      <th>0</th>\n",
       "      <td>*********EDIT: Today is 8th March 2015, more t...</td>\n",
       "      <td>5</td>\n",
       "    </tr>\n",
       "    <tr>\n",
       "      <th>1</th>\n",
       "      <td>I Used this Router for 30 days, Really worth f...</td>\n",
       "      <td>4</td>\n",
       "    </tr>\n",
       "    <tr>\n",
       "      <th>2</th>\n",
       "      <td>Okay, so... my review of this router is going ...</td>\n",
       "      <td>4</td>\n",
       "    </tr>\n",
       "    <tr>\n",
       "      <th>3</th>\n",
       "      <td>I bought this product on 25/05/2012 at 11.30 a...</td>\n",
       "      <td>5</td>\n",
       "    </tr>\n",
       "    <tr>\n",
       "      <th>4</th>\n",
       "      <td>After careful consideration of similar prodcut...</td>\n",
       "      <td>5</td>\n",
       "    </tr>\n",
       "  </tbody>\n",
       "</table>\n",
       "</div>"
      ],
      "text/plain": [
       "                                      Product_Review Ratings\n",
       "0  *********EDIT: Today is 8th March 2015, more t...       5\n",
       "1  I Used this Router for 30 days, Really worth f...       4\n",
       "2  Okay, so... my review of this router is going ...       4\n",
       "3  I bought this product on 25/05/2012 at 11.30 a...       5\n",
       "4  After careful consideration of similar prodcut...       5"
      ]
     },
     "execution_count": 76,
     "metadata": {},
     "output_type": "execute_result"
    }
   ],
   "source": [
    "# Checking first 5 data of the dataframe\n",
    "router.head()"
   ]
  },
  {
   "cell_type": "markdown",
   "id": "232bf4d3",
   "metadata": {},
   "source": [
    "### Exporting data in CSV file"
   ]
  },
  {
   "cell_type": "code",
   "execution_count": 89,
   "id": "001b1aa9",
   "metadata": {},
   "outputs": [
    {
     "data": {
      "text/html": [
       "<div>\n",
       "<style scoped>\n",
       "    .dataframe tbody tr th:only-of-type {\n",
       "        vertical-align: middle;\n",
       "    }\n",
       "\n",
       "    .dataframe tbody tr th {\n",
       "        vertical-align: top;\n",
       "    }\n",
       "\n",
       "    .dataframe thead th {\n",
       "        text-align: right;\n",
       "    }\n",
       "</style>\n",
       "<table border=\"1\" class=\"dataframe\">\n",
       "  <thead>\n",
       "    <tr style=\"text-align: right;\">\n",
       "      <th></th>\n",
       "      <th>Product_Review</th>\n",
       "      <th>Ratings</th>\n",
       "    </tr>\n",
       "  </thead>\n",
       "  <tbody>\n",
       "    <tr>\n",
       "      <th>0</th>\n",
       "      <td>Premetto che mi sono sentito in dovere di scr...</td>\n",
       "      <td>2.0</td>\n",
       "    </tr>\n",
       "    <tr>\n",
       "      <th>1</th>\n",
       "      <td></td>\n",
       "      <td>2.0</td>\n",
       "    </tr>\n",
       "    <tr>\n",
       "      <th>2</th>\n",
       "      <td>Let’s start from the very beginning, unpacked ...</td>\n",
       "      <td>2.0</td>\n",
       "    </tr>\n",
       "    <tr>\n",
       "      <th>3</th>\n",
       "      <td>Qualidade sólida de construção e embalagem pre...</td>\n",
       "      <td>2.0</td>\n",
       "    </tr>\n",
       "    <tr>\n",
       "      <th>4</th>\n",
       "      <td></td>\n",
       "      <td>2.0</td>\n",
       "    </tr>\n",
       "    <tr>\n",
       "      <th>...</th>\n",
       "      <td>...</td>\n",
       "      <td>...</td>\n",
       "    </tr>\n",
       "    <tr>\n",
       "      <th>95183</th>\n",
       "      <td>The product is excellent as well as service of...</td>\n",
       "      <td>5</td>\n",
       "    </tr>\n",
       "    <tr>\n",
       "      <th>95184</th>\n",
       "      <td>a grt product........\\n1.a good range of wifi ...</td>\n",
       "      <td>4</td>\n",
       "    </tr>\n",
       "    <tr>\n",
       "      <th>95185</th>\n",
       "      <td>Overall good product. My old router had crashe...</td>\n",
       "      <td>3</td>\n",
       "    </tr>\n",
       "    <tr>\n",
       "      <th>95186</th>\n",
       "      <td>So far so good, the product is just as describ...</td>\n",
       "      <td>5</td>\n",
       "    </tr>\n",
       "    <tr>\n",
       "      <th>95187</th>\n",
       "      <td>Awesome product working gr8 the signal strengt...</td>\n",
       "      <td>5</td>\n",
       "    </tr>\n",
       "  </tbody>\n",
       "</table>\n",
       "<p>95188 rows × 2 columns</p>\n",
       "</div>"
      ],
      "text/plain": [
       "                                          Product_Review Ratings\n",
       "0       Premetto che mi sono sentito in dovere di scr...     2.0\n",
       "1                                                            2.0\n",
       "2      Let’s start from the very beginning, unpacked ...     2.0\n",
       "3      Qualidade sólida de construção e embalagem pre...     2.0\n",
       "4                                                            2.0\n",
       "...                                                  ...     ...\n",
       "95183  The product is excellent as well as service of...       5\n",
       "95184  a grt product........\\n1.a good range of wifi ...       4\n",
       "95185  Overall good product. My old router had crashe...       3\n",
       "95186  So far so good, the product is just as describ...       5\n",
       "95187  Awesome product working gr8 the signal strengt...       5\n",
       "\n",
       "[95188 rows x 2 columns]"
      ]
     },
     "execution_count": 89,
     "metadata": {},
     "output_type": "execute_result"
    }
   ],
   "source": [
    "# Combining all dataframes into a single dataframe\n",
    "ratings_data=headphones.append([laptops,camera,f_phones,f_Moto,router],ignore_index=True)\n",
    "ratings_data"
   ]
  },
  {
   "cell_type": "code",
   "execution_count": 90,
   "id": "ce3028a4",
   "metadata": {},
   "outputs": [],
   "source": [
    "ratings_data.to_csv('Rating_Prediction_dataset.csv')"
   ]
  },
  {
   "cell_type": "code",
   "execution_count": null,
   "id": "48112cea",
   "metadata": {},
   "outputs": [],
   "source": []
  }
 ],
 "metadata": {
  "kernelspec": {
   "display_name": "Python 3 (ipykernel)",
   "language": "python",
   "name": "python3"
  },
  "language_info": {
   "codemirror_mode": {
    "name": "ipython",
    "version": 3
   },
   "file_extension": ".py",
   "mimetype": "text/x-python",
   "name": "python",
   "nbconvert_exporter": "python",
   "pygments_lexer": "ipython3",
   "version": "3.9.7"
  }
 },
 "nbformat": 4,
 "nbformat_minor": 5
}
