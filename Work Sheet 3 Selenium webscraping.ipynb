{
 "cells": [
  {
   "cell_type": "markdown",
   "id": "19e978f1",
   "metadata": {},
   "source": [
    "Q1: Write a python program to scrape data for “Data Analyst” Job position in “Bangalore” location. You \n",
    "have to scrape the job-title, job-location, company_name, experience_required. You have to scrape first 10 \n",
    "jobs data.\n",
    "This task will be done in following steps:\n",
    "1. First get the webpage https://www.naukri.com/\n",
    "2. Enter “Data Analyst” in “Skill, Designations, Companies” field and enter “Bangalore” in “enter the\n",
    "location” field.\n",
    "3. Then click the search button.\n",
    "4. Then scrape the data for the first 10 jobs results you get.\n",
    "5. Finally create a dataframe of the scraped data."
   ]
  },
  {
   "cell_type": "code",
   "execution_count": 1,
   "id": "b05b7384",
   "metadata": {},
   "outputs": [],
   "source": [
    "import selenium\n",
    "from selenium import webdriver\n",
    "import pandas as pd\n",
    "from selenium.webdriver.common.by import By"
   ]
  },
  {
   "cell_type": "code",
   "execution_count": 2,
   "id": "776171b8",
   "metadata": {},
   "outputs": [
    {
     "name": "stderr",
     "output_type": "stream",
     "text": [
      "C:\\Users\\prath\\AppData\\Local\\Temp/ipykernel_13012/437299702.py:1: DeprecationWarning: executable_path has been deprecated, please pass in a Service object\n",
      "  driver = webdriver.Chrome(r'C:\\Users\\prath\\Downloads\\Compressed\\chromedriver_win32\\chromedriver.exe')\n"
     ]
    }
   ],
   "source": [
    "driver = webdriver.Chrome(r'C:\\Users\\prath\\Downloads\\Compressed\\chromedriver_win32\\chromedriver.exe')"
   ]
  },
  {
   "cell_type": "code",
   "execution_count": 3,
   "id": "c362d0ec",
   "metadata": {},
   "outputs": [],
   "source": [
    "url = 'https://www.naukri.com/'\n",
    "driver.get(url)"
   ]
  },
  {
   "cell_type": "code",
   "execution_count": 4,
   "id": "a1797b21",
   "metadata": {},
   "outputs": [
    {
     "data": {
      "text/plain": [
       "<selenium.webdriver.remote.webelement.WebElement (session=\"44936e374526414e72028e088c453377\", element=\"419b8920-e756-4be7-9327-71d04b78df8a\")>"
      ]
     },
     "execution_count": 4,
     "metadata": {},
     "output_type": "execute_result"
    }
   ],
   "source": [
    "search_job = driver.find_element(By.CLASS_NAME,\"suggestor-input \")\n",
    "search_job"
   ]
  },
  {
   "cell_type": "code",
   "execution_count": 5,
   "id": "37c8e9ba",
   "metadata": {},
   "outputs": [],
   "source": [
    "search_job.send_keys(\"Data Analyst\")"
   ]
  },
  {
   "cell_type": "code",
   "execution_count": 6,
   "id": "2ddd2281",
   "metadata": {},
   "outputs": [
    {
     "data": {
      "text/plain": [
       "<selenium.webdriver.remote.webelement.WebElement (session=\"44936e374526414e72028e088c453377\", element=\"0de27eef-c64f-4ce0-b3b9-8e50d0b51dd0\")>"
      ]
     },
     "execution_count": 6,
     "metadata": {},
     "output_type": "execute_result"
    }
   ],
   "source": [
    "ser_loc = driver.find_element(By.XPATH,\"/html/body/div[1]/div[2]/div[3]/div/div/div[5]/div/div/div/input\")\n",
    "ser_loc"
   ]
  },
  {
   "cell_type": "code",
   "execution_count": 7,
   "id": "cba96f5b",
   "metadata": {},
   "outputs": [],
   "source": [
    "ser_loc.send_keys(\"Bangalore\")"
   ]
  },
  {
   "cell_type": "code",
   "execution_count": 8,
   "id": "4daf5073",
   "metadata": {},
   "outputs": [
    {
     "data": {
      "text/plain": [
       "<selenium.webdriver.remote.webelement.WebElement (session=\"44936e374526414e72028e088c453377\", element=\"609f1b9a-43a8-4cc3-a710-dec95a42c8e4\")>"
      ]
     },
     "execution_count": 8,
     "metadata": {},
     "output_type": "execute_result"
    }
   ],
   "source": [
    "ser_bot = driver.find_element(By.XPATH,\"/html/body/div[1]/div[2]/div[3]/div/div/div[6]\")\n",
    "ser_bot"
   ]
  },
  {
   "cell_type": "code",
   "execution_count": 9,
   "id": "134bc7d3",
   "metadata": {},
   "outputs": [],
   "source": [
    "ser_bot.click()"
   ]
  },
  {
   "cell_type": "code",
   "execution_count": 10,
   "id": "22b31794",
   "metadata": {},
   "outputs": [
    {
     "data": {
      "text/plain": [
       "[<selenium.webdriver.remote.webelement.WebElement (session=\"44936e374526414e72028e088c453377\", element=\"571a13ce-6dc7-4cd8-bd0e-9e02962ae545\")>,\n",
       " <selenium.webdriver.remote.webelement.WebElement (session=\"44936e374526414e72028e088c453377\", element=\"88b9fd51-b7d1-44cf-b2b2-fdfd6780975b\")>,\n",
       " <selenium.webdriver.remote.webelement.WebElement (session=\"44936e374526414e72028e088c453377\", element=\"294fd6ab-aadb-4da2-99cb-61c1bb69f2c2\")>,\n",
       " <selenium.webdriver.remote.webelement.WebElement (session=\"44936e374526414e72028e088c453377\", element=\"013fd781-e062-458a-86f7-36d18fa154c6\")>,\n",
       " <selenium.webdriver.remote.webelement.WebElement (session=\"44936e374526414e72028e088c453377\", element=\"dda6474a-3fad-441b-a6e0-2bbceda44ced\")>,\n",
       " <selenium.webdriver.remote.webelement.WebElement (session=\"44936e374526414e72028e088c453377\", element=\"5bf45447-4b01-4fb1-8487-f98f16e44647\")>,\n",
       " <selenium.webdriver.remote.webelement.WebElement (session=\"44936e374526414e72028e088c453377\", element=\"590a0eb6-3ddc-4098-994d-cff48f6b1c73\")>,\n",
       " <selenium.webdriver.remote.webelement.WebElement (session=\"44936e374526414e72028e088c453377\", element=\"90cf9fba-f95b-4ebb-bd35-5de2fa52fb0b\")>,\n",
       " <selenium.webdriver.remote.webelement.WebElement (session=\"44936e374526414e72028e088c453377\", element=\"9f94cd1d-c5d8-4cc7-894e-91f32229d8fc\")>,\n",
       " <selenium.webdriver.remote.webelement.WebElement (session=\"44936e374526414e72028e088c453377\", element=\"820d1a81-ed18-41ec-9aec-65fff21bc1f2\")>,\n",
       " <selenium.webdriver.remote.webelement.WebElement (session=\"44936e374526414e72028e088c453377\", element=\"0f5b5873-d816-41ff-b26f-ebfa9a6cbfaf\")>,\n",
       " <selenium.webdriver.remote.webelement.WebElement (session=\"44936e374526414e72028e088c453377\", element=\"0d4e17c8-5a35-49c8-a21c-793ff254d9f2\")>,\n",
       " <selenium.webdriver.remote.webelement.WebElement (session=\"44936e374526414e72028e088c453377\", element=\"3a915f90-ea27-4aaa-aa7c-6baa79a3e2b8\")>,\n",
       " <selenium.webdriver.remote.webelement.WebElement (session=\"44936e374526414e72028e088c453377\", element=\"07feeb8d-336b-4a0f-b7ac-cd8b972fd63a\")>,\n",
       " <selenium.webdriver.remote.webelement.WebElement (session=\"44936e374526414e72028e088c453377\", element=\"85f19982-8b8a-491a-8408-62501a70f92b\")>,\n",
       " <selenium.webdriver.remote.webelement.WebElement (session=\"44936e374526414e72028e088c453377\", element=\"8451406d-808f-4dd4-9f27-82e772fd4aae\")>,\n",
       " <selenium.webdriver.remote.webelement.WebElement (session=\"44936e374526414e72028e088c453377\", element=\"e561b153-d2a8-46e2-b113-95d5d2358300\")>,\n",
       " <selenium.webdriver.remote.webelement.WebElement (session=\"44936e374526414e72028e088c453377\", element=\"ab12d852-d8b7-41b3-a26e-c545c7fdb9a2\")>,\n",
       " <selenium.webdriver.remote.webelement.WebElement (session=\"44936e374526414e72028e088c453377\", element=\"738b1150-52a2-4943-a768-a1fa17298bde\")>,\n",
       " <selenium.webdriver.remote.webelement.WebElement (session=\"44936e374526414e72028e088c453377\", element=\"8939ff4c-a697-4da4-83ea-917b4029e32d\")>]"
      ]
     },
     "execution_count": 10,
     "metadata": {},
     "output_type": "execute_result"
    }
   ],
   "source": [
    "t_tag = driver.find_elements(By.XPATH,'//a[@class=\"title fw500 ellipsis\"]')\n",
    "t_tag"
   ]
  },
  {
   "cell_type": "code",
   "execution_count": 13,
   "id": "cb8910ee",
   "metadata": {},
   "outputs": [
    {
     "data": {
      "text/plain": [
       "['Data Analyst/Senior Data Analyst',\n",
       " 'Senior Data Analyst II',\n",
       " 'Data Analyst',\n",
       " 'Senior Business Analyst, Data Analytics & Engineering-DATA Engineer',\n",
       " 'Clinical Data Analyst',\n",
       " 'Senior Data Analyst',\n",
       " 'Senior Data Management Analyst',\n",
       " 'Senior Data Management Analyst',\n",
       " 'Business Analyst/Data Analyst',\n",
       " 'Senior Data Analyst']"
      ]
     },
     "execution_count": 13,
     "metadata": {},
     "output_type": "execute_result"
    }
   ],
   "source": [
    "job_titles=[]\n",
    "\n",
    "for i in t_tag[0:10]:\n",
    "    job_titles.append(i.text)\n",
    "job_titles"
   ]
  },
  {
   "cell_type": "code",
   "execution_count": 14,
   "id": "e2398a02",
   "metadata": {},
   "outputs": [
    {
     "data": {
      "text/plain": [
       "20"
      ]
     },
     "execution_count": 14,
     "metadata": {},
     "output_type": "execute_result"
    }
   ],
   "source": [
    "company = driver.find_elements(By.XPATH,'//a[@class=\"subTitle ellipsis fleft\"]')\n",
    "len(company)"
   ]
  },
  {
   "cell_type": "code",
   "execution_count": 15,
   "id": "730b96f8",
   "metadata": {},
   "outputs": [
    {
     "data": {
      "text/plain": [
       "['Meesho',\n",
       " 'Flipkart',\n",
       " 'BYJUS',\n",
       " 'Artech Infosystems Pvt. Ltd.',\n",
       " 'Navitas LLP',\n",
       " 'Walmart',\n",
       " 'Wells Fargo',\n",
       " 'Wells Fargo',\n",
       " 'cliqhr.com',\n",
       " 'manoramaONLINE']"
      ]
     },
     "execution_count": 15,
     "metadata": {},
     "output_type": "execute_result"
    }
   ],
   "source": [
    "company_name=[]\n",
    "\n",
    "for i in company[0:10]:\n",
    "    company_name.append(i.text)\n",
    "company_name"
   ]
  },
  {
   "cell_type": "code",
   "execution_count": 16,
   "id": "dde4b755",
   "metadata": {},
   "outputs": [
    {
     "data": {
      "text/plain": [
       "20"
      ]
     },
     "execution_count": 16,
     "metadata": {},
     "output_type": "execute_result"
    }
   ],
   "source": [
    "xp = driver.find_elements(By.XPATH,'//li[@class=\"fleft grey-text br2 placeHolderLi experience\"]')\n",
    "len(xp)"
   ]
  },
  {
   "cell_type": "code",
   "execution_count": 17,
   "id": "9af89ee8",
   "metadata": {},
   "outputs": [
    {
     "data": {
      "text/plain": [
       "['3-6 Yrs',\n",
       " '3-6 Yrs',\n",
       " '2-5 Yrs',\n",
       " '4-8 Yrs',\n",
       " '3-8 Yrs',\n",
       " '4-7 Yrs',\n",
       " '7-12 Yrs',\n",
       " '8-13 Yrs',\n",
       " '5-10 Yrs',\n",
       " '5-10 Yrs']"
      ]
     },
     "execution_count": 17,
     "metadata": {},
     "output_type": "execute_result"
    }
   ],
   "source": [
    "EXP=[]\n",
    "\n",
    "for i in xp[0:10]:\n",
    "    EXP.append(i.text)\n",
    "EXP"
   ]
  },
  {
   "cell_type": "code",
   "execution_count": 18,
   "id": "bbd209cc",
   "metadata": {},
   "outputs": [
    {
     "data": {
      "text/plain": [
       "20"
      ]
     },
     "execution_count": 18,
     "metadata": {},
     "output_type": "execute_result"
    }
   ],
   "source": [
    "loc = driver.find_elements(By.XPATH,'//li[@class=\"fleft grey-text br2 placeHolderLi location\"]')\n",
    "len(loc)"
   ]
  },
  {
   "cell_type": "code",
   "execution_count": 19,
   "id": "01608261",
   "metadata": {},
   "outputs": [
    {
     "data": {
      "text/plain": [
       "['Bangalore/Bengaluru',\n",
       " 'Bangalore/Bengaluru',\n",
       " 'Bangalore/Bengaluru',\n",
       " 'Bangalore/Bengaluru\\n(WFH during Covid)',\n",
       " 'Bangalore/Bengaluru, Chennai',\n",
       " 'Bangalore/Bengaluru',\n",
       " 'Bangalore/Bengaluru, Serilingampally',\n",
       " 'Bangalore/Bengaluru',\n",
       " 'Bangalore/Bengaluru, Mumbai, Hyderabad/Secunderabad, Pune, Chennai',\n",
       " 'Bangalore/Bengaluru, Chennai, kerala']"
      ]
     },
     "execution_count": 19,
     "metadata": {},
     "output_type": "execute_result"
    }
   ],
   "source": [
    "Loc=[]\n",
    "\n",
    "for i in loc[0:10]:\n",
    "    Loc.append(i.text)\n",
    "Loc"
   ]
  },
  {
   "cell_type": "code",
   "execution_count": 20,
   "id": "a8693a05",
   "metadata": {},
   "outputs": [
    {
     "data": {
      "text/html": [
       "<div>\n",
       "<style scoped>\n",
       "    .dataframe tbody tr th:only-of-type {\n",
       "        vertical-align: middle;\n",
       "    }\n",
       "\n",
       "    .dataframe tbody tr th {\n",
       "        vertical-align: top;\n",
       "    }\n",
       "\n",
       "    .dataframe thead th {\n",
       "        text-align: right;\n",
       "    }\n",
       "</style>\n",
       "<table border=\"1\" class=\"dataframe\">\n",
       "  <thead>\n",
       "    <tr style=\"text-align: right;\">\n",
       "      <th></th>\n",
       "      <th>Job Titles</th>\n",
       "      <th>company Name</th>\n",
       "      <th>Experience</th>\n",
       "      <th>Location</th>\n",
       "    </tr>\n",
       "  </thead>\n",
       "  <tbody>\n",
       "    <tr>\n",
       "      <th>0</th>\n",
       "      <td>Data Analyst/Senior Data Analyst</td>\n",
       "      <td>Meesho</td>\n",
       "      <td>3-6 Yrs</td>\n",
       "      <td>Bangalore/Bengaluru</td>\n",
       "    </tr>\n",
       "    <tr>\n",
       "      <th>1</th>\n",
       "      <td>Senior Data Analyst II</td>\n",
       "      <td>Flipkart</td>\n",
       "      <td>3-6 Yrs</td>\n",
       "      <td>Bangalore/Bengaluru</td>\n",
       "    </tr>\n",
       "    <tr>\n",
       "      <th>2</th>\n",
       "      <td>Data Analyst</td>\n",
       "      <td>BYJUS</td>\n",
       "      <td>2-5 Yrs</td>\n",
       "      <td>Bangalore/Bengaluru</td>\n",
       "    </tr>\n",
       "    <tr>\n",
       "      <th>3</th>\n",
       "      <td>Senior Business Analyst, Data Analytics &amp; Engi...</td>\n",
       "      <td>Artech Infosystems Pvt. Ltd.</td>\n",
       "      <td>4-8 Yrs</td>\n",
       "      <td>Bangalore/Bengaluru\\n(WFH during Covid)</td>\n",
       "    </tr>\n",
       "    <tr>\n",
       "      <th>4</th>\n",
       "      <td>Clinical Data Analyst</td>\n",
       "      <td>Navitas LLP</td>\n",
       "      <td>3-8 Yrs</td>\n",
       "      <td>Bangalore/Bengaluru, Chennai</td>\n",
       "    </tr>\n",
       "    <tr>\n",
       "      <th>5</th>\n",
       "      <td>Senior Data Analyst</td>\n",
       "      <td>Walmart</td>\n",
       "      <td>4-7 Yrs</td>\n",
       "      <td>Bangalore/Bengaluru</td>\n",
       "    </tr>\n",
       "    <tr>\n",
       "      <th>6</th>\n",
       "      <td>Senior Data Management Analyst</td>\n",
       "      <td>Wells Fargo</td>\n",
       "      <td>7-12 Yrs</td>\n",
       "      <td>Bangalore/Bengaluru, Serilingampally</td>\n",
       "    </tr>\n",
       "    <tr>\n",
       "      <th>7</th>\n",
       "      <td>Senior Data Management Analyst</td>\n",
       "      <td>Wells Fargo</td>\n",
       "      <td>8-13 Yrs</td>\n",
       "      <td>Bangalore/Bengaluru</td>\n",
       "    </tr>\n",
       "    <tr>\n",
       "      <th>8</th>\n",
       "      <td>Business Analyst/Data Analyst</td>\n",
       "      <td>cliqhr.com</td>\n",
       "      <td>5-10 Yrs</td>\n",
       "      <td>Bangalore/Bengaluru, Mumbai, Hyderabad/Secunde...</td>\n",
       "    </tr>\n",
       "    <tr>\n",
       "      <th>9</th>\n",
       "      <td>Senior Data Analyst</td>\n",
       "      <td>manoramaONLINE</td>\n",
       "      <td>5-10 Yrs</td>\n",
       "      <td>Bangalore/Bengaluru, Chennai, kerala</td>\n",
       "    </tr>\n",
       "  </tbody>\n",
       "</table>\n",
       "</div>"
      ],
      "text/plain": [
       "                                          Job Titles  \\\n",
       "0                   Data Analyst/Senior Data Analyst   \n",
       "1                             Senior Data Analyst II   \n",
       "2                                       Data Analyst   \n",
       "3  Senior Business Analyst, Data Analytics & Engi...   \n",
       "4                              Clinical Data Analyst   \n",
       "5                                Senior Data Analyst   \n",
       "6                     Senior Data Management Analyst   \n",
       "7                     Senior Data Management Analyst   \n",
       "8                      Business Analyst/Data Analyst   \n",
       "9                                Senior Data Analyst   \n",
       "\n",
       "                   company Name Experience  \\\n",
       "0                        Meesho    3-6 Yrs   \n",
       "1                      Flipkart    3-6 Yrs   \n",
       "2                         BYJUS    2-5 Yrs   \n",
       "3  Artech Infosystems Pvt. Ltd.    4-8 Yrs   \n",
       "4                   Navitas LLP    3-8 Yrs   \n",
       "5                       Walmart    4-7 Yrs   \n",
       "6                   Wells Fargo   7-12 Yrs   \n",
       "7                   Wells Fargo   8-13 Yrs   \n",
       "8                    cliqhr.com   5-10 Yrs   \n",
       "9                manoramaONLINE   5-10 Yrs   \n",
       "\n",
       "                                            Location  \n",
       "0                                Bangalore/Bengaluru  \n",
       "1                                Bangalore/Bengaluru  \n",
       "2                                Bangalore/Bengaluru  \n",
       "3            Bangalore/Bengaluru\\n(WFH during Covid)  \n",
       "4                       Bangalore/Bengaluru, Chennai  \n",
       "5                                Bangalore/Bengaluru  \n",
       "6               Bangalore/Bengaluru, Serilingampally  \n",
       "7                                Bangalore/Bengaluru  \n",
       "8  Bangalore/Bengaluru, Mumbai, Hyderabad/Secunde...  \n",
       "9               Bangalore/Bengaluru, Chennai, kerala  "
      ]
     },
     "execution_count": 20,
     "metadata": {},
     "output_type": "execute_result"
    }
   ],
   "source": [
    "df = pd.DataFrame({'Job Titles':job_titles,'company Name':company_name,'Experience':EXP, 'Location':Loc})\n",
    "df"
   ]
  },
  {
   "cell_type": "markdown",
   "id": "e0158923",
   "metadata": {},
   "source": [
    "Q2: Write a python program to scrape data for “Data Scientist” Job position in “Bangalore” location. You \n",
    "have to scrape the job-title, job-location, company_name. You have to scrape first 10 jobs data.\n",
    "This task will be done in following steps:\n",
    "1. First get the webpage https://www.naukri.com/\n",
    "2. Enter “Data Scientist” in “Skill, Designations, Companies” field and enter “Bangalore” in “enter the\n",
    "location” field.\n",
    "3. Then click the search button.\n",
    "4. Then scrape the data for the first 10 jobs results you get.\n",
    "5. Finally create a dataframe of the scraped data."
   ]
  },
  {
   "cell_type": "code",
   "execution_count": 21,
   "id": "16eb3113",
   "metadata": {},
   "outputs": [],
   "source": [
    "import selenium\n",
    "from selenium import webdriver\n",
    "import pandas as pd\n",
    "from selenium.webdriver.common.by import By"
   ]
  },
  {
   "cell_type": "code",
   "execution_count": 22,
   "id": "e93799d5",
   "metadata": {},
   "outputs": [
    {
     "name": "stderr",
     "output_type": "stream",
     "text": [
      "C:\\Users\\prath\\AppData\\Local\\Temp/ipykernel_13012/437299702.py:1: DeprecationWarning: executable_path has been deprecated, please pass in a Service object\n",
      "  driver = webdriver.Chrome(r'C:\\Users\\prath\\Downloads\\Compressed\\chromedriver_win32\\chromedriver.exe')\n"
     ]
    }
   ],
   "source": [
    "driver = webdriver.Chrome(r'C:\\Users\\prath\\Downloads\\Compressed\\chromedriver_win32\\chromedriver.exe')"
   ]
  },
  {
   "cell_type": "code",
   "execution_count": 23,
   "id": "7815e231",
   "metadata": {},
   "outputs": [],
   "source": [
    "url = 'https://www.naukri.com/'\n",
    "driver.get(url)"
   ]
  },
  {
   "cell_type": "code",
   "execution_count": 24,
   "id": "f31c095a",
   "metadata": {},
   "outputs": [
    {
     "data": {
      "text/plain": [
       "<selenium.webdriver.remote.webelement.WebElement (session=\"5b6daf62f58e9d28b41c887ae5254666\", element=\"cef80d9d-75b7-4bb3-9135-3522be710e34\")>"
      ]
     },
     "execution_count": 24,
     "metadata": {},
     "output_type": "execute_result"
    }
   ],
   "source": [
    "search_job = driver.find_element(By.CLASS_NAME,\"suggestor-input \")\n",
    "search_job"
   ]
  },
  {
   "cell_type": "code",
   "execution_count": 25,
   "id": "a1d3e055",
   "metadata": {},
   "outputs": [],
   "source": [
    "search_job.send_keys(\"Data Scientist\")"
   ]
  },
  {
   "cell_type": "code",
   "execution_count": 26,
   "id": "aa661bad",
   "metadata": {},
   "outputs": [
    {
     "data": {
      "text/plain": [
       "<selenium.webdriver.remote.webelement.WebElement (session=\"5b6daf62f58e9d28b41c887ae5254666\", element=\"61a82d7b-6674-4f45-a3cd-9a837418ca6d\")>"
      ]
     },
     "execution_count": 26,
     "metadata": {},
     "output_type": "execute_result"
    }
   ],
   "source": [
    "ser_loc = driver.find_element(By.XPATH,\"/html/body/div[1]/div[2]/div[3]/div/div/div[5]/div/div/div/input\")\n",
    "ser_loc"
   ]
  },
  {
   "cell_type": "code",
   "execution_count": 27,
   "id": "b05e502e",
   "metadata": {},
   "outputs": [],
   "source": [
    "ser_loc.send_keys(\"Bangalore\")"
   ]
  },
  {
   "cell_type": "code",
   "execution_count": 28,
   "id": "7978a517",
   "metadata": {},
   "outputs": [
    {
     "data": {
      "text/plain": [
       "<selenium.webdriver.remote.webelement.WebElement (session=\"5b6daf62f58e9d28b41c887ae5254666\", element=\"295ec9cb-65f1-4435-8258-80de57d9e809\")>"
      ]
     },
     "execution_count": 28,
     "metadata": {},
     "output_type": "execute_result"
    }
   ],
   "source": [
    "ser_bot = driver.find_element(By.XPATH,\"/html/body/div[1]/div[2]/div[3]/div/div/div[6]\")\n",
    "ser_bot"
   ]
  },
  {
   "cell_type": "code",
   "execution_count": 29,
   "id": "ef43ba15",
   "metadata": {},
   "outputs": [],
   "source": [
    "ser_bot.click()"
   ]
  },
  {
   "cell_type": "code",
   "execution_count": 30,
   "id": "63a03a51",
   "metadata": {},
   "outputs": [
    {
     "data": {
      "text/plain": [
       "20"
      ]
     },
     "execution_count": 30,
     "metadata": {},
     "output_type": "execute_result"
    }
   ],
   "source": [
    "t_tag = driver.find_elements(By.XPATH,'//a[@class=\"title fw500 ellipsis\"]')\n",
    "len(t_tag)"
   ]
  },
  {
   "cell_type": "code",
   "execution_count": 31,
   "id": "180359b0",
   "metadata": {},
   "outputs": [
    {
     "data": {
      "text/plain": [
       "['Urgent Job Opening For AI Practitioner - Data Science at Wipro Holmes',\n",
       " 'Opportunity For Data Scientist - Female Candidates ONLY',\n",
       " 'Research and Development -AI/ML -(PhD )',\n",
       " 'Senior Data Science Engineer',\n",
       " 'Senior Data Scientist, Personalization',\n",
       " 'Data Scientist',\n",
       " 'DigitalBCG GAMMA Data Scientist',\n",
       " 'Senior Data Scientist',\n",
       " 'Data Science - Engineering Manager',\n",
       " 'Data Scientist']"
      ]
     },
     "execution_count": 31,
     "metadata": {},
     "output_type": "execute_result"
    }
   ],
   "source": [
    "job_titles=[]\n",
    "\n",
    "for i in t_tag[0:10]:\n",
    "    job_titles.append(i.text)\n",
    "job_titles"
   ]
  },
  {
   "cell_type": "code",
   "execution_count": 32,
   "id": "357af0f8",
   "metadata": {},
   "outputs": [
    {
     "data": {
      "text/plain": [
       "20"
      ]
     },
     "execution_count": 32,
     "metadata": {},
     "output_type": "execute_result"
    }
   ],
   "source": [
    "company = driver.find_elements(By.XPATH,'//a[@class=\"subTitle ellipsis fleft\"]')\n",
    "len(company)"
   ]
  },
  {
   "cell_type": "code",
   "execution_count": 33,
   "id": "ec8a9d84",
   "metadata": {},
   "outputs": [
    {
     "data": {
      "text/plain": [
       "['Wipro',\n",
       " 'PayU',\n",
       " 'EXL',\n",
       " 'Fractal Analytics',\n",
       " 'Walmart',\n",
       " 'Schneider Electric',\n",
       " 'Boston Consulting Group',\n",
       " 'Baker Hughes',\n",
       " 'Paytm',\n",
       " 'UPL']"
      ]
     },
     "execution_count": 33,
     "metadata": {},
     "output_type": "execute_result"
    }
   ],
   "source": [
    "company_name=[]\n",
    "\n",
    "for i in company[0:10]:\n",
    "    company_name.append(i.text)\n",
    "company_name"
   ]
  },
  {
   "cell_type": "code",
   "execution_count": 34,
   "id": "ea2fe13a",
   "metadata": {},
   "outputs": [
    {
     "data": {
      "text/plain": [
       "20"
      ]
     },
     "execution_count": 34,
     "metadata": {},
     "output_type": "execute_result"
    }
   ],
   "source": [
    "xp = driver.find_elements(By.XPATH,'//li[@class=\"fleft grey-text br2 placeHolderLi experience\"]')\n",
    "len(xp)"
   ]
  },
  {
   "cell_type": "code",
   "execution_count": 35,
   "id": "9413d9e9",
   "metadata": {},
   "outputs": [
    {
     "data": {
      "text/plain": [
       "['11-21 Yrs',\n",
       " '1-3 Yrs',\n",
       " '4-8 Yrs',\n",
       " '5-9 Yrs',\n",
       " '4-7 Yrs',\n",
       " '6-9 Yrs',\n",
       " '2-5 Yrs',\n",
       " '6-8 Yrs',\n",
       " '9-13 Yrs',\n",
       " '1-4 Yrs']"
      ]
     },
     "execution_count": 35,
     "metadata": {},
     "output_type": "execute_result"
    }
   ],
   "source": [
    "EXP=[]\n",
    "\n",
    "for i in xp[0:10]:\n",
    "    EXP.append(i.text)\n",
    "EXP"
   ]
  },
  {
   "cell_type": "code",
   "execution_count": 36,
   "id": "6af21dcb",
   "metadata": {},
   "outputs": [
    {
     "data": {
      "text/plain": [
       "20"
      ]
     },
     "execution_count": 36,
     "metadata": {},
     "output_type": "execute_result"
    }
   ],
   "source": [
    "loc = driver.find_elements(By.XPATH,'//li[@class=\"fleft grey-text br2 placeHolderLi location\"]')\n",
    "len(loc)"
   ]
  },
  {
   "cell_type": "code",
   "execution_count": 37,
   "id": "ae560dad",
   "metadata": {},
   "outputs": [
    {
     "data": {
      "text/plain": [
       "['Bangalore/Bengaluru, Kochi/Cochin, New Delhi, Coimbatore, Chennai, Pune, Mumbai, Hyderabad',\n",
       " 'Bangalore/Bengaluru, Gurgaon/Gurugram, Mumbai (All Areas)',\n",
       " 'Bangalore/Bengaluru, Noida, Hyderabad/Secunderabad, Pune, Gurgaon/Gurugram, Chennai, Delhi / NCR',\n",
       " 'Bangalore/Bengaluru, Gurgaon/Gurugram, Mumbai (All Areas)',\n",
       " 'Bangalore/Bengaluru',\n",
       " 'Bangalore/Bengaluru',\n",
       " 'Bangalore/Bengaluru, New Delhi',\n",
       " 'Bangalore/Bengaluru, Mumbai',\n",
       " 'Bangalore/Bengaluru, Noida, Mumbai',\n",
       " 'Bangalore/Bengaluru, Mumbai (All Areas)']"
      ]
     },
     "execution_count": 37,
     "metadata": {},
     "output_type": "execute_result"
    }
   ],
   "source": [
    "Loc=[]\n",
    "\n",
    "for i in loc[0:10]:\n",
    "    Loc.append(i.text)\n",
    "Loc"
   ]
  },
  {
   "cell_type": "code",
   "execution_count": 38,
   "id": "2e8dc482",
   "metadata": {},
   "outputs": [
    {
     "data": {
      "text/html": [
       "<div>\n",
       "<style scoped>\n",
       "    .dataframe tbody tr th:only-of-type {\n",
       "        vertical-align: middle;\n",
       "    }\n",
       "\n",
       "    .dataframe tbody tr th {\n",
       "        vertical-align: top;\n",
       "    }\n",
       "\n",
       "    .dataframe thead th {\n",
       "        text-align: right;\n",
       "    }\n",
       "</style>\n",
       "<table border=\"1\" class=\"dataframe\">\n",
       "  <thead>\n",
       "    <tr style=\"text-align: right;\">\n",
       "      <th></th>\n",
       "      <th>Job Titles</th>\n",
       "      <th>company Name</th>\n",
       "      <th>Experience</th>\n",
       "      <th>Location</th>\n",
       "    </tr>\n",
       "  </thead>\n",
       "  <tbody>\n",
       "    <tr>\n",
       "      <th>0</th>\n",
       "      <td>Urgent Job Opening For AI Practitioner - Data ...</td>\n",
       "      <td>Wipro</td>\n",
       "      <td>11-21 Yrs</td>\n",
       "      <td>Bangalore/Bengaluru, Kochi/Cochin, New Delhi, ...</td>\n",
       "    </tr>\n",
       "    <tr>\n",
       "      <th>1</th>\n",
       "      <td>Opportunity For Data Scientist - Female Candid...</td>\n",
       "      <td>PayU</td>\n",
       "      <td>1-3 Yrs</td>\n",
       "      <td>Bangalore/Bengaluru, Gurgaon/Gurugram, Mumbai ...</td>\n",
       "    </tr>\n",
       "    <tr>\n",
       "      <th>2</th>\n",
       "      <td>Research and Development -AI/ML -(PhD )</td>\n",
       "      <td>EXL</td>\n",
       "      <td>4-8 Yrs</td>\n",
       "      <td>Bangalore/Bengaluru, Noida, Hyderabad/Secunder...</td>\n",
       "    </tr>\n",
       "    <tr>\n",
       "      <th>3</th>\n",
       "      <td>Senior Data Science Engineer</td>\n",
       "      <td>Fractal Analytics</td>\n",
       "      <td>5-9 Yrs</td>\n",
       "      <td>Bangalore/Bengaluru, Gurgaon/Gurugram, Mumbai ...</td>\n",
       "    </tr>\n",
       "    <tr>\n",
       "      <th>4</th>\n",
       "      <td>Senior Data Scientist, Personalization</td>\n",
       "      <td>Walmart</td>\n",
       "      <td>4-7 Yrs</td>\n",
       "      <td>Bangalore/Bengaluru</td>\n",
       "    </tr>\n",
       "    <tr>\n",
       "      <th>5</th>\n",
       "      <td>Data Scientist</td>\n",
       "      <td>Schneider Electric</td>\n",
       "      <td>6-9 Yrs</td>\n",
       "      <td>Bangalore/Bengaluru</td>\n",
       "    </tr>\n",
       "    <tr>\n",
       "      <th>6</th>\n",
       "      <td>DigitalBCG GAMMA Data Scientist</td>\n",
       "      <td>Boston Consulting Group</td>\n",
       "      <td>2-5 Yrs</td>\n",
       "      <td>Bangalore/Bengaluru, New Delhi</td>\n",
       "    </tr>\n",
       "    <tr>\n",
       "      <th>7</th>\n",
       "      <td>Senior Data Scientist</td>\n",
       "      <td>Baker Hughes</td>\n",
       "      <td>6-8 Yrs</td>\n",
       "      <td>Bangalore/Bengaluru, Mumbai</td>\n",
       "    </tr>\n",
       "    <tr>\n",
       "      <th>8</th>\n",
       "      <td>Data Science - Engineering Manager</td>\n",
       "      <td>Paytm</td>\n",
       "      <td>9-13 Yrs</td>\n",
       "      <td>Bangalore/Bengaluru, Noida, Mumbai</td>\n",
       "    </tr>\n",
       "    <tr>\n",
       "      <th>9</th>\n",
       "      <td>Data Scientist</td>\n",
       "      <td>UPL</td>\n",
       "      <td>1-4 Yrs</td>\n",
       "      <td>Bangalore/Bengaluru, Mumbai (All Areas)</td>\n",
       "    </tr>\n",
       "  </tbody>\n",
       "</table>\n",
       "</div>"
      ],
      "text/plain": [
       "                                          Job Titles             company Name  \\\n",
       "0  Urgent Job Opening For AI Practitioner - Data ...                    Wipro   \n",
       "1  Opportunity For Data Scientist - Female Candid...                     PayU   \n",
       "2            Research and Development -AI/ML -(PhD )                      EXL   \n",
       "3                       Senior Data Science Engineer        Fractal Analytics   \n",
       "4             Senior Data Scientist, Personalization                  Walmart   \n",
       "5                                     Data Scientist       Schneider Electric   \n",
       "6                    DigitalBCG GAMMA Data Scientist  Boston Consulting Group   \n",
       "7                              Senior Data Scientist             Baker Hughes   \n",
       "8                 Data Science - Engineering Manager                    Paytm   \n",
       "9                                     Data Scientist                      UPL   \n",
       "\n",
       "  Experience                                           Location  \n",
       "0  11-21 Yrs  Bangalore/Bengaluru, Kochi/Cochin, New Delhi, ...  \n",
       "1    1-3 Yrs  Bangalore/Bengaluru, Gurgaon/Gurugram, Mumbai ...  \n",
       "2    4-8 Yrs  Bangalore/Bengaluru, Noida, Hyderabad/Secunder...  \n",
       "3    5-9 Yrs  Bangalore/Bengaluru, Gurgaon/Gurugram, Mumbai ...  \n",
       "4    4-7 Yrs                                Bangalore/Bengaluru  \n",
       "5    6-9 Yrs                                Bangalore/Bengaluru  \n",
       "6    2-5 Yrs                     Bangalore/Bengaluru, New Delhi  \n",
       "7    6-8 Yrs                        Bangalore/Bengaluru, Mumbai  \n",
       "8   9-13 Yrs                 Bangalore/Bengaluru, Noida, Mumbai  \n",
       "9    1-4 Yrs            Bangalore/Bengaluru, Mumbai (All Areas)  "
      ]
     },
     "execution_count": 38,
     "metadata": {},
     "output_type": "execute_result"
    }
   ],
   "source": [
    "df = pd.DataFrame({'Job Titles':job_titles,'company Name':company_name,'Experience':EXP, 'Location':Loc})\n",
    "df"
   ]
  },
  {
   "cell_type": "markdown",
   "id": "fd67a5b6",
   "metadata": {},
   "source": [
    "Q3: In this question you have to scrape data using the filters available on the webpage as shown below:\n",
    "You have to use the location and salary filter.\n",
    "You have to scrape data for “Data Scientist” designation for first 10 job results.\n",
    "You have to scrape the job-title, job-location, company name, experience required. \n",
    "The location filter to be used is “Delhi/NCR”. The salary filter to be used is “3-6” lakhs"
   ]
  },
  {
   "cell_type": "code",
   "execution_count": 39,
   "id": "048dba34",
   "metadata": {},
   "outputs": [],
   "source": [
    "import selenium\n",
    "from selenium import webdriver\n",
    "import pandas as pd\n",
    "from selenium.webdriver.common.by import By"
   ]
  },
  {
   "cell_type": "code",
   "execution_count": 40,
   "id": "6823086a",
   "metadata": {},
   "outputs": [
    {
     "name": "stderr",
     "output_type": "stream",
     "text": [
      "C:\\Users\\prath\\AppData\\Local\\Temp/ipykernel_13012/437299702.py:1: DeprecationWarning: executable_path has been deprecated, please pass in a Service object\n",
      "  driver = webdriver.Chrome(r'C:\\Users\\prath\\Downloads\\Compressed\\chromedriver_win32\\chromedriver.exe')\n"
     ]
    }
   ],
   "source": [
    "driver = webdriver.Chrome(r'C:\\Users\\prath\\Downloads\\Compressed\\chromedriver_win32\\chromedriver.exe')"
   ]
  },
  {
   "cell_type": "code",
   "execution_count": 42,
   "id": "3cee3649",
   "metadata": {},
   "outputs": [],
   "source": [
    "url = 'https://www.naukri.com/'\n",
    "driver.get(url)"
   ]
  },
  {
   "cell_type": "code",
   "execution_count": 43,
   "id": "550a06d3",
   "metadata": {},
   "outputs": [
    {
     "data": {
      "text/plain": [
       "<selenium.webdriver.remote.webelement.WebElement (session=\"123b16f97edfa20357df3f5dde753833\", element=\"0a27c494-e538-42b3-b594-2399c9e83922\")>"
      ]
     },
     "execution_count": 43,
     "metadata": {},
     "output_type": "execute_result"
    }
   ],
   "source": [
    "search_job = driver.find_element(By.CLASS_NAME,\"suggestor-input \")\n",
    "search_job"
   ]
  },
  {
   "cell_type": "code",
   "execution_count": 44,
   "id": "3eb557e2",
   "metadata": {},
   "outputs": [],
   "source": [
    "search_job.send_keys(\"Data Scientist\")"
   ]
  },
  {
   "cell_type": "code",
   "execution_count": 45,
   "id": "d34e71a5",
   "metadata": {},
   "outputs": [
    {
     "data": {
      "text/plain": [
       "<selenium.webdriver.remote.webelement.WebElement (session=\"123b16f97edfa20357df3f5dde753833\", element=\"5fed7e7e-f6fc-4b83-b909-99098315126d\")>"
      ]
     },
     "execution_count": 45,
     "metadata": {},
     "output_type": "execute_result"
    }
   ],
   "source": [
    "ser_loc = driver.find_element(By.XPATH,\"/html/body/div[1]/div[2]/div[3]/div/div/div[5]/div/div/div/input\")\n",
    "ser_loc"
   ]
  },
  {
   "cell_type": "code",
   "execution_count": 46,
   "id": "3ac71fa3",
   "metadata": {},
   "outputs": [],
   "source": [
    "ser_loc.send_keys(\"Delhi\")"
   ]
  },
  {
   "cell_type": "code",
   "execution_count": 47,
   "id": "ea1cd476",
   "metadata": {},
   "outputs": [
    {
     "data": {
      "text/plain": [
       "<selenium.webdriver.remote.webelement.WebElement (session=\"123b16f97edfa20357df3f5dde753833\", element=\"7d52f3d5-3c26-458c-b424-40b77501b582\")>"
      ]
     },
     "execution_count": 47,
     "metadata": {},
     "output_type": "execute_result"
    }
   ],
   "source": [
    "ser_bot = driver.find_element(By.XPATH,\"/html/body/div[1]/div[2]/div[3]/div/div/div[6]\")\n",
    "ser_bot"
   ]
  },
  {
   "cell_type": "code",
   "execution_count": 50,
   "id": "5f78a836",
   "metadata": {},
   "outputs": [],
   "source": [
    "ser_bot.click()"
   ]
  },
  {
   "cell_type": "code",
   "execution_count": 54,
   "id": "becdff8b",
   "metadata": {},
   "outputs": [
    {
     "data": {
      "text/plain": [
       "<selenium.webdriver.remote.webelement.WebElement (session=\"123b16f97edfa20357df3f5dde753833\", element=\"c1452498-1dea-4b91-85c5-7c1471665df0\")>"
      ]
     },
     "execution_count": 54,
     "metadata": {},
     "output_type": "execute_result"
    }
   ],
   "source": [
    "sal = driver.find_element(By.XPATH,'/html/body/div[1]/div[3]/div[2]/section[1]/div[2]/div[5]/div[2]/div[2]/label/i')\n",
    "sal"
   ]
  },
  {
   "cell_type": "code",
   "execution_count": 55,
   "id": "fa7a32fc",
   "metadata": {},
   "outputs": [],
   "source": [
    "sal.click()"
   ]
  },
  {
   "cell_type": "code",
   "execution_count": 56,
   "id": "e9ee5491",
   "metadata": {},
   "outputs": [
    {
     "data": {
      "text/plain": [
       "<selenium.webdriver.remote.webelement.WebElement (session=\"123b16f97edfa20357df3f5dde753833\", element=\"89ce0935-add4-4c1d-9288-8f8ae1b5237a\")>"
      ]
     },
     "execution_count": 56,
     "metadata": {},
     "output_type": "execute_result"
    }
   ],
   "source": [
    "loc = driver.find_element(By.XPATH,'/html/body/div[1]/div[3]/div[2]/section[1]/div[2]/div[13]/div[2]/div[3]/label/i')\n",
    "loc"
   ]
  },
  {
   "cell_type": "code",
   "execution_count": 57,
   "id": "bb8383a0",
   "metadata": {},
   "outputs": [],
   "source": [
    "loc.click()"
   ]
  },
  {
   "cell_type": "code",
   "execution_count": 58,
   "id": "cdba3b14",
   "metadata": {},
   "outputs": [
    {
     "data": {
      "text/plain": [
       "20"
      ]
     },
     "execution_count": 58,
     "metadata": {},
     "output_type": "execute_result"
    }
   ],
   "source": [
    "t_tag = driver.find_elements(By.XPATH,'//a[@class=\"title fw500 ellipsis\"]')\n",
    "len(t_tag)"
   ]
  },
  {
   "cell_type": "code",
   "execution_count": 59,
   "id": "8a2bbe4a",
   "metadata": {},
   "outputs": [
    {
     "data": {
      "text/plain": [
       "['DigitalBCG GAMMA Data Scientist',\n",
       " 'Data Scientist - Noida/Bangalore',\n",
       " 'Data Scientist - Machine learning AI',\n",
       " 'Data Scientist',\n",
       " 'Data Scientist - Engine Algorithm',\n",
       " 'Data Scientist - MIND Infotech',\n",
       " 'Data Scientist - Predictive Analytics',\n",
       " 'Data Scientist',\n",
       " 'Data Scientist - Internet Jobs - II',\n",
       " 'Data Scientist']"
      ]
     },
     "execution_count": 59,
     "metadata": {},
     "output_type": "execute_result"
    }
   ],
   "source": [
    "job_titles=[]\n",
    "\n",
    "for i in t_tag[0:10]:\n",
    "    job_titles.append(i.text)\n",
    "job_titles"
   ]
  },
  {
   "cell_type": "code",
   "execution_count": 60,
   "id": "0336d815",
   "metadata": {},
   "outputs": [
    {
     "data": {
      "text/plain": [
       "20"
      ]
     },
     "execution_count": 60,
     "metadata": {},
     "output_type": "execute_result"
    }
   ],
   "source": [
    "company = driver.find_elements(By.XPATH,'//a[@class=\"subTitle ellipsis fleft\"]')\n",
    "len(company)"
   ]
  },
  {
   "cell_type": "code",
   "execution_count": 61,
   "id": "3f49bcd7",
   "metadata": {},
   "outputs": [
    {
     "data": {
      "text/plain": [
       "['Boston Consulting Group',\n",
       " 'EXL',\n",
       " 'Teq Analytics',\n",
       " 'SS Supply Chain Solutions Pvt. Ltd. (3SC)',\n",
       " 'Primo Hiring',\n",
       " 'MOTHERSONSUMI INFOTECH & DESIGNS LIMITED',\n",
       " 'Confidential',\n",
       " 'Sydata Consulting India Pvt Ltd',\n",
       " 'Jobs Territory',\n",
       " 'Kellton Tech Solutions Limited']"
      ]
     },
     "execution_count": 61,
     "metadata": {},
     "output_type": "execute_result"
    }
   ],
   "source": [
    "company_name=[]\n",
    "\n",
    "for i in company[0:10]:\n",
    "    company_name.append(i.text)\n",
    "company_name"
   ]
  },
  {
   "cell_type": "code",
   "execution_count": 62,
   "id": "7d9b2f3d",
   "metadata": {},
   "outputs": [
    {
     "data": {
      "text/plain": [
       "20"
      ]
     },
     "execution_count": 62,
     "metadata": {},
     "output_type": "execute_result"
    }
   ],
   "source": [
    "xp = driver.find_elements(By.XPATH,'//li[@class=\"fleft grey-text br2 placeHolderLi experience\"]')\n",
    "len(xp)"
   ]
  },
  {
   "cell_type": "code",
   "execution_count": 63,
   "id": "5c87da29",
   "metadata": {},
   "outputs": [
    {
     "data": {
      "text/plain": [
       "['2-5 Yrs',\n",
       " '5-10 Yrs',\n",
       " '3-8 Yrs',\n",
       " '2-5 Yrs',\n",
       " '1-3 Yrs',\n",
       " '4-8 Yrs',\n",
       " '1-6 Yrs',\n",
       " '3-8 Yrs',\n",
       " '3-6 Yrs',\n",
       " '3-6 Yrs']"
      ]
     },
     "execution_count": 63,
     "metadata": {},
     "output_type": "execute_result"
    }
   ],
   "source": [
    "EXP=[]\n",
    "\n",
    "for i in xp[0:10]:\n",
    "    EXP.append(i.text)\n",
    "EXP"
   ]
  },
  {
   "cell_type": "code",
   "execution_count": 64,
   "id": "1ead6f19",
   "metadata": {},
   "outputs": [
    {
     "data": {
      "text/plain": [
       "20"
      ]
     },
     "execution_count": 64,
     "metadata": {},
     "output_type": "execute_result"
    }
   ],
   "source": [
    "loc = driver.find_elements(By.XPATH,'//li[@class=\"fleft grey-text br2 placeHolderLi location\"]')\n",
    "len(loc)"
   ]
  },
  {
   "cell_type": "code",
   "execution_count": 65,
   "id": "87595730",
   "metadata": {},
   "outputs": [
    {
     "data": {
      "text/plain": [
       "['New Delhi, Bangalore/Bengaluru',\n",
       " 'Noida, Bangalore/Bengaluru',\n",
       " 'Delhi / NCR, Bangalore/Bengaluru, Mumbai (All Areas)\\n(WFH during Covid)',\n",
       " 'Pune, Gurgaon/Gurugram, Bangalore/Bengaluru',\n",
       " 'Delhi / NCR, Kolkata, Mumbai, Hyderabad/Secunderabad, Lucknow, Chennai, Ahmedabad, Bangalore/Bengaluru',\n",
       " 'Noida',\n",
       " 'Noida, Mumbai, Chandigarh, Hyderabad/Secunderabad, Pune, Chennai, Gurgaon/Gurugram, Coimbatore, Bangalore/Bengaluru',\n",
       " 'Delhi / NCR, Bangalore/Bengaluru, Mumbai (All Areas)\\n(WFH during Covid)',\n",
       " 'Delhi / NCR, Bangalore/Bengaluru, Mumbai (All Areas)',\n",
       " 'Gurgaon/Gurugram']"
      ]
     },
     "execution_count": 65,
     "metadata": {},
     "output_type": "execute_result"
    }
   ],
   "source": [
    "Loc=[]\n",
    "\n",
    "for i in loc[0:10]:\n",
    "    Loc.append(i.text)\n",
    "Loc"
   ]
  },
  {
   "cell_type": "code",
   "execution_count": 67,
   "id": "05351a4f",
   "metadata": {},
   "outputs": [
    {
     "data": {
      "text/html": [
       "<div>\n",
       "<style scoped>\n",
       "    .dataframe tbody tr th:only-of-type {\n",
       "        vertical-align: middle;\n",
       "    }\n",
       "\n",
       "    .dataframe tbody tr th {\n",
       "        vertical-align: top;\n",
       "    }\n",
       "\n",
       "    .dataframe thead th {\n",
       "        text-align: right;\n",
       "    }\n",
       "</style>\n",
       "<table border=\"1\" class=\"dataframe\">\n",
       "  <thead>\n",
       "    <tr style=\"text-align: right;\">\n",
       "      <th></th>\n",
       "      <th>Job Titles</th>\n",
       "      <th>company Name</th>\n",
       "      <th>Experience</th>\n",
       "      <th>Location</th>\n",
       "    </tr>\n",
       "  </thead>\n",
       "  <tbody>\n",
       "    <tr>\n",
       "      <th>0</th>\n",
       "      <td>DigitalBCG GAMMA Data Scientist</td>\n",
       "      <td>Boston Consulting Group</td>\n",
       "      <td>2-5 Yrs</td>\n",
       "      <td>New Delhi, Bangalore/Bengaluru</td>\n",
       "    </tr>\n",
       "    <tr>\n",
       "      <th>1</th>\n",
       "      <td>Data Scientist - Noida/Bangalore</td>\n",
       "      <td>EXL</td>\n",
       "      <td>5-10 Yrs</td>\n",
       "      <td>Noida, Bangalore/Bengaluru</td>\n",
       "    </tr>\n",
       "    <tr>\n",
       "      <th>2</th>\n",
       "      <td>Data Scientist - Machine learning AI</td>\n",
       "      <td>Teq Analytics</td>\n",
       "      <td>3-8 Yrs</td>\n",
       "      <td>Delhi / NCR, Bangalore/Bengaluru, Mumbai (All ...</td>\n",
       "    </tr>\n",
       "    <tr>\n",
       "      <th>3</th>\n",
       "      <td>Data Scientist</td>\n",
       "      <td>SS Supply Chain Solutions Pvt. Ltd. (3SC)</td>\n",
       "      <td>2-5 Yrs</td>\n",
       "      <td>Pune, Gurgaon/Gurugram, Bangalore/Bengaluru</td>\n",
       "    </tr>\n",
       "    <tr>\n",
       "      <th>4</th>\n",
       "      <td>Data Scientist - Engine Algorithm</td>\n",
       "      <td>Primo Hiring</td>\n",
       "      <td>1-3 Yrs</td>\n",
       "      <td>Delhi / NCR, Kolkata, Mumbai, Hyderabad/Secund...</td>\n",
       "    </tr>\n",
       "    <tr>\n",
       "      <th>5</th>\n",
       "      <td>Data Scientist - MIND Infotech</td>\n",
       "      <td>MOTHERSONSUMI INFOTECH &amp; DESIGNS LIMITED</td>\n",
       "      <td>4-8 Yrs</td>\n",
       "      <td>Noida</td>\n",
       "    </tr>\n",
       "    <tr>\n",
       "      <th>6</th>\n",
       "      <td>Data Scientist - Predictive Analytics</td>\n",
       "      <td>Confidential</td>\n",
       "      <td>1-6 Yrs</td>\n",
       "      <td>Noida, Mumbai, Chandigarh, Hyderabad/Secundera...</td>\n",
       "    </tr>\n",
       "    <tr>\n",
       "      <th>7</th>\n",
       "      <td>Data Scientist</td>\n",
       "      <td>Sydata Consulting India Pvt Ltd</td>\n",
       "      <td>3-8 Yrs</td>\n",
       "      <td>Delhi / NCR, Bangalore/Bengaluru, Mumbai (All ...</td>\n",
       "    </tr>\n",
       "    <tr>\n",
       "      <th>8</th>\n",
       "      <td>Data Scientist - Internet Jobs - II</td>\n",
       "      <td>Jobs Territory</td>\n",
       "      <td>3-6 Yrs</td>\n",
       "      <td>Delhi / NCR, Bangalore/Bengaluru, Mumbai (All ...</td>\n",
       "    </tr>\n",
       "    <tr>\n",
       "      <th>9</th>\n",
       "      <td>Data Scientist</td>\n",
       "      <td>Kellton Tech Solutions Limited</td>\n",
       "      <td>3-6 Yrs</td>\n",
       "      <td>Gurgaon/Gurugram</td>\n",
       "    </tr>\n",
       "  </tbody>\n",
       "</table>\n",
       "</div>"
      ],
      "text/plain": [
       "                              Job Titles  \\\n",
       "0        DigitalBCG GAMMA Data Scientist   \n",
       "1       Data Scientist - Noida/Bangalore   \n",
       "2   Data Scientist - Machine learning AI   \n",
       "3                         Data Scientist   \n",
       "4      Data Scientist - Engine Algorithm   \n",
       "5         Data Scientist - MIND Infotech   \n",
       "6  Data Scientist - Predictive Analytics   \n",
       "7                         Data Scientist   \n",
       "8    Data Scientist - Internet Jobs - II   \n",
       "9                         Data Scientist   \n",
       "\n",
       "                                company Name Experience  \\\n",
       "0                    Boston Consulting Group    2-5 Yrs   \n",
       "1                                        EXL   5-10 Yrs   \n",
       "2                              Teq Analytics    3-8 Yrs   \n",
       "3  SS Supply Chain Solutions Pvt. Ltd. (3SC)    2-5 Yrs   \n",
       "4                               Primo Hiring    1-3 Yrs   \n",
       "5   MOTHERSONSUMI INFOTECH & DESIGNS LIMITED    4-8 Yrs   \n",
       "6                               Confidential    1-6 Yrs   \n",
       "7            Sydata Consulting India Pvt Ltd    3-8 Yrs   \n",
       "8                             Jobs Territory    3-6 Yrs   \n",
       "9             Kellton Tech Solutions Limited    3-6 Yrs   \n",
       "\n",
       "                                            Location  \n",
       "0                     New Delhi, Bangalore/Bengaluru  \n",
       "1                         Noida, Bangalore/Bengaluru  \n",
       "2  Delhi / NCR, Bangalore/Bengaluru, Mumbai (All ...  \n",
       "3        Pune, Gurgaon/Gurugram, Bangalore/Bengaluru  \n",
       "4  Delhi / NCR, Kolkata, Mumbai, Hyderabad/Secund...  \n",
       "5                                              Noida  \n",
       "6  Noida, Mumbai, Chandigarh, Hyderabad/Secundera...  \n",
       "7  Delhi / NCR, Bangalore/Bengaluru, Mumbai (All ...  \n",
       "8  Delhi / NCR, Bangalore/Bengaluru, Mumbai (All ...  \n",
       "9                                   Gurgaon/Gurugram  "
      ]
     },
     "execution_count": 67,
     "metadata": {},
     "output_type": "execute_result"
    }
   ],
   "source": [
    "df = pd.DataFrame({'Job Titles':job_titles,'company Name':company_name,'Experience':EXP, 'Location':Loc})\n",
    "df"
   ]
  },
  {
   "cell_type": "markdown",
   "id": "e39f4042",
   "metadata": {},
   "source": [
    "Q4: Scrape data of first 100 sunglasses listings on flipkart.com. You have to scrape four attributes:\n",
    "1. Brand\n",
    "2. Product Description\n",
    "3. Price"
   ]
  },
  {
   "cell_type": "code",
   "execution_count": 69,
   "id": "3f07635c",
   "metadata": {},
   "outputs": [],
   "source": [
    "import selenium\n",
    "from selenium import webdriver\n",
    "import pandas as pd\n",
    "from selenium.webdriver.common.by import By"
   ]
  },
  {
   "cell_type": "code",
   "execution_count": 70,
   "id": "8ff32a34",
   "metadata": {},
   "outputs": [
    {
     "name": "stderr",
     "output_type": "stream",
     "text": [
      "C:\\Users\\prath\\AppData\\Local\\Temp/ipykernel_13012/437299702.py:1: DeprecationWarning: executable_path has been deprecated, please pass in a Service object\n",
      "  driver = webdriver.Chrome(r'C:\\Users\\prath\\Downloads\\Compressed\\chromedriver_win32\\chromedriver.exe')\n"
     ]
    }
   ],
   "source": [
    "driver = webdriver.Chrome(r'C:\\Users\\prath\\Downloads\\Compressed\\chromedriver_win32\\chromedriver.exe')"
   ]
  },
  {
   "cell_type": "code",
   "execution_count": 71,
   "id": "ca245745",
   "metadata": {},
   "outputs": [],
   "source": [
    "url = 'https://www.flipkart.com/'\n",
    "driver.get(url)"
   ]
  },
  {
   "cell_type": "code",
   "execution_count": 73,
   "id": "acc3a3ef",
   "metadata": {},
   "outputs": [
    {
     "data": {
      "text/plain": [
       "<selenium.webdriver.remote.webelement.WebElement (session=\"841764cc3dba2eb404c66a2c6a3313d2\", element=\"8e1c8774-43e9-4bd0-b51d-223a8734c57a\")>"
      ]
     },
     "execution_count": 73,
     "metadata": {},
     "output_type": "execute_result"
    }
   ],
   "source": [
    "search = driver.find_element(By.CLASS_NAME,\"_3704LK\")\n",
    "search"
   ]
  },
  {
   "cell_type": "code",
   "execution_count": 74,
   "id": "31a2c31c",
   "metadata": {},
   "outputs": [],
   "source": [
    "search.send_keys(\"sunglasses\")"
   ]
  },
  {
   "cell_type": "code",
   "execution_count": 76,
   "id": "780d2ec6",
   "metadata": {},
   "outputs": [
    {
     "data": {
      "text/plain": [
       "<selenium.webdriver.remote.webelement.WebElement (session=\"841764cc3dba2eb404c66a2c6a3313d2\", element=\"9c120052-2dd6-462b-8c65-8f1455f7820f\")>"
      ]
     },
     "execution_count": 76,
     "metadata": {},
     "output_type": "execute_result"
    }
   ],
   "source": [
    "ser_bot = driver.find_element(By.XPATH,\"/html/body/div[1]/div/div[1]/div[1]/div[2]/div[2]/form/div/button\")\n",
    "ser_bot"
   ]
  },
  {
   "cell_type": "code",
   "execution_count": 77,
   "id": "05fca93f",
   "metadata": {},
   "outputs": [],
   "source": [
    "ser_bot.click()"
   ]
  },
  {
   "cell_type": "code",
   "execution_count": 79,
   "id": "ce042128",
   "metadata": {},
   "outputs": [
    {
     "data": {
      "text/plain": [
       "40"
      ]
     },
     "execution_count": 79,
     "metadata": {},
     "output_type": "execute_result"
    }
   ],
   "source": [
    "product = driver.find_elements(By.XPATH,'//div[@class=\"_2WkVRV\"]')\n",
    "len(product)"
   ]
  },
  {
   "cell_type": "code",
   "execution_count": 80,
   "id": "343cc911",
   "metadata": {},
   "outputs": [
    {
     "data": {
      "text/plain": [
       "['PIRASO',\n",
       " 'PIRASO',\n",
       " 'New Specs',\n",
       " 'SRPM',\n",
       " 'Fastrack',\n",
       " 'Fastrack',\n",
       " 'DAHAAZIL',\n",
       " 'PIRASO',\n",
       " 'PIRASO',\n",
       " 'SHAAH COLLECTIONS',\n",
       " 'PIRASO',\n",
       " 'PIRASO',\n",
       " 'Lee Topper',\n",
       " 'PIRASO',\n",
       " 'PIRASO',\n",
       " 'PIRASO',\n",
       " 'SUNBEE',\n",
       " 'ROZZETTA CRAFT',\n",
       " 'ROZZETTA CRAFT',\n",
       " 'PIRASO',\n",
       " 'Fastrack',\n",
       " 'Fastrack',\n",
       " 'CRYSTAL CART',\n",
       " 'PIRASO',\n",
       " 'New Specs',\n",
       " 'kingsunglasses',\n",
       " 'PIRASO',\n",
       " 'ROZZETTA CRAFT',\n",
       " 'Lee Topper',\n",
       " 'Fastrack',\n",
       " 'Mi',\n",
       " 'ROZZETTA CRAFT',\n",
       " 'kingsunglasses',\n",
       " 'Sewell',\n",
       " 'VINCENT CHASE',\n",
       " 'PIRASO',\n",
       " 'CRYSTAL CART',\n",
       " 'Elligator',\n",
       " 'kingsunglasses',\n",
       " 'ROZZETTA CRAFT']"
      ]
     },
     "execution_count": 80,
     "metadata": {},
     "output_type": "execute_result"
    }
   ],
   "source": [
    "Product=[]\n",
    "\n",
    "for i in product:\n",
    "    Product.append(i.text)\n",
    "Product"
   ]
  },
  {
   "cell_type": "code",
   "execution_count": 82,
   "id": "256c5510",
   "metadata": {},
   "outputs": [
    {
     "data": {
      "text/plain": [
       "40"
      ]
     },
     "execution_count": 82,
     "metadata": {},
     "output_type": "execute_result"
    }
   ],
   "source": [
    "product_dis = driver.find_elements(By.XPATH,'//a[@class=\"IRpwTa\"]')\n",
    "len(product_dis)"
   ]
  },
  {
   "cell_type": "code",
   "execution_count": 83,
   "id": "658a58e4",
   "metadata": {},
   "outputs": [
    {
     "data": {
      "text/plain": [
       "['UV Protection Rectangular, Over-sized Sunglasses (Free ...',\n",
       " 'UV Protection Retro Square Sunglasses (64)',\n",
       " 'UV Protection Rectangular Sunglasses (Free Size)',\n",
       " 'UV Protection Wayfarer Sunglasses (50)',\n",
       " 'UV Protection Wayfarer Sunglasses (Free Size)',\n",
       " 'UV Protection Rectangular Sunglasses (Free Size)',\n",
       " 'UV Protection, Night Vision, Riding Glasses Wayfarer, W...',\n",
       " 'UV Protection Over-sized Sunglasses (64)',\n",
       " 'UV Protection Aviator Sunglasses (58)',\n",
       " 'UV Protection, Polarized, Mirrored Rectangular Sunglass...',\n",
       " 'UV Protection Aviator Sunglasses (54)',\n",
       " 'UV Protection Over-sized Sunglasses (64)',\n",
       " 'UV Protection Cat-eye Sunglasses (Free Size)',\n",
       " 'UV Protection Aviator Sunglasses (54)',\n",
       " 'UV Protection Rectangular Sunglasses (52)',\n",
       " 'UV Protection Over-sized Sunglasses (60)',\n",
       " 'UV Protection, Polarized, Mirrored Retro Square Sunglas...',\n",
       " 'UV Protection, Gradient Retro Square Sunglasses (Free S...',\n",
       " 'Polarized, Riding Glasses Sports, Wrap-around Sunglasse...',\n",
       " 'UV Protection Over-sized Sunglasses (64)',\n",
       " 'Gradient, UV Protection Wayfarer Sunglasses (Free Size)',\n",
       " 'UV Protection Aviator Sunglasses (58)',\n",
       " 'Mirrored, Night Vision Oval Sunglasses (Free Size)',\n",
       " 'UV Protection Over-sized Sunglasses (60)',\n",
       " 'Mirrored, UV Protection, Riding Glasses, Others Round S...',\n",
       " 'UV Protection, Riding Glasses, Mirrored Wayfarer Sungla...',\n",
       " 'UV Protection Wayfarer Sunglasses (32)',\n",
       " 'UV Protection, Gradient Round Sunglasses (Free Size)',\n",
       " 'Riding Glasses Wrap-around Sunglasses (Free Size)',\n",
       " 'UV Protection Wayfarer Sunglasses (Free Size)',\n",
       " 'Polarized Wayfarer Sunglasses (Free Size)',\n",
       " 'UV Protection, Gradient Rectangular Sunglasses (Free Si...',\n",
       " 'UV Protection Round Sunglasses (Free Size)',\n",
       " 'Mirrored, Night Vision, UV Protection, Riding Glasses S...',\n",
       " 'by Lenskart UV Protection Clubmaster Sunglasses (55)',\n",
       " 'UV Protection Butterfly Sunglasses (60)',\n",
       " 'Polarized, UV Protection, Mirrored, Gradient Rectangula...',\n",
       " 'UV Protection Round Sunglasses (53)',\n",
       " 'UV Protection Round Sunglasses (54)',\n",
       " 'UV Protection, Riding Glasses Rectangular Sunglasses (F...']"
      ]
     },
     "execution_count": 83,
     "metadata": {},
     "output_type": "execute_result"
    }
   ],
   "source": [
    "Product_dis=[]\n",
    "\n",
    "for i in product_dis:\n",
    "    Product_dis.append(i.text)\n",
    "Product_dis"
   ]
  },
  {
   "cell_type": "code",
   "execution_count": 84,
   "id": "cfb8f0b5",
   "metadata": {},
   "outputs": [
    {
     "data": {
      "text/plain": [
       "40"
      ]
     },
     "execution_count": 84,
     "metadata": {},
     "output_type": "execute_result"
    }
   ],
   "source": [
    "price = driver.find_elements(By.XPATH,'//div[@class=\"_30jeq3\"]')\n",
    "len(price)"
   ]
  },
  {
   "cell_type": "code",
   "execution_count": 86,
   "id": "2dd34535",
   "metadata": {},
   "outputs": [
    {
     "data": {
      "text/plain": [
       "['₹368',\n",
       " '₹439',\n",
       " '₹264',\n",
       " '₹224',\n",
       " '₹799',\n",
       " '₹639',\n",
       " '₹197',\n",
       " '₹439',\n",
       " '₹359',\n",
       " '₹195',\n",
       " '₹224',\n",
       " '₹439',\n",
       " '₹229',\n",
       " '₹224',\n",
       " '₹306',\n",
       " '₹439',\n",
       " '₹259',\n",
       " '₹349',\n",
       " '₹499',\n",
       " '₹439',\n",
       " '₹719',\n",
       " '₹1,039',\n",
       " '₹189',\n",
       " '₹199',\n",
       " '₹299',\n",
       " '₹213',\n",
       " '₹226',\n",
       " '₹399',\n",
       " '₹299',\n",
       " '₹759',\n",
       " '₹799',\n",
       " '₹399',\n",
       " '₹329',\n",
       " '₹265',\n",
       " '₹949',\n",
       " '₹405',\n",
       " '₹529',\n",
       " '₹219',\n",
       " '₹214',\n",
       " '₹449']"
      ]
     },
     "execution_count": 86,
     "metadata": {},
     "output_type": "execute_result"
    }
   ],
   "source": [
    "Price=[]\n",
    "\n",
    "for i in price:\n",
    "    Price.append(i.text)\n",
    "Price"
   ]
  },
  {
   "cell_type": "code",
   "execution_count": 87,
   "id": "eac21e18",
   "metadata": {},
   "outputs": [
    {
     "data": {
      "text/plain": [
       "<selenium.webdriver.remote.webelement.WebElement (session=\"841764cc3dba2eb404c66a2c6a3313d2\", element=\"041ab03f-8f5e-4cd1-9608-1a0059c8603d\")>"
      ]
     },
     "execution_count": 87,
     "metadata": {},
     "output_type": "execute_result"
    }
   ],
   "source": [
    "nxt_bot = driver.find_element(By.XPATH,\"/html/body/div[1]/div/div[3]/div[1]/div[2]/div[12]/div/div/nav/a[11]\")\n",
    "nxt_bot"
   ]
  },
  {
   "cell_type": "code",
   "execution_count": 88,
   "id": "8c3cd506",
   "metadata": {},
   "outputs": [],
   "source": [
    "nxt_bot.click()"
   ]
  },
  {
   "cell_type": "code",
   "execution_count": 90,
   "id": "22a26cf4",
   "metadata": {},
   "outputs": [
    {
     "data": {
      "text/plain": [
       "40"
      ]
     },
     "execution_count": 90,
     "metadata": {},
     "output_type": "execute_result"
    }
   ],
   "source": [
    "product2 = driver.find_elements(By.XPATH,'//div[@class=\"_2WkVRV\"]')\n",
    "len(product2)"
   ]
  },
  {
   "cell_type": "code",
   "execution_count": 91,
   "id": "1e39d0c8",
   "metadata": {},
   "outputs": [
    {
     "data": {
      "text/plain": [
       "['Fastrack',\n",
       " 'Elligator',\n",
       " 'kingsunglasses',\n",
       " 'PIRASO',\n",
       " 'kingsunglasses',\n",
       " 'SUNBEE',\n",
       " 'VINCENT CHASE',\n",
       " 'PIRASO',\n",
       " 'PIRASO',\n",
       " 'kingsunglasses',\n",
       " 'Lee Topper',\n",
       " 'PIRASO',\n",
       " 'New Specs',\n",
       " 'ROZZETTA CRAFT',\n",
       " 'Fastrack',\n",
       " 'PIRASO',\n",
       " 'PIRASO',\n",
       " 'Fastrack',\n",
       " 'ROYAL SON',\n",
       " 'PIRASO',\n",
       " 'Fastrack',\n",
       " 'SRPM',\n",
       " 'PIRASO',\n",
       " 'PIRASO',\n",
       " 'SRPM',\n",
       " 'Fastrack',\n",
       " 'Fastrack',\n",
       " 'ROZZETTA CRAFT',\n",
       " 'ROYAL SON',\n",
       " 'SRPM',\n",
       " 'Fastrack',\n",
       " 'PIRASO',\n",
       " 'ROZZETTA CRAFT',\n",
       " 'LIZA ANGEL',\n",
       " 'DEIXELS',\n",
       " 'PIRASO',\n",
       " 'SHAAH COLLECTIONS',\n",
       " 'New Specs',\n",
       " 'New Specs',\n",
       " 'ROZZETTA CRAFT']"
      ]
     },
     "execution_count": 91,
     "metadata": {},
     "output_type": "execute_result"
    }
   ],
   "source": [
    "Product2=[]\n",
    "\n",
    "for i in product2:\n",
    "    Product2.append(i.text)\n",
    "Product2"
   ]
  },
  {
   "cell_type": "code",
   "execution_count": 92,
   "id": "ed6b57f2",
   "metadata": {},
   "outputs": [
    {
     "data": {
      "text/plain": [
       "40"
      ]
     },
     "execution_count": 92,
     "metadata": {},
     "output_type": "execute_result"
    }
   ],
   "source": [
    "product_dis2 = driver.find_elements(By.XPATH,'//a[@class=\"IRpwTa\"]')\n",
    "len(product_dis2)"
   ]
  },
  {
   "cell_type": "code",
   "execution_count": 93,
   "id": "ec36de73",
   "metadata": {},
   "outputs": [
    {
     "data": {
      "text/plain": [
       "['UV Protection Aviator Sunglasses (58)',\n",
       " 'UV Protection Round Sunglasses (53)',\n",
       " 'UV Protection Round Sunglasses (54)',\n",
       " 'UV Protection Rectangular Sunglasses (52)',\n",
       " 'UV Protection Round Sunglasses (Free Size)',\n",
       " 'UV Protection, Polarized, Mirrored Wayfarer Sunglasses ...',\n",
       " 'by Lenskart Polarized, UV Protection Cat-eye Sunglasses...',\n",
       " 'UV Protection Retro Square Sunglasses (64)',\n",
       " 'UV Protection Over-sized Sunglasses (65)',\n",
       " 'UV Protection, Mirrored Aviator Sunglasses (Free Size)',\n",
       " 'UV Protection Rectangular Sunglasses (Free Size)',\n",
       " 'UV Protection Over-sized Sunglasses (64)',\n",
       " 'UV Protection Round Sunglasses (Free Size)',\n",
       " 'UV Protection Rectangular Sunglasses (Free Size)',\n",
       " 'UV Protection Shield Sunglasses (Free Size)',\n",
       " 'UV Protection Over-sized Sunglasses (64)',\n",
       " 'UV Protection Aviator Sunglasses (55)',\n",
       " 'UV Protection Wayfarer Sunglasses (Free Size)',\n",
       " 'Mirrored Aviator Sunglasses (55)',\n",
       " 'UV Protection Over-sized Sunglasses (60)',\n",
       " 'UV Protection Wayfarer Sunglasses (55)',\n",
       " 'Others Wayfarer, Retro Square Sunglasses (50)',\n",
       " 'UV Protection Aviator Sunglasses (54)',\n",
       " 'UV Protection Over-sized Sunglasses (64)',\n",
       " 'UV Protection Wayfarer Sunglasses (53)',\n",
       " 'UV Protection Shield Sunglasses (Free Size)',\n",
       " 'UV Protection Wayfarer Sunglasses (Free Size)',\n",
       " 'UV Protection, Gradient Round Sunglasses (Free Size)',\n",
       " 'Mirrored Aviator Sunglasses (Free Size)',\n",
       " 'Night Vision, UV Protection Round Sunglasses (54)',\n",
       " 'Gradient, UV Protection Wayfarer Sunglasses (Free Size)',\n",
       " 'UV Protection Wayfarer Sunglasses (32)',\n",
       " 'UV Protection Retro Square Sunglasses (Free Size)',\n",
       " 'Riding Glasses, Night Vision Spectacle Sunglasses (Fre...',\n",
       " 'UV Protection Aviator Sunglasses (Free Size)',\n",
       " 'UV Protection Over-sized Sunglasses (60)',\n",
       " 'UV Protection Round Sunglasses (Free Size)',\n",
       " 'UV Protection Rectangular Sunglasses (Free Size)',\n",
       " 'UV Protection Aviator Sunglasses (Free Size)',\n",
       " 'UV Protection, Gradient Rectangular Sunglasses (Free Si...']"
      ]
     },
     "execution_count": 93,
     "metadata": {},
     "output_type": "execute_result"
    }
   ],
   "source": [
    "Product_dis2=[]\n",
    "\n",
    "for i in product_dis2:\n",
    "    Product_dis2.append(i.text)\n",
    "Product_dis2"
   ]
  },
  {
   "cell_type": "code",
   "execution_count": 94,
   "id": "4189f3d8",
   "metadata": {},
   "outputs": [
    {
     "data": {
      "text/plain": [
       "40"
      ]
     },
     "execution_count": 94,
     "metadata": {},
     "output_type": "execute_result"
    }
   ],
   "source": [
    "price2 = driver.find_elements(By.XPATH,'//div[@class=\"_30jeq3\"]')\n",
    "len(price2)"
   ]
  },
  {
   "cell_type": "code",
   "execution_count": 95,
   "id": "cb178563",
   "metadata": {},
   "outputs": [
    {
     "data": {
      "text/plain": [
       "['₹1,039',\n",
       " '₹219',\n",
       " '₹214',\n",
       " '₹306',\n",
       " '₹329',\n",
       " '₹283',\n",
       " '₹949',\n",
       " '₹439',\n",
       " '₹410',\n",
       " '₹269',\n",
       " '₹219',\n",
       " '₹439',\n",
       " '₹268',\n",
       " '₹319',\n",
       " '₹719',\n",
       " '₹439',\n",
       " '₹246',\n",
       " '₹899',\n",
       " '₹379',\n",
       " '₹439',\n",
       " '₹721',\n",
       " '₹219',\n",
       " '₹246',\n",
       " '₹439',\n",
       " '₹249',\n",
       " '₹809',\n",
       " '₹599',\n",
       " '₹399',\n",
       " '₹379',\n",
       " '₹233',\n",
       " '₹719',\n",
       " '₹226',\n",
       " '₹499',\n",
       " '₹179',\n",
       " '₹236',\n",
       " '₹199',\n",
       " '₹279',\n",
       " '₹189',\n",
       " '₹214',\n",
       " '₹399']"
      ]
     },
     "execution_count": 95,
     "metadata": {},
     "output_type": "execute_result"
    }
   ],
   "source": [
    "Price2=[]\n",
    "\n",
    "for i in price2:\n",
    "    Price2.append(i.text)\n",
    "Price2"
   ]
  },
  {
   "cell_type": "code",
   "execution_count": 96,
   "id": "3d39f73f",
   "metadata": {},
   "outputs": [
    {
     "data": {
      "text/plain": [
       "<selenium.webdriver.remote.webelement.WebElement (session=\"841764cc3dba2eb404c66a2c6a3313d2\", element=\"37806dc8-c9fb-40b6-9575-9055c65282b7\")>"
      ]
     },
     "execution_count": 96,
     "metadata": {},
     "output_type": "execute_result"
    }
   ],
   "source": [
    "nxt_bot2 = driver.find_element(By.XPATH,\"/html/body/div[1]/div/div[3]/div[1]/div[2]/div[12]/div/div/nav/a[11]\")\n",
    "nxt_bot2"
   ]
  },
  {
   "cell_type": "code",
   "execution_count": 97,
   "id": "f23ea001",
   "metadata": {},
   "outputs": [],
   "source": [
    "nxt_bot2.click()"
   ]
  },
  {
   "cell_type": "code",
   "execution_count": 98,
   "id": "172f2452",
   "metadata": {},
   "outputs": [
    {
     "data": {
      "text/plain": [
       "40"
      ]
     },
     "execution_count": 98,
     "metadata": {},
     "output_type": "execute_result"
    }
   ],
   "source": [
    "product3 = driver.find_elements(By.XPATH,'//div[@class=\"_2WkVRV\"]')\n",
    "len(product3)"
   ]
  },
  {
   "cell_type": "code",
   "execution_count": 99,
   "id": "ed58a570",
   "metadata": {},
   "outputs": [
    {
     "data": {
      "text/plain": [
       "['Ray-Ban',\n",
       " 'ROYAL SON',\n",
       " 'AISLIN',\n",
       " 'New Specs',\n",
       " 'OAKLEY',\n",
       " 'GANSTA',\n",
       " 'style guru',\n",
       " 'Ray-Ban',\n",
       " 'john jacobs',\n",
       " 'Ray-Ban',\n",
       " 'GANSTA',\n",
       " 'ROYAL SON',\n",
       " 'AISLIN',\n",
       " 'Ray-Ban',\n",
       " 'Elligator',\n",
       " 'AISLIN',\n",
       " 'Ray-Ban',\n",
       " 'ROYAL SON',\n",
       " 'GANSTA',\n",
       " 'Fastrack']"
      ]
     },
     "execution_count": 99,
     "metadata": {},
     "output_type": "execute_result"
    }
   ],
   "source": [
    "Product3=[]\n",
    "\n",
    "for i in product3[0:20]:\n",
    "    Product3.append(i.text)\n",
    "Product3"
   ]
  },
  {
   "cell_type": "code",
   "execution_count": 100,
   "id": "633f92c1",
   "metadata": {},
   "outputs": [
    {
     "data": {
      "text/plain": [
       "40"
      ]
     },
     "execution_count": 100,
     "metadata": {},
     "output_type": "execute_result"
    }
   ],
   "source": [
    "product_dis3 = driver.find_elements(By.XPATH,'//a[@class=\"IRpwTa\"]')\n",
    "len(product_dis3)"
   ]
  },
  {
   "cell_type": "code",
   "execution_count": 101,
   "id": "6d44eb1a",
   "metadata": {},
   "outputs": [
    {
     "data": {
      "text/plain": [
       "['Others Aviator Sunglasses (58)',\n",
       " 'UV Protection Rectangular Sunglasses (64)',\n",
       " 'UV Protection, Gradient Butterfly, Over-sized Sunglasse...',\n",
       " 'UV Protection Wayfarer Sunglasses (Free Size)',\n",
       " 'HOLBROOK Wayfarer Sunglass',\n",
       " 'UV Protection, Gradient Wayfarer Sunglasses (53)',\n",
       " 'UV Protection Retro Square Sunglasses (Free Size)',\n",
       " 'UV Protection Round Sunglasses (55)',\n",
       " 'UV Protection Clubmaster Sunglasses (47)',\n",
       " 'UV Protection Wayfarer Sunglasses (50)',\n",
       " 'Riding Glasses, Gradient Aviator Sunglasses (57)',\n",
       " 'Mirrored Aviator Sunglasses (Free Size)',\n",
       " 'UV Protection, Gradient Round Sunglasses (58)',\n",
       " 'UV Protection Retro Square Sunglasses (53)',\n",
       " 'Others Cat-eye, Retro Square, Wayfarer Sunglasses (54)',\n",
       " 'UV Protection, Gradient Butterfly, Over-sized Sunglasse...',\n",
       " 'UV Protection Round Sunglasses (53)',\n",
       " 'UV Protection Retro Square Sunglasses (58)',\n",
       " 'UV Protection, Riding Glasses Aviator Sunglasses (57)',\n",
       " 'UV Protection Round Sunglasses (52)']"
      ]
     },
     "execution_count": 101,
     "metadata": {},
     "output_type": "execute_result"
    }
   ],
   "source": [
    "Product_dis3=[]\n",
    "\n",
    "for i in product_dis3[0:20]:\n",
    "    Product_dis3.append(i.text)\n",
    "Product_dis3"
   ]
  },
  {
   "cell_type": "code",
   "execution_count": 102,
   "id": "44822731",
   "metadata": {},
   "outputs": [
    {
     "data": {
      "text/plain": [
       "40"
      ]
     },
     "execution_count": 102,
     "metadata": {},
     "output_type": "execute_result"
    }
   ],
   "source": [
    "price3 = driver.find_elements(By.XPATH,'//div[@class=\"_30jeq3\"]')\n",
    "len(price3)"
   ]
  },
  {
   "cell_type": "code",
   "execution_count": 103,
   "id": "3db5ccc4",
   "metadata": {},
   "outputs": [
    {
     "data": {
      "text/plain": [
       "['₹9,907',\n",
       " '₹664',\n",
       " '₹675',\n",
       " '₹213',\n",
       " '₹7,037',\n",
       " '₹314',\n",
       " '₹319',\n",
       " '₹7,369',\n",
       " '₹4,000',\n",
       " '₹9,799',\n",
       " '₹323',\n",
       " '₹379',\n",
       " '₹498',\n",
       " '₹10,429',\n",
       " '₹229',\n",
       " '₹675',\n",
       " '₹8,629',\n",
       " '₹474',\n",
       " '₹356',\n",
       " '₹969']"
      ]
     },
     "execution_count": 103,
     "metadata": {},
     "output_type": "execute_result"
    }
   ],
   "source": [
    "Price3=[]\n",
    "\n",
    "for i in price3[0:20]:\n",
    "    Price3.append(i.text)\n",
    "Price3"
   ]
  },
  {
   "cell_type": "code",
   "execution_count": 104,
   "id": "829eabb6",
   "metadata": {},
   "outputs": [],
   "source": [
    "Final_price = Price + Price2 + Price3"
   ]
  },
  {
   "cell_type": "code",
   "execution_count": 109,
   "id": "6464de24",
   "metadata": {},
   "outputs": [
    {
     "data": {
      "text/plain": [
       "100"
      ]
     },
     "execution_count": 109,
     "metadata": {},
     "output_type": "execute_result"
    }
   ],
   "source": [
    "len(Final_price)"
   ]
  },
  {
   "cell_type": "code",
   "execution_count": 106,
   "id": "136bebde",
   "metadata": {},
   "outputs": [],
   "source": [
    "total_product = Product + Product2 + Product3"
   ]
  },
  {
   "cell_type": "code",
   "execution_count": 107,
   "id": "98eedff0",
   "metadata": {},
   "outputs": [
    {
     "data": {
      "text/plain": [
       "100"
      ]
     },
     "execution_count": 107,
     "metadata": {},
     "output_type": "execute_result"
    }
   ],
   "source": [
    "len(total_product)"
   ]
  },
  {
   "cell_type": "code",
   "execution_count": 108,
   "id": "a320c00b",
   "metadata": {},
   "outputs": [
    {
     "data": {
      "text/plain": [
       "100"
      ]
     },
     "execution_count": 108,
     "metadata": {},
     "output_type": "execute_result"
    }
   ],
   "source": [
    "all_dis = Product_dis +Product_dis2 + Product_dis3\n",
    "len(all_dis)"
   ]
  },
  {
   "cell_type": "code",
   "execution_count": 110,
   "id": "b6439f95",
   "metadata": {},
   "outputs": [
    {
     "data": {
      "text/html": [
       "<div>\n",
       "<style scoped>\n",
       "    .dataframe tbody tr th:only-of-type {\n",
       "        vertical-align: middle;\n",
       "    }\n",
       "\n",
       "    .dataframe tbody tr th {\n",
       "        vertical-align: top;\n",
       "    }\n",
       "\n",
       "    .dataframe thead th {\n",
       "        text-align: right;\n",
       "    }\n",
       "</style>\n",
       "<table border=\"1\" class=\"dataframe\">\n",
       "  <thead>\n",
       "    <tr style=\"text-align: right;\">\n",
       "      <th></th>\n",
       "      <th>Brand</th>\n",
       "      <th>Product Description</th>\n",
       "      <th>Price</th>\n",
       "    </tr>\n",
       "  </thead>\n",
       "  <tbody>\n",
       "    <tr>\n",
       "      <th>0</th>\n",
       "      <td>PIRASO</td>\n",
       "      <td>UV Protection Rectangular, Over-sized Sunglass...</td>\n",
       "      <td>₹368</td>\n",
       "    </tr>\n",
       "    <tr>\n",
       "      <th>1</th>\n",
       "      <td>PIRASO</td>\n",
       "      <td>UV Protection Retro Square Sunglasses (64)</td>\n",
       "      <td>₹439</td>\n",
       "    </tr>\n",
       "    <tr>\n",
       "      <th>2</th>\n",
       "      <td>New Specs</td>\n",
       "      <td>UV Protection Rectangular Sunglasses (Free Size)</td>\n",
       "      <td>₹264</td>\n",
       "    </tr>\n",
       "    <tr>\n",
       "      <th>3</th>\n",
       "      <td>SRPM</td>\n",
       "      <td>UV Protection Wayfarer Sunglasses (50)</td>\n",
       "      <td>₹224</td>\n",
       "    </tr>\n",
       "    <tr>\n",
       "      <th>4</th>\n",
       "      <td>Fastrack</td>\n",
       "      <td>UV Protection Wayfarer Sunglasses (Free Size)</td>\n",
       "      <td>₹799</td>\n",
       "    </tr>\n",
       "    <tr>\n",
       "      <th>...</th>\n",
       "      <td>...</td>\n",
       "      <td>...</td>\n",
       "      <td>...</td>\n",
       "    </tr>\n",
       "    <tr>\n",
       "      <th>95</th>\n",
       "      <td>AISLIN</td>\n",
       "      <td>UV Protection, Gradient Butterfly, Over-sized ...</td>\n",
       "      <td>₹675</td>\n",
       "    </tr>\n",
       "    <tr>\n",
       "      <th>96</th>\n",
       "      <td>Ray-Ban</td>\n",
       "      <td>UV Protection Round Sunglasses (53)</td>\n",
       "      <td>₹8,629</td>\n",
       "    </tr>\n",
       "    <tr>\n",
       "      <th>97</th>\n",
       "      <td>ROYAL SON</td>\n",
       "      <td>UV Protection Retro Square Sunglasses (58)</td>\n",
       "      <td>₹474</td>\n",
       "    </tr>\n",
       "    <tr>\n",
       "      <th>98</th>\n",
       "      <td>GANSTA</td>\n",
       "      <td>UV Protection, Riding Glasses Aviator Sunglass...</td>\n",
       "      <td>₹356</td>\n",
       "    </tr>\n",
       "    <tr>\n",
       "      <th>99</th>\n",
       "      <td>Fastrack</td>\n",
       "      <td>UV Protection Round Sunglasses (52)</td>\n",
       "      <td>₹969</td>\n",
       "    </tr>\n",
       "  </tbody>\n",
       "</table>\n",
       "<p>100 rows × 3 columns</p>\n",
       "</div>"
      ],
      "text/plain": [
       "        Brand                                Product Description   Price\n",
       "0      PIRASO  UV Protection Rectangular, Over-sized Sunglass...    ₹368\n",
       "1      PIRASO         UV Protection Retro Square Sunglasses (64)    ₹439\n",
       "2   New Specs   UV Protection Rectangular Sunglasses (Free Size)    ₹264\n",
       "3        SRPM             UV Protection Wayfarer Sunglasses (50)    ₹224\n",
       "4    Fastrack      UV Protection Wayfarer Sunglasses (Free Size)    ₹799\n",
       "..        ...                                                ...     ...\n",
       "95     AISLIN  UV Protection, Gradient Butterfly, Over-sized ...    ₹675\n",
       "96    Ray-Ban                UV Protection Round Sunglasses (53)  ₹8,629\n",
       "97  ROYAL SON         UV Protection Retro Square Sunglasses (58)    ₹474\n",
       "98     GANSTA  UV Protection, Riding Glasses Aviator Sunglass...    ₹356\n",
       "99   Fastrack                UV Protection Round Sunglasses (52)    ₹969\n",
       "\n",
       "[100 rows x 3 columns]"
      ]
     },
     "execution_count": 110,
     "metadata": {},
     "output_type": "execute_result"
    }
   ],
   "source": [
    "df = pd.DataFrame({'Brand':total_product,'Product Description':all_dis,'Price':Final_price})\n",
    "df"
   ]
  },
  {
   "cell_type": "code",
   "execution_count": null,
   "id": "5c136deb",
   "metadata": {},
   "outputs": [],
   "source": []
  },
  {
   "cell_type": "code",
   "execution_count": 111,
   "id": "4b9c400c",
   "metadata": {},
   "outputs": [],
   "source": [
    "import selenium\n",
    "from selenium import webdriver\n",
    "import pandas as pd\n",
    "from selenium.webdriver.common.by import By"
   ]
  },
  {
   "cell_type": "code",
   "execution_count": 112,
   "id": "a91496bd",
   "metadata": {},
   "outputs": [
    {
     "name": "stderr",
     "output_type": "stream",
     "text": [
      "C:\\Users\\prath\\AppData\\Local\\Temp/ipykernel_13012/437299702.py:1: DeprecationWarning: executable_path has been deprecated, please pass in a Service object\n",
      "  driver = webdriver.Chrome(r'C:\\Users\\prath\\Downloads\\Compressed\\chromedriver_win32\\chromedriver.exe')\n"
     ]
    }
   ],
   "source": [
    "driver = webdriver.Chrome(r'C:\\Users\\prath\\Downloads\\Compressed\\chromedriver_win32\\chromedriver.exe')"
   ]
  },
  {
   "cell_type": "code",
   "execution_count": 114,
   "id": "120c87ca",
   "metadata": {},
   "outputs": [],
   "source": [
    "url = 'https://www.flipkart.com/'\n",
    "driver.get(url)"
   ]
  },
  {
   "cell_type": "code",
   "execution_count": 115,
   "id": "b5dac4cd",
   "metadata": {},
   "outputs": [
    {
     "data": {
      "text/plain": [
       "<selenium.webdriver.remote.webelement.WebElement (session=\"177a6183b9462299d2d5b34695d0df84\", element=\"3afa19e7-546f-495b-ba0e-dad739df8bb9\")>"
      ]
     },
     "execution_count": 115,
     "metadata": {},
     "output_type": "execute_result"
    }
   ],
   "source": [
    "search = driver.find_element(By.CLASS_NAME,\"_3704LK\")\n",
    "search"
   ]
  },
  {
   "cell_type": "code",
   "execution_count": 116,
   "id": "29a06c6b",
   "metadata": {},
   "outputs": [],
   "source": [
    "search.send_keys(\"i phone 11\")"
   ]
  },
  {
   "cell_type": "code",
   "execution_count": 117,
   "id": "29bd1c76",
   "metadata": {},
   "outputs": [
    {
     "data": {
      "text/plain": [
       "<selenium.webdriver.remote.webelement.WebElement (session=\"177a6183b9462299d2d5b34695d0df84\", element=\"f8f3df35-f410-4726-923b-f3421c635a2b\")>"
      ]
     },
     "execution_count": 117,
     "metadata": {},
     "output_type": "execute_result"
    }
   ],
   "source": [
    "ser_bot = driver.find_element(By.XPATH,\"/html/body/div[1]/div/div[1]/div[1]/div[2]/div[2]/form/div/button\")\n",
    "ser_bot"
   ]
  },
  {
   "cell_type": "code",
   "execution_count": 118,
   "id": "676235c1",
   "metadata": {},
   "outputs": [],
   "source": [
    "ser_bot.click()"
   ]
  },
  {
   "cell_type": "code",
   "execution_count": 119,
   "id": "1a616b6c",
   "metadata": {},
   "outputs": [
    {
     "data": {
      "text/plain": [
       "<selenium.webdriver.remote.webelement.WebElement (session=\"177a6183b9462299d2d5b34695d0df84\", element=\"89e0f3e4-88db-427d-84ad-edeff67d4382\")>"
      ]
     },
     "execution_count": 119,
     "metadata": {},
     "output_type": "execute_result"
    }
   ],
   "source": [
    "iphone = driver.find_element(By.XPATH,\"/html/body/div[1]/div/div[3]/div[1]/div[2]/div[2]/div/div/div/a/div[2]/div[1]/div[1]\")\n",
    "iphone"
   ]
  },
  {
   "cell_type": "code",
   "execution_count": 120,
   "id": "990aa805",
   "metadata": {},
   "outputs": [],
   "source": [
    "iphone.click()"
   ]
  },
  {
   "cell_type": "code",
   "execution_count": 271,
   "id": "44381e1a",
   "metadata": {},
   "outputs": [],
   "source": [
    "url = 'https://www.flipkart.com/apple-iphone-11-black-128-gb/product-reviews/itm8244e8d955aba?pid=MOBFWQ6BKRYBP5X8&lid=LSTMOBFWQ6BKRYBP5X8X0KYUG&marketplace=FLIPKART'\n",
    "driver.get(url)"
   ]
  },
  {
   "cell_type": "code",
   "execution_count": 272,
   "id": "b8f852d6",
   "metadata": {},
   "outputs": [
    {
     "data": {
      "text/plain": [
       "10"
      ]
     },
     "execution_count": 272,
     "metadata": {},
     "output_type": "execute_result"
    }
   ],
   "source": [
    "Rate= driver.find_elements(By.XPATH,'//div[@class=\"_3LWZlK _1BLPMq\"]')\n",
    "len(Rate)"
   ]
  },
  {
   "cell_type": "code",
   "execution_count": 273,
   "id": "a73fe373",
   "metadata": {},
   "outputs": [
    {
     "data": {
      "text/plain": [
       "['5', '5', '5', '5', '5', '5', '5', '5', '4', '5']"
      ]
     },
     "execution_count": 273,
     "metadata": {},
     "output_type": "execute_result"
    }
   ],
   "source": [
    "rate=[]\n",
    "\n",
    "for i in Rate:\n",
    "    rate.append(i.text)\n",
    "rate"
   ]
  },
  {
   "cell_type": "code",
   "execution_count": 274,
   "id": "588db762",
   "metadata": {},
   "outputs": [
    {
     "data": {
      "text/plain": [
       "10"
      ]
     },
     "execution_count": 274,
     "metadata": {},
     "output_type": "execute_result"
    }
   ],
   "source": [
    "Com = driver.find_elements(By.XPATH,'//p[@class=\"_2-N8zT\"]')\n",
    "len(Com)"
   ]
  },
  {
   "cell_type": "code",
   "execution_count": 275,
   "id": "96d1ff1e",
   "metadata": {},
   "outputs": [
    {
     "data": {
      "text/plain": [
       "['Simply awesome',\n",
       " 'Highly recommended',\n",
       " 'Best in the market!',\n",
       " 'Perfect product!',\n",
       " 'Worth every penny',\n",
       " 'Fabulous!',\n",
       " 'Great product',\n",
       " 'Worth every penny',\n",
       " 'Good choice',\n",
       " 'Highly recommended']"
      ]
     },
     "execution_count": 275,
     "metadata": {},
     "output_type": "execute_result"
    }
   ],
   "source": [
    "com=[]\n",
    "\n",
    "for i in Com:\n",
    "    com.append(i.text)\n",
    "com"
   ]
  },
  {
   "cell_type": "code",
   "execution_count": 276,
   "id": "ba222740",
   "metadata": {},
   "outputs": [
    {
     "data": {
      "text/plain": [
       "10"
      ]
     },
     "execution_count": 276,
     "metadata": {},
     "output_type": "execute_result"
    }
   ],
   "source": [
    "Ful_rev = driver.find_elements(By.XPATH,'//div[@class=\"t-ZTKy\"]')\n",
    "len(Ful_rev)"
   ]
  },
  {
   "cell_type": "code",
   "execution_count": 277,
   "id": "8678e2f3",
   "metadata": {},
   "outputs": [
    {
     "data": {
      "text/plain": [
       "['Really satisfied with the Product I received... It’s totally genuine and the packaging was also really good so if ur planning to buy just go for it.',\n",
       " 'What a camera .....just awesome ..you can feel this iPhone just awesome . Good for gaming also ...try pubg in hd it’s just wow',\n",
       " 'Great iPhone very snappy experience as apple kind. Upgraded from iPhone 7.\\nPros\\n-Camera top class\\n- Battery top performed\\n-Chipset no need to say as apple kind\\n-Security as you expect from apple\\n- Display super bright industry leading colour\\naccuracy and super responsive\\n-Build quality as expect from apple sturdy\\npremium durable beautiful stylish.\\n-Os most stable os in smartphone industry\\n\\nCons\\n-No 5G\\n-Display is not based on OLED technology\\n-Charger headphones and 1 apple stic...\\nREAD MORE',\n",
       " 'Amazing phone with great cameras and better battery which gives you the best performance. I just love the camera .',\n",
       " 'Previously I was using one plus 3t it was a great phone\\nAnd then I decided to upgrade I am stuck between Samsung s10 plus or iPhone 11\\nI have seen the specs and everything were good except the display it’s somewhere between 720-1080 and it’s not even an amoled it’s an LCD display\\nBut I decided to go with iPhone because I have never used an IOS device I have Been an android user from the past 9 years I ordered IPhone 11 (128gb) product red\\nMy experience after using 3 weeks\\n1. The delivery ...\\nREAD MORE',\n",
       " 'This is my first iOS phone. I am very happy with this product. Very much satisfied with this. I love this phone.',\n",
       " 'Amazing Powerful and Durable Gadget.\\n\\nI’m am very happy with the camera picture quality, Amazing face id unlocked in dark room, Strong battery with perfect screen size as you can carry easily in pocket. This is my third iPhone.\\n\\nI shifted from android Samsung Note series to iPhone because of the strong build quality and peace of mind for next 3-4 years.\\n\\nDon’t think to much just go for it and I suggest you to go for minimum 128gb variant or more 256gb.\\n\\nI’ve attached my puppy pics and no fi...\\nREAD MORE',\n",
       " 'i11 is worthy to buy, too much happy with the product. Thank u flipkart I received the item on time..loved it..',\n",
       " 'So far it’s been an AMAZING experience coming back to iOS after nearly a decade but it’s not as versatile as android though phone is sturdy dropped it accidentally a couple of times and nothing happened fortunately camera is awesome',\n",
       " 'iphone 11 is a very good phone to buy only if you can compromise for the display. The display on this is device is pretty good but you can get other options with better displays in this price segment.\\nIf you can survive with an HD+ LCD panel with thicker bezels and a notch up top then this is a very good phone for you.\\nCameras are awesome, battery backup excellent, great performance and a decent premium look. Good job Apple !']"
      ]
     },
     "execution_count": 277,
     "metadata": {},
     "output_type": "execute_result"
    }
   ],
   "source": [
    "ful_rev=[]\n",
    "\n",
    "for i in Ful_rev:\n",
    "    ful_rev.append(i.text)\n",
    "ful_rev"
   ]
  },
  {
   "cell_type": "code",
   "execution_count": 278,
   "id": "c769ee96",
   "metadata": {},
   "outputs": [
    {
     "data": {
      "text/plain": [
       "<selenium.webdriver.remote.webelement.WebElement (session=\"177a6183b9462299d2d5b34695d0df84\", element=\"0e6100b1-7d32-49ab-a271-64f7c8d988dc\")>"
      ]
     },
     "execution_count": 278,
     "metadata": {},
     "output_type": "execute_result"
    }
   ],
   "source": [
    "nex = driver.find_element(By.XPATH,\"/html/body/div[1]/div/div[3]/div/div/div[2]/div[13]/div/div/nav/a[11]\")\n",
    "nex"
   ]
  },
  {
   "cell_type": "code",
   "execution_count": 279,
   "id": "1bb63c0a",
   "metadata": {},
   "outputs": [],
   "source": [
    "nex.click()"
   ]
  },
  {
   "cell_type": "code",
   "execution_count": 280,
   "id": "546745e2",
   "metadata": {},
   "outputs": [
    {
     "data": {
      "text/plain": [
       "10"
      ]
     },
     "execution_count": 280,
     "metadata": {},
     "output_type": "execute_result"
    }
   ],
   "source": [
    "Rate2= driver.find_elements(By.XPATH,'//div[@class=\"_3LWZlK _1BLPMq\"]')\n",
    "len(Rate2)"
   ]
  },
  {
   "cell_type": "code",
   "execution_count": 281,
   "id": "bb8d5c4d",
   "metadata": {},
   "outputs": [
    {
     "data": {
      "text/plain": [
       "['5', '5', '5', '5', '5', '5', '5', '5', '5', '5']"
      ]
     },
     "execution_count": 281,
     "metadata": {},
     "output_type": "execute_result"
    }
   ],
   "source": [
    "rate2=[]\n",
    "\n",
    "for i in Rate2:\n",
    "    rate2.append(i.text)\n",
    "rate2"
   ]
  },
  {
   "cell_type": "code",
   "execution_count": 282,
   "id": "0fb27d38",
   "metadata": {},
   "outputs": [
    {
     "data": {
      "text/plain": [
       "10"
      ]
     },
     "execution_count": 282,
     "metadata": {},
     "output_type": "execute_result"
    }
   ],
   "source": [
    "Com2 = driver.find_elements(By.XPATH,'//p[@class=\"_2-N8zT\"]')\n",
    "len(Com2)"
   ]
  },
  {
   "cell_type": "code",
   "execution_count": 283,
   "id": "5d967d36",
   "metadata": {},
   "outputs": [
    {
     "data": {
      "text/plain": [
       "10"
      ]
     },
     "execution_count": 283,
     "metadata": {},
     "output_type": "execute_result"
    }
   ],
   "source": [
    "com2=[]\n",
    "\n",
    "for i in Com2:\n",
    "    com2.append(i.text)\n",
    "len(com2)"
   ]
  },
  {
   "cell_type": "code",
   "execution_count": 284,
   "id": "556b97e9",
   "metadata": {},
   "outputs": [
    {
     "data": {
      "text/plain": [
       "10"
      ]
     },
     "execution_count": 284,
     "metadata": {},
     "output_type": "execute_result"
    }
   ],
   "source": [
    "Ful_rev2 = driver.find_elements(By.XPATH,'//div[@class=\"t-ZTKy\"]')\n",
    "len(Ful_rev2)"
   ]
  },
  {
   "cell_type": "code",
   "execution_count": 285,
   "id": "65a1ecb6",
   "metadata": {},
   "outputs": [
    {
     "data": {
      "text/plain": [
       "10"
      ]
     },
     "execution_count": 285,
     "metadata": {},
     "output_type": "execute_result"
    }
   ],
   "source": [
    "ful_rev2=[]\n",
    "\n",
    "for i in Ful_rev2:\n",
    "    ful_rev2.append(i.text)\n",
    "len(ful_rev2)"
   ]
  },
  {
   "cell_type": "code",
   "execution_count": 286,
   "id": "3dcb87e5",
   "metadata": {},
   "outputs": [
    {
     "data": {
      "text/plain": [
       "<selenium.webdriver.remote.webelement.WebElement (session=\"177a6183b9462299d2d5b34695d0df84\", element=\"0439567e-0285-4b5a-a2c6-6d278d2dd21f\")>"
      ]
     },
     "execution_count": 286,
     "metadata": {},
     "output_type": "execute_result"
    }
   ],
   "source": [
    "nex = driver.find_element(By.XPATH,\"/html/body/div/div/div[3]/div/div/div[2]/div[13]/div/div/nav/a[12]\")\n",
    "nex"
   ]
  },
  {
   "cell_type": "code",
   "execution_count": 287,
   "id": "fe400cb6",
   "metadata": {},
   "outputs": [],
   "source": [
    "nex.click()"
   ]
  },
  {
   "cell_type": "code",
   "execution_count": 288,
   "id": "7e891ede",
   "metadata": {},
   "outputs": [
    {
     "data": {
      "text/plain": [
       "10"
      ]
     },
     "execution_count": 288,
     "metadata": {},
     "output_type": "execute_result"
    }
   ],
   "source": [
    "Rate3= driver.find_elements(By.XPATH,'//div[@class=\"_3LWZlK _1BLPMq\"]')\n",
    "len(Rate3)"
   ]
  },
  {
   "cell_type": "code",
   "execution_count": 289,
   "id": "386e42e8",
   "metadata": {},
   "outputs": [
    {
     "data": {
      "text/plain": [
       "10"
      ]
     },
     "execution_count": 289,
     "metadata": {},
     "output_type": "execute_result"
    }
   ],
   "source": [
    "rate3=[]\n",
    "\n",
    "for i in Rate3:\n",
    "    rate3.append(i.text)\n",
    "len(rate3)"
   ]
  },
  {
   "cell_type": "code",
   "execution_count": 290,
   "id": "bacb6924",
   "metadata": {},
   "outputs": [
    {
     "data": {
      "text/plain": [
       "10"
      ]
     },
     "execution_count": 290,
     "metadata": {},
     "output_type": "execute_result"
    }
   ],
   "source": [
    "Com3 = driver.find_elements(By.XPATH,'//p[@class=\"_2-N8zT\"]')\n",
    "len(Com3)"
   ]
  },
  {
   "cell_type": "code",
   "execution_count": 291,
   "id": "9ed3f7e5",
   "metadata": {},
   "outputs": [
    {
     "data": {
      "text/plain": [
       "10"
      ]
     },
     "execution_count": 291,
     "metadata": {},
     "output_type": "execute_result"
    }
   ],
   "source": [
    "com3=[]\n",
    "\n",
    "for i in Com3:\n",
    "    com3.append(i.text)\n",
    "len(com3)"
   ]
  },
  {
   "cell_type": "code",
   "execution_count": 292,
   "id": "c2f7aa99",
   "metadata": {},
   "outputs": [
    {
     "data": {
      "text/plain": [
       "10"
      ]
     },
     "execution_count": 292,
     "metadata": {},
     "output_type": "execute_result"
    }
   ],
   "source": [
    "Ful_rev3 = driver.find_elements(By.XPATH,'//div[@class=\"t-ZTKy\"]')\n",
    "len(Ful_rev3)"
   ]
  },
  {
   "cell_type": "code",
   "execution_count": 293,
   "id": "6c6fa84a",
   "metadata": {},
   "outputs": [
    {
     "data": {
      "text/plain": [
       "10"
      ]
     },
     "execution_count": 293,
     "metadata": {},
     "output_type": "execute_result"
    }
   ],
   "source": [
    "ful_rev3=[]\n",
    "\n",
    "for i in Ful_rev3:\n",
    "    ful_rev3.append(i.text)\n",
    "len(ful_rev3)"
   ]
  },
  {
   "cell_type": "code",
   "execution_count": 294,
   "id": "8e8d5132",
   "metadata": {},
   "outputs": [
    {
     "data": {
      "text/plain": [
       "<selenium.webdriver.remote.webelement.WebElement (session=\"177a6183b9462299d2d5b34695d0df84\", element=\"042abe5c-8595-4b8f-a94e-7c8149d3b9c7\")>"
      ]
     },
     "execution_count": 294,
     "metadata": {},
     "output_type": "execute_result"
    }
   ],
   "source": [
    "nex = driver.find_element(By.XPATH,\"/html/body/div/div/div[3]/div/div/div[2]/div[13]/div/div/nav/a[12]\")\n",
    "nex"
   ]
  },
  {
   "cell_type": "code",
   "execution_count": 295,
   "id": "8e14df99",
   "metadata": {},
   "outputs": [],
   "source": [
    "nex.click()"
   ]
  },
  {
   "cell_type": "code",
   "execution_count": 296,
   "id": "3b849da4",
   "metadata": {},
   "outputs": [
    {
     "data": {
      "text/plain": [
       "10"
      ]
     },
     "execution_count": 296,
     "metadata": {},
     "output_type": "execute_result"
    }
   ],
   "source": [
    "Rate4= driver.find_elements(By.XPATH,'//div[@class=\"_3LWZlK _1BLPMq\"]')\n",
    "len(Rate4)"
   ]
  },
  {
   "cell_type": "code",
   "execution_count": 297,
   "id": "b5d42ac5",
   "metadata": {},
   "outputs": [
    {
     "data": {
      "text/plain": [
       "10"
      ]
     },
     "execution_count": 297,
     "metadata": {},
     "output_type": "execute_result"
    }
   ],
   "source": [
    "rate4=[]\n",
    "\n",
    "for i in Rate4:\n",
    "    rate4.append(i.text)\n",
    "len(rate4)"
   ]
  },
  {
   "cell_type": "code",
   "execution_count": 298,
   "id": "997bba63",
   "metadata": {},
   "outputs": [
    {
     "data": {
      "text/plain": [
       "10"
      ]
     },
     "execution_count": 298,
     "metadata": {},
     "output_type": "execute_result"
    }
   ],
   "source": [
    "Com4 = driver.find_elements(By.XPATH,'//p[@class=\"_2-N8zT\"]')\n",
    "com4=[]\n",
    "\n",
    "for i in Com4:\n",
    "    com4.append(i.text)\n",
    "len(com4)"
   ]
  },
  {
   "cell_type": "code",
   "execution_count": 299,
   "id": "a9a11bdd",
   "metadata": {},
   "outputs": [
    {
     "data": {
      "text/plain": [
       "10"
      ]
     },
     "execution_count": 299,
     "metadata": {},
     "output_type": "execute_result"
    }
   ],
   "source": [
    "Ful_rev4 = driver.find_elements(By.XPATH,'//div[@class=\"t-ZTKy\"]')\n",
    "ful_rev4=[]\n",
    "\n",
    "for i in Ful_rev4:\n",
    "    ful_rev4.append(i.text)\n",
    "len(ful_rev4)"
   ]
  },
  {
   "cell_type": "code",
   "execution_count": 300,
   "id": "6e04e870",
   "metadata": {},
   "outputs": [
    {
     "data": {
      "text/plain": [
       "<selenium.webdriver.remote.webelement.WebElement (session=\"177a6183b9462299d2d5b34695d0df84\", element=\"f1eb26f6-c5ab-41d4-bc14-0eff498f9c66\")>"
      ]
     },
     "execution_count": 300,
     "metadata": {},
     "output_type": "execute_result"
    }
   ],
   "source": [
    "nex = driver.find_element(By.XPATH,\"/html/body/div/div/div[3]/div/div/div[2]/div[13]/div/div/nav/a[12]\")\n",
    "nex"
   ]
  },
  {
   "cell_type": "code",
   "execution_count": 301,
   "id": "df820c21",
   "metadata": {},
   "outputs": [],
   "source": [
    "nex.click()"
   ]
  },
  {
   "cell_type": "code",
   "execution_count": 302,
   "id": "b56bc897",
   "metadata": {},
   "outputs": [
    {
     "data": {
      "text/plain": [
       "9"
      ]
     },
     "execution_count": 302,
     "metadata": {},
     "output_type": "execute_result"
    }
   ],
   "source": [
    "Rate5= driver.find_elements(By.XPATH,'//div[@class=\"_3LWZlK _1BLPMq\"]')\n",
    "rate5 = []\n",
    "for i in Rate5:\n",
    "    rate5.append(i.text)\n",
    "len(rate5)"
   ]
  },
  {
   "cell_type": "code",
   "execution_count": 303,
   "id": "4211728f",
   "metadata": {},
   "outputs": [],
   "source": [
    "rate5.append(1)"
   ]
  },
  {
   "cell_type": "code",
   "execution_count": 304,
   "id": "da0fdb96",
   "metadata": {},
   "outputs": [
    {
     "data": {
      "text/plain": [
       "10"
      ]
     },
     "execution_count": 304,
     "metadata": {},
     "output_type": "execute_result"
    }
   ],
   "source": [
    "len(rate5)"
   ]
  },
  {
   "cell_type": "code",
   "execution_count": 305,
   "id": "58c54818",
   "metadata": {},
   "outputs": [
    {
     "data": {
      "text/plain": [
       "10"
      ]
     },
     "execution_count": 305,
     "metadata": {},
     "output_type": "execute_result"
    }
   ],
   "source": [
    "Com5 = driver.find_elements(By.XPATH,'//p[@class=\"_2-N8zT\"]')\n",
    "com5=[]\n",
    "\n",
    "for i in Com5:\n",
    "    com5.append(i.text)\n",
    "len(com5)"
   ]
  },
  {
   "cell_type": "code",
   "execution_count": 306,
   "id": "eac60988",
   "metadata": {},
   "outputs": [
    {
     "data": {
      "text/plain": [
       "10"
      ]
     },
     "execution_count": 306,
     "metadata": {},
     "output_type": "execute_result"
    }
   ],
   "source": [
    "Ful_rev5 = driver.find_elements(By.XPATH,'//div[@class=\"t-ZTKy\"]')\n",
    "ful_rev5=[]\n",
    "\n",
    "for i in Ful_rev5:\n",
    "    ful_rev5.append(i.text)\n",
    "len(ful_rev5)"
   ]
  },
  {
   "cell_type": "code",
   "execution_count": 307,
   "id": "97868eb1",
   "metadata": {},
   "outputs": [],
   "source": [
    "total_rating = rate + rate2  + rate4 + rate5 +rate3"
   ]
  },
  {
   "cell_type": "code",
   "execution_count": 308,
   "id": "64debb7b",
   "metadata": {},
   "outputs": [
    {
     "data": {
      "text/plain": [
       "50"
      ]
     },
     "execution_count": 308,
     "metadata": {},
     "output_type": "execute_result"
    }
   ],
   "source": [
    "len(total_rating)"
   ]
  },
  {
   "cell_type": "code",
   "execution_count": 309,
   "id": "b9b8b6d9",
   "metadata": {},
   "outputs": [],
   "source": [
    "total_com = com +com2 +com3 +com4 +com5 "
   ]
  },
  {
   "cell_type": "code",
   "execution_count": 310,
   "id": "a46fe605",
   "metadata": {},
   "outputs": [
    {
     "data": {
      "text/plain": [
       "50"
      ]
     },
     "execution_count": 310,
     "metadata": {},
     "output_type": "execute_result"
    }
   ],
   "source": [
    "len(total_com)"
   ]
  },
  {
   "cell_type": "code",
   "execution_count": 311,
   "id": "bfa85b8f",
   "metadata": {},
   "outputs": [],
   "source": [
    "total_rev = ful_rev +ful_rev2 + ful_rev3 + ful_rev4 + ful_rev5 "
   ]
  },
  {
   "cell_type": "code",
   "execution_count": 312,
   "id": "eca6be19",
   "metadata": {},
   "outputs": [
    {
     "data": {
      "text/plain": [
       "50"
      ]
     },
     "execution_count": 312,
     "metadata": {},
     "output_type": "execute_result"
    }
   ],
   "source": [
    "len(total_rev)"
   ]
  },
  {
   "cell_type": "code",
   "execution_count": 313,
   "id": "6f1b590f",
   "metadata": {},
   "outputs": [
    {
     "data": {
      "text/html": [
       "<div>\n",
       "<style scoped>\n",
       "    .dataframe tbody tr th:only-of-type {\n",
       "        vertical-align: middle;\n",
       "    }\n",
       "\n",
       "    .dataframe tbody tr th {\n",
       "        vertical-align: top;\n",
       "    }\n",
       "\n",
       "    .dataframe thead th {\n",
       "        text-align: right;\n",
       "    }\n",
       "</style>\n",
       "<table border=\"1\" class=\"dataframe\">\n",
       "  <thead>\n",
       "    <tr style=\"text-align: right;\">\n",
       "      <th></th>\n",
       "      <th>Rating</th>\n",
       "      <th>Review summary</th>\n",
       "      <th>Full Review</th>\n",
       "    </tr>\n",
       "  </thead>\n",
       "  <tbody>\n",
       "    <tr>\n",
       "      <th>0</th>\n",
       "      <td>5</td>\n",
       "      <td>Simply awesome</td>\n",
       "      <td>Really satisfied with the Product I received.....</td>\n",
       "    </tr>\n",
       "    <tr>\n",
       "      <th>1</th>\n",
       "      <td>5</td>\n",
       "      <td>Highly recommended</td>\n",
       "      <td>What a camera .....just awesome ..you can feel...</td>\n",
       "    </tr>\n",
       "    <tr>\n",
       "      <th>2</th>\n",
       "      <td>5</td>\n",
       "      <td>Best in the market!</td>\n",
       "      <td>Great iPhone very snappy experience as apple k...</td>\n",
       "    </tr>\n",
       "    <tr>\n",
       "      <th>3</th>\n",
       "      <td>5</td>\n",
       "      <td>Perfect product!</td>\n",
       "      <td>Amazing phone with great cameras and better ba...</td>\n",
       "    </tr>\n",
       "    <tr>\n",
       "      <th>4</th>\n",
       "      <td>5</td>\n",
       "      <td>Worth every penny</td>\n",
       "      <td>Previously I was using one plus 3t it was a gr...</td>\n",
       "    </tr>\n",
       "    <tr>\n",
       "      <th>5</th>\n",
       "      <td>5</td>\n",
       "      <td>Fabulous!</td>\n",
       "      <td>This is my first iOS phone. I am very happy wi...</td>\n",
       "    </tr>\n",
       "    <tr>\n",
       "      <th>6</th>\n",
       "      <td>5</td>\n",
       "      <td>Great product</td>\n",
       "      <td>Amazing Powerful and Durable Gadget.\\n\\nI’m am...</td>\n",
       "    </tr>\n",
       "    <tr>\n",
       "      <th>7</th>\n",
       "      <td>5</td>\n",
       "      <td>Worth every penny</td>\n",
       "      <td>i11 is worthy to buy, too much happy with the ...</td>\n",
       "    </tr>\n",
       "    <tr>\n",
       "      <th>8</th>\n",
       "      <td>4</td>\n",
       "      <td>Good choice</td>\n",
       "      <td>So far it’s been an AMAZING experience coming ...</td>\n",
       "    </tr>\n",
       "    <tr>\n",
       "      <th>9</th>\n",
       "      <td>5</td>\n",
       "      <td>Highly recommended</td>\n",
       "      <td>iphone 11 is a very good phone to buy only if ...</td>\n",
       "    </tr>\n",
       "    <tr>\n",
       "      <th>10</th>\n",
       "      <td>5</td>\n",
       "      <td>Perfect product!</td>\n",
       "      <td>It’s a must buy who is looking for an upgrade ...</td>\n",
       "    </tr>\n",
       "    <tr>\n",
       "      <th>11</th>\n",
       "      <td>5</td>\n",
       "      <td>Highly recommended</td>\n",
       "      <td>It's my first time to use iOS phone and I am l...</td>\n",
       "    </tr>\n",
       "    <tr>\n",
       "      <th>12</th>\n",
       "      <td>5</td>\n",
       "      <td>Perfect product!</td>\n",
       "      <td>Value for money❤️❤️\\nIts awesome mobile phone ...</td>\n",
       "    </tr>\n",
       "    <tr>\n",
       "      <th>13</th>\n",
       "      <td>5</td>\n",
       "      <td>Worth every penny</td>\n",
       "      <td>Smooth like butter, camera like fantabulous, s...</td>\n",
       "    </tr>\n",
       "    <tr>\n",
       "      <th>14</th>\n",
       "      <td>5</td>\n",
       "      <td>Perfect product!</td>\n",
       "      <td>It is just awesome mobile for this price from ...</td>\n",
       "    </tr>\n",
       "    <tr>\n",
       "      <th>15</th>\n",
       "      <td>5</td>\n",
       "      <td>Perfect product!</td>\n",
       "      <td>Iphone is just awesome.. battery backup is ver...</td>\n",
       "    </tr>\n",
       "    <tr>\n",
       "      <th>16</th>\n",
       "      <td>5</td>\n",
       "      <td>Terrific</td>\n",
       "      <td>Really worth of money. i just love it. It is t...</td>\n",
       "    </tr>\n",
       "    <tr>\n",
       "      <th>17</th>\n",
       "      <td>5</td>\n",
       "      <td>Worth every penny</td>\n",
       "      <td>Best budget Iphone till date ❤️ go for it guys...</td>\n",
       "    </tr>\n",
       "    <tr>\n",
       "      <th>18</th>\n",
       "      <td>5</td>\n",
       "      <td>Simply awesome</td>\n",
       "      <td>Excellent camera, good performance, no lag. Th...</td>\n",
       "    </tr>\n",
       "    <tr>\n",
       "      <th>19</th>\n",
       "      <td>5</td>\n",
       "      <td>Classy product</td>\n",
       "      <td>Totally in love with this ❤ the camera quality...</td>\n",
       "    </tr>\n",
       "    <tr>\n",
       "      <th>20</th>\n",
       "      <td>5</td>\n",
       "      <td>Wonderful</td>\n",
       "      <td>This is my first ever I phone. Before this I w...</td>\n",
       "    </tr>\n",
       "    <tr>\n",
       "      <th>21</th>\n",
       "      <td>5</td>\n",
       "      <td>Worth every penny</td>\n",
       "      <td>It’s been almost a month since I have been usi...</td>\n",
       "    </tr>\n",
       "    <tr>\n",
       "      <th>22</th>\n",
       "      <td>5</td>\n",
       "      <td>Good choice</td>\n",
       "      <td>Looking so good 👍 😍 super 👌 stylish 😎 phone\\nC...</td>\n",
       "    </tr>\n",
       "    <tr>\n",
       "      <th>23</th>\n",
       "      <td>5</td>\n",
       "      <td>Perfect product!</td>\n",
       "      <td>Battery backup is extraordinary, camera is dec...</td>\n",
       "    </tr>\n",
       "    <tr>\n",
       "      <th>24</th>\n",
       "      <td>5</td>\n",
       "      <td>Nice product</td>\n",
       "      <td>Awesome Phone. Slightly high price but worth. ...</td>\n",
       "    </tr>\n",
       "    <tr>\n",
       "      <th>25</th>\n",
       "      <td>5</td>\n",
       "      <td>Classy product</td>\n",
       "      <td>We are on apple ecosystem for almost eight yea...</td>\n",
       "    </tr>\n",
       "    <tr>\n",
       "      <th>26</th>\n",
       "      <td>5</td>\n",
       "      <td>Brilliant</td>\n",
       "      <td>I have migrated from OP 7pro... and trust me, ...</td>\n",
       "    </tr>\n",
       "    <tr>\n",
       "      <th>27</th>\n",
       "      <td>5</td>\n",
       "      <td>Classy product</td>\n",
       "      <td>Superb Product !!!\\nA big and worthy upgrade f...</td>\n",
       "    </tr>\n",
       "    <tr>\n",
       "      <th>28</th>\n",
       "      <td>5</td>\n",
       "      <td>Must buy!</td>\n",
       "      <td>It’s an amazing product from apple and the cam...</td>\n",
       "    </tr>\n",
       "    <tr>\n",
       "      <th>29</th>\n",
       "      <td>5</td>\n",
       "      <td>Simply awesome</td>\n",
       "      <td>It's very high performances devise i am like t...</td>\n",
       "    </tr>\n",
       "    <tr>\n",
       "      <th>30</th>\n",
       "      <td>5</td>\n",
       "      <td>Perfect product!</td>\n",
       "      <td>After 1 month use I found camera quality best ...</td>\n",
       "    </tr>\n",
       "    <tr>\n",
       "      <th>31</th>\n",
       "      <td>5</td>\n",
       "      <td>Fabulous!</td>\n",
       "      <td>awesome phone to have. it has got many smart f...</td>\n",
       "    </tr>\n",
       "    <tr>\n",
       "      <th>32</th>\n",
       "      <td>5</td>\n",
       "      <td>Great product</td>\n",
       "      <td>Again back to apple iphone after a gap of 2-3 ...</td>\n",
       "    </tr>\n",
       "    <tr>\n",
       "      <th>33</th>\n",
       "      <td>4</td>\n",
       "      <td>Fabulous!</td>\n",
       "      <td>I can say I'm damn impressed with iPhone 11. A...</td>\n",
       "    </tr>\n",
       "    <tr>\n",
       "      <th>34</th>\n",
       "      <td>5</td>\n",
       "      <td>Wonderful</td>\n",
       "      <td>I just directly switch from iphone 6s to iphon...</td>\n",
       "    </tr>\n",
       "    <tr>\n",
       "      <th>35</th>\n",
       "      <td>5</td>\n",
       "      <td>Classy product</td>\n",
       "      <td>Well while switching from android to iOS the f...</td>\n",
       "    </tr>\n",
       "    <tr>\n",
       "      <th>36</th>\n",
       "      <td>5</td>\n",
       "      <td>Terrific purchase</td>\n",
       "      <td>Upgraded from iphone 6 to 11 best phone for ip...</td>\n",
       "    </tr>\n",
       "    <tr>\n",
       "      <th>37</th>\n",
       "      <td>5</td>\n",
       "      <td>Awesome</td>\n",
       "      <td>I am using this phone for 5 days and its one o...</td>\n",
       "    </tr>\n",
       "    <tr>\n",
       "      <th>38</th>\n",
       "      <td>5</td>\n",
       "      <td>Excellent</td>\n",
       "      <td>Amazing camera and feel super machine I am not...</td>\n",
       "    </tr>\n",
       "    <tr>\n",
       "      <th>39</th>\n",
       "      <td>1</td>\n",
       "      <td>Great product</td>\n",
       "      <td>Well you all know the specifications . One of ...</td>\n",
       "    </tr>\n",
       "    <tr>\n",
       "      <th>40</th>\n",
       "      <td>5</td>\n",
       "      <td>Terrific purchase</td>\n",
       "      <td>The built quality is not very premium.\\nThe ba...</td>\n",
       "    </tr>\n",
       "    <tr>\n",
       "      <th>41</th>\n",
       "      <td>5</td>\n",
       "      <td>Mind-blowing purchase</td>\n",
       "      <td>This will help you more. See if you are planni...</td>\n",
       "    </tr>\n",
       "    <tr>\n",
       "      <th>42</th>\n",
       "      <td>4</td>\n",
       "      <td>Simply awesome</td>\n",
       "      <td>Really good actually this is my first apple pr...</td>\n",
       "    </tr>\n",
       "    <tr>\n",
       "      <th>43</th>\n",
       "      <td>5</td>\n",
       "      <td>Good quality product</td>\n",
       "      <td>it is very good at performance. Camera is best...</td>\n",
       "    </tr>\n",
       "    <tr>\n",
       "      <th>44</th>\n",
       "      <td>4</td>\n",
       "      <td>Very poor</td>\n",
       "      <td>Reviewing again after 5 months. At the beginni...</td>\n",
       "    </tr>\n",
       "    <tr>\n",
       "      <th>45</th>\n",
       "      <td>5</td>\n",
       "      <td>Perfect product!</td>\n",
       "      <td>In love with this iphone great performance,cam...</td>\n",
       "    </tr>\n",
       "    <tr>\n",
       "      <th>46</th>\n",
       "      <td>5</td>\n",
       "      <td>Fabulous!</td>\n",
       "      <td>Everything is perfect pictures come out so cle...</td>\n",
       "    </tr>\n",
       "    <tr>\n",
       "      <th>47</th>\n",
       "      <td>5</td>\n",
       "      <td>Highly recommended</td>\n",
       "      <td>Amazing camera quality as expected, battery al...</td>\n",
       "    </tr>\n",
       "    <tr>\n",
       "      <th>48</th>\n",
       "      <td>5</td>\n",
       "      <td>Mind-blowing purchase</td>\n",
       "      <td>Best Quality Product OF iPhone Series , Sound ...</td>\n",
       "    </tr>\n",
       "    <tr>\n",
       "      <th>49</th>\n",
       "      <td>5</td>\n",
       "      <td>Mind-blowing purchase</td>\n",
       "      <td>First thanks to Flipkart for this amazing deal...</td>\n",
       "    </tr>\n",
       "  </tbody>\n",
       "</table>\n",
       "</div>"
      ],
      "text/plain": [
       "   Rating         Review summary  \\\n",
       "0       5         Simply awesome   \n",
       "1       5     Highly recommended   \n",
       "2       5    Best in the market!   \n",
       "3       5       Perfect product!   \n",
       "4       5      Worth every penny   \n",
       "5       5              Fabulous!   \n",
       "6       5          Great product   \n",
       "7       5      Worth every penny   \n",
       "8       4            Good choice   \n",
       "9       5     Highly recommended   \n",
       "10      5       Perfect product!   \n",
       "11      5     Highly recommended   \n",
       "12      5       Perfect product!   \n",
       "13      5      Worth every penny   \n",
       "14      5       Perfect product!   \n",
       "15      5       Perfect product!   \n",
       "16      5               Terrific   \n",
       "17      5      Worth every penny   \n",
       "18      5         Simply awesome   \n",
       "19      5         Classy product   \n",
       "20      5              Wonderful   \n",
       "21      5      Worth every penny   \n",
       "22      5            Good choice   \n",
       "23      5       Perfect product!   \n",
       "24      5           Nice product   \n",
       "25      5         Classy product   \n",
       "26      5              Brilliant   \n",
       "27      5         Classy product   \n",
       "28      5              Must buy!   \n",
       "29      5         Simply awesome   \n",
       "30      5       Perfect product!   \n",
       "31      5              Fabulous!   \n",
       "32      5          Great product   \n",
       "33      4              Fabulous!   \n",
       "34      5              Wonderful   \n",
       "35      5         Classy product   \n",
       "36      5      Terrific purchase   \n",
       "37      5                Awesome   \n",
       "38      5              Excellent   \n",
       "39      1          Great product   \n",
       "40      5      Terrific purchase   \n",
       "41      5  Mind-blowing purchase   \n",
       "42      4         Simply awesome   \n",
       "43      5   Good quality product   \n",
       "44      4              Very poor   \n",
       "45      5       Perfect product!   \n",
       "46      5              Fabulous!   \n",
       "47      5     Highly recommended   \n",
       "48      5  Mind-blowing purchase   \n",
       "49      5  Mind-blowing purchase   \n",
       "\n",
       "                                          Full Review  \n",
       "0   Really satisfied with the Product I received.....  \n",
       "1   What a camera .....just awesome ..you can feel...  \n",
       "2   Great iPhone very snappy experience as apple k...  \n",
       "3   Amazing phone with great cameras and better ba...  \n",
       "4   Previously I was using one plus 3t it was a gr...  \n",
       "5   This is my first iOS phone. I am very happy wi...  \n",
       "6   Amazing Powerful and Durable Gadget.\\n\\nI’m am...  \n",
       "7   i11 is worthy to buy, too much happy with the ...  \n",
       "8   So far it’s been an AMAZING experience coming ...  \n",
       "9   iphone 11 is a very good phone to buy only if ...  \n",
       "10  It’s a must buy who is looking for an upgrade ...  \n",
       "11  It's my first time to use iOS phone and I am l...  \n",
       "12  Value for money❤️❤️\\nIts awesome mobile phone ...  \n",
       "13  Smooth like butter, camera like fantabulous, s...  \n",
       "14  It is just awesome mobile for this price from ...  \n",
       "15  Iphone is just awesome.. battery backup is ver...  \n",
       "16  Really worth of money. i just love it. It is t...  \n",
       "17  Best budget Iphone till date ❤️ go for it guys...  \n",
       "18  Excellent camera, good performance, no lag. Th...  \n",
       "19  Totally in love with this ❤ the camera quality...  \n",
       "20  This is my first ever I phone. Before this I w...  \n",
       "21  It’s been almost a month since I have been usi...  \n",
       "22  Looking so good 👍 😍 super 👌 stylish 😎 phone\\nC...  \n",
       "23  Battery backup is extraordinary, camera is dec...  \n",
       "24  Awesome Phone. Slightly high price but worth. ...  \n",
       "25  We are on apple ecosystem for almost eight yea...  \n",
       "26  I have migrated from OP 7pro... and trust me, ...  \n",
       "27  Superb Product !!!\\nA big and worthy upgrade f...  \n",
       "28  It’s an amazing product from apple and the cam...  \n",
       "29  It's very high performances devise i am like t...  \n",
       "30  After 1 month use I found camera quality best ...  \n",
       "31  awesome phone to have. it has got many smart f...  \n",
       "32  Again back to apple iphone after a gap of 2-3 ...  \n",
       "33  I can say I'm damn impressed with iPhone 11. A...  \n",
       "34  I just directly switch from iphone 6s to iphon...  \n",
       "35  Well while switching from android to iOS the f...  \n",
       "36  Upgraded from iphone 6 to 11 best phone for ip...  \n",
       "37  I am using this phone for 5 days and its one o...  \n",
       "38  Amazing camera and feel super machine I am not...  \n",
       "39  Well you all know the specifications . One of ...  \n",
       "40  The built quality is not very premium.\\nThe ba...  \n",
       "41  This will help you more. See if you are planni...  \n",
       "42  Really good actually this is my first apple pr...  \n",
       "43  it is very good at performance. Camera is best...  \n",
       "44  Reviewing again after 5 months. At the beginni...  \n",
       "45  In love with this iphone great performance,cam...  \n",
       "46  Everything is perfect pictures come out so cle...  \n",
       "47  Amazing camera quality as expected, battery al...  \n",
       "48  Best Quality Product OF iPhone Series , Sound ...  \n",
       "49  First thanks to Flipkart for this amazing deal...  "
      ]
     },
     "execution_count": 313,
     "metadata": {},
     "output_type": "execute_result"
    }
   ],
   "source": [
    "df = pd.DataFrame({'Rating':total_rating,'Review summary':total_com,'Full Review':total_rev})\n",
    "df"
   ]
  },
  {
   "cell_type": "code",
   "execution_count": null,
   "id": "fe7669eb",
   "metadata": {},
   "outputs": [],
   "source": []
  }
 ],
 "metadata": {
  "kernelspec": {
   "display_name": "Python 3 (ipykernel)",
   "language": "python",
   "name": "python3"
  },
  "language_info": {
   "codemirror_mode": {
    "name": "ipython",
    "version": 3
   },
   "file_extension": ".py",
   "mimetype": "text/x-python",
   "name": "python",
   "nbconvert_exporter": "python",
   "pygments_lexer": "ipython3",
   "version": "3.9.7"
  }
 },
 "nbformat": 4,
 "nbformat_minor": 5
}
